{
 "cells": [
  {
   "cell_type": "markdown",
   "id": "767e3939",
   "metadata": {},
   "source": [
    "## Исследование сервиса аренды самокатов\n",
    "Вы аналитик популярного сервиса аренды самокатов GoFast. Вам передали данные о некоторых пользователях из нескольких городов, а также об их поездках. Проанализируйте данные и проверьте некоторые гипотезы, которые могут помочь бизнесу вырасти.\\\n",
    "Чтобы совершать поездки по городу, пользователи сервиса GoFast пользуются мобильным приложением. Сервисом можно пользоваться:\n",
    "- **без подписки**\n",
    "- абонентская плата отсутствует;\n",
    "- стоимость одной минуты поездки — 8 рублей;\n",
    "- стоимость старта (начала поездки) — 50 рублей;\n",
    "- **с подпиской Ultra**\n",
    "- абонентская плата — 199 рублей в месяц;\n",
    "- стоимость одной минуты поездки — 6 рублей;\n",
    "- стоимость старта — бесплатно."
   ]
  },
  {
   "cell_type": "code",
   "execution_count": 1,
   "id": "72576667",
   "metadata": {},
   "outputs": [],
   "source": [
    "import pandas as pd\n",
    "import matplotlib.pyplot as plt\n",
    "import seaborn as sns\n",
    "from scipy import stats as st"
   ]
  },
  {
   "cell_type": "markdown",
   "id": "c42cbe00",
   "metadata": {},
   "source": [
    "#### Шаг 1. Загрузка данных"
   ]
  },
  {
   "cell_type": "code",
   "execution_count": 2,
   "id": "eff9f206",
   "metadata": {},
   "outputs": [],
   "source": [
    "users_df = pd.read_csv('C:\\\\Users\\\\jmilo\\\\OneDrive\\\\Рабочий стол\\\\Яндекс.Практикум\\\\Самокаты\\\\проект\\\\users_go.csv')\n",
    "rides_df = pd.read_csv('C:\\\\Users\\\\jmilo\\OneDrive\\\\Рабочий стол\\\\Яндекс.Практикум\\\\Самокаты\\\\проект\\\\rides_go.csv', parse_dates=['date'])\n",
    "subscriptions_df = pd.read_csv('C:\\\\Users\\\\jmilo\\\\OneDrive\\\\Рабочий стол\\\\Яндекс.Практикум\\\\Самокаты\\\\проект\\\\subscriptions_go.csv')"
   ]
  },
  {
   "cell_type": "code",
   "execution_count": 3,
   "id": "87ea8e81",
   "metadata": {
    "scrolled": true
   },
   "outputs": [
    {
     "name": "stdout",
     "output_type": "stream",
     "text": [
      "<class 'pandas.core.frame.DataFrame'>\n",
      "RangeIndex: 1565 entries, 0 to 1564\n",
      "Data columns (total 5 columns):\n",
      " #   Column             Non-Null Count  Dtype \n",
      "---  ------             --------------  ----- \n",
      " 0   user_id            1565 non-null   int64 \n",
      " 1   name               1565 non-null   object\n",
      " 2   age                1565 non-null   int64 \n",
      " 3   city               1565 non-null   object\n",
      " 4   subscription_type  1565 non-null   object\n",
      "dtypes: int64(2), object(3)\n",
      "memory usage: 61.3+ KB\n"
     ]
    },
    {
     "data": {
      "text/html": [
       "<div>\n",
       "<style scoped>\n",
       "    .dataframe tbody tr th:only-of-type {\n",
       "        vertical-align: middle;\n",
       "    }\n",
       "\n",
       "    .dataframe tbody tr th {\n",
       "        vertical-align: top;\n",
       "    }\n",
       "\n",
       "    .dataframe thead th {\n",
       "        text-align: right;\n",
       "    }\n",
       "</style>\n",
       "<table border=\"1\" class=\"dataframe\">\n",
       "  <thead>\n",
       "    <tr style=\"text-align: right;\">\n",
       "      <th></th>\n",
       "      <th>user_id</th>\n",
       "      <th>name</th>\n",
       "      <th>age</th>\n",
       "      <th>city</th>\n",
       "      <th>subscription_type</th>\n",
       "    </tr>\n",
       "  </thead>\n",
       "  <tbody>\n",
       "    <tr>\n",
       "      <th>0</th>\n",
       "      <td>1</td>\n",
       "      <td>Кира</td>\n",
       "      <td>22</td>\n",
       "      <td>Тюмень</td>\n",
       "      <td>ultra</td>\n",
       "    </tr>\n",
       "    <tr>\n",
       "      <th>1</th>\n",
       "      <td>2</td>\n",
       "      <td>Станислав</td>\n",
       "      <td>31</td>\n",
       "      <td>Омск</td>\n",
       "      <td>ultra</td>\n",
       "    </tr>\n",
       "    <tr>\n",
       "      <th>2</th>\n",
       "      <td>3</td>\n",
       "      <td>Алексей</td>\n",
       "      <td>20</td>\n",
       "      <td>Москва</td>\n",
       "      <td>ultra</td>\n",
       "    </tr>\n",
       "    <tr>\n",
       "      <th>3</th>\n",
       "      <td>4</td>\n",
       "      <td>Константин</td>\n",
       "      <td>26</td>\n",
       "      <td>Ростов-на-Дону</td>\n",
       "      <td>ultra</td>\n",
       "    </tr>\n",
       "    <tr>\n",
       "      <th>4</th>\n",
       "      <td>5</td>\n",
       "      <td>Адель</td>\n",
       "      <td>28</td>\n",
       "      <td>Омск</td>\n",
       "      <td>ultra</td>\n",
       "    </tr>\n",
       "  </tbody>\n",
       "</table>\n",
       "</div>"
      ],
      "text/plain": [
       "   user_id        name  age            city subscription_type\n",
       "0        1        Кира   22          Тюмень             ultra\n",
       "1        2   Станислав   31            Омск             ultra\n",
       "2        3     Алексей   20          Москва             ultra\n",
       "3        4  Константин   26  Ростов-на-Дону             ultra\n",
       "4        5       Адель   28            Омск             ultra"
      ]
     },
     "execution_count": 3,
     "metadata": {},
     "output_type": "execute_result"
    }
   ],
   "source": [
    "users_df.info()\n",
    "users_df.head()"
   ]
  },
  {
   "cell_type": "code",
   "execution_count": 4,
   "id": "9f2016f3",
   "metadata": {},
   "outputs": [
    {
     "name": "stdout",
     "output_type": "stream",
     "text": [
      "<class 'pandas.core.frame.DataFrame'>\n",
      "RangeIndex: 18068 entries, 0 to 18067\n",
      "Data columns (total 4 columns):\n",
      " #   Column    Non-Null Count  Dtype         \n",
      "---  ------    --------------  -----         \n",
      " 0   user_id   18068 non-null  int64         \n",
      " 1   distance  18068 non-null  float64       \n",
      " 2   duration  18068 non-null  float64       \n",
      " 3   date      18068 non-null  datetime64[ns]\n",
      "dtypes: datetime64[ns](1), float64(2), int64(1)\n",
      "memory usage: 564.8 KB\n"
     ]
    },
    {
     "data": {
      "text/html": [
       "<div>\n",
       "<style scoped>\n",
       "    .dataframe tbody tr th:only-of-type {\n",
       "        vertical-align: middle;\n",
       "    }\n",
       "\n",
       "    .dataframe tbody tr th {\n",
       "        vertical-align: top;\n",
       "    }\n",
       "\n",
       "    .dataframe thead th {\n",
       "        text-align: right;\n",
       "    }\n",
       "</style>\n",
       "<table border=\"1\" class=\"dataframe\">\n",
       "  <thead>\n",
       "    <tr style=\"text-align: right;\">\n",
       "      <th></th>\n",
       "      <th>user_id</th>\n",
       "      <th>distance</th>\n",
       "      <th>duration</th>\n",
       "      <th>date</th>\n",
       "    </tr>\n",
       "  </thead>\n",
       "  <tbody>\n",
       "    <tr>\n",
       "      <th>0</th>\n",
       "      <td>1</td>\n",
       "      <td>4409.919140</td>\n",
       "      <td>25.599769</td>\n",
       "      <td>2021-01-01</td>\n",
       "    </tr>\n",
       "    <tr>\n",
       "      <th>1</th>\n",
       "      <td>1</td>\n",
       "      <td>2617.592153</td>\n",
       "      <td>15.816871</td>\n",
       "      <td>2021-01-18</td>\n",
       "    </tr>\n",
       "    <tr>\n",
       "      <th>2</th>\n",
       "      <td>1</td>\n",
       "      <td>754.159807</td>\n",
       "      <td>6.232113</td>\n",
       "      <td>2021-04-20</td>\n",
       "    </tr>\n",
       "    <tr>\n",
       "      <th>3</th>\n",
       "      <td>1</td>\n",
       "      <td>2694.783254</td>\n",
       "      <td>18.511000</td>\n",
       "      <td>2021-08-11</td>\n",
       "    </tr>\n",
       "    <tr>\n",
       "      <th>4</th>\n",
       "      <td>1</td>\n",
       "      <td>4028.687306</td>\n",
       "      <td>26.265803</td>\n",
       "      <td>2021-08-28</td>\n",
       "    </tr>\n",
       "  </tbody>\n",
       "</table>\n",
       "</div>"
      ],
      "text/plain": [
       "   user_id     distance   duration       date\n",
       "0        1  4409.919140  25.599769 2021-01-01\n",
       "1        1  2617.592153  15.816871 2021-01-18\n",
       "2        1   754.159807   6.232113 2021-04-20\n",
       "3        1  2694.783254  18.511000 2021-08-11\n",
       "4        1  4028.687306  26.265803 2021-08-28"
      ]
     },
     "execution_count": 4,
     "metadata": {},
     "output_type": "execute_result"
    }
   ],
   "source": [
    "rides_df.info()\n",
    "rides_df.head()"
   ]
  },
  {
   "cell_type": "code",
   "execution_count": 5,
   "id": "04dcf742",
   "metadata": {},
   "outputs": [
    {
     "name": "stdout",
     "output_type": "stream",
     "text": [
      "<class 'pandas.core.frame.DataFrame'>\n",
      "RangeIndex: 2 entries, 0 to 1\n",
      "Data columns (total 4 columns):\n",
      " #   Column             Non-Null Count  Dtype \n",
      "---  ------             --------------  ----- \n",
      " 0   subscription_type  2 non-null      object\n",
      " 1   minute_price       2 non-null      int64 \n",
      " 2   start_ride_price   2 non-null      int64 \n",
      " 3   subscription_fee   2 non-null      int64 \n",
      "dtypes: int64(3), object(1)\n",
      "memory usage: 192.0+ bytes\n"
     ]
    },
    {
     "data": {
      "text/html": [
       "<div>\n",
       "<style scoped>\n",
       "    .dataframe tbody tr th:only-of-type {\n",
       "        vertical-align: middle;\n",
       "    }\n",
       "\n",
       "    .dataframe tbody tr th {\n",
       "        vertical-align: top;\n",
       "    }\n",
       "\n",
       "    .dataframe thead th {\n",
       "        text-align: right;\n",
       "    }\n",
       "</style>\n",
       "<table border=\"1\" class=\"dataframe\">\n",
       "  <thead>\n",
       "    <tr style=\"text-align: right;\">\n",
       "      <th></th>\n",
       "      <th>subscription_type</th>\n",
       "      <th>minute_price</th>\n",
       "      <th>start_ride_price</th>\n",
       "      <th>subscription_fee</th>\n",
       "    </tr>\n",
       "  </thead>\n",
       "  <tbody>\n",
       "    <tr>\n",
       "      <th>0</th>\n",
       "      <td>free</td>\n",
       "      <td>8</td>\n",
       "      <td>50</td>\n",
       "      <td>0</td>\n",
       "    </tr>\n",
       "    <tr>\n",
       "      <th>1</th>\n",
       "      <td>ultra</td>\n",
       "      <td>6</td>\n",
       "      <td>0</td>\n",
       "      <td>199</td>\n",
       "    </tr>\n",
       "  </tbody>\n",
       "</table>\n",
       "</div>"
      ],
      "text/plain": [
       "  subscription_type  minute_price  start_ride_price  subscription_fee\n",
       "0              free             8                50                 0\n",
       "1             ultra             6                 0               199"
      ]
     },
     "execution_count": 5,
     "metadata": {},
     "output_type": "execute_result"
    }
   ],
   "source": [
    "subscriptions_df.info()\n",
    "subscriptions_df.head()"
   ]
  },
  {
   "cell_type": "markdown",
   "id": "b44fe497",
   "metadata": {},
   "source": [
    "**Вывод**: ознакомились с данными. Данные о пользователях состоят из 1565 строк, пропусков нет. Данные о поездках содержат 18068 строк, пропусков нет, при чтении файла привели столбец date к формату даты, также в соответствии с заданием необходимо округлить по \"потолку\" значения в столбце duration. Данные о подписках состоят из 2 строк, пропусков и повторов нет."
   ]
  },
  {
   "cell_type": "markdown",
   "id": "e95ebca7",
   "metadata": {},
   "source": [
    "#### Шаг 2. Предобработка данных"
   ]
  },
  {
   "cell_type": "code",
   "execution_count": 6,
   "id": "e0124a5c",
   "metadata": {},
   "outputs": [],
   "source": [
    "#Создадим новый столбец с номером месяца\n",
    "rides_df['month'] = rides_df['date'].dt.month"
   ]
  },
  {
   "cell_type": "code",
   "execution_count": 7,
   "id": "84493ee1",
   "metadata": {},
   "outputs": [
    {
     "data": {
      "text/html": [
       "<div>\n",
       "<style scoped>\n",
       "    .dataframe tbody tr th:only-of-type {\n",
       "        vertical-align: middle;\n",
       "    }\n",
       "\n",
       "    .dataframe tbody tr th {\n",
       "        vertical-align: top;\n",
       "    }\n",
       "\n",
       "    .dataframe thead th {\n",
       "        text-align: right;\n",
       "    }\n",
       "</style>\n",
       "<table border=\"1\" class=\"dataframe\">\n",
       "  <thead>\n",
       "    <tr style=\"text-align: right;\">\n",
       "      <th></th>\n",
       "      <th>user_id</th>\n",
       "      <th>distance</th>\n",
       "      <th>duration</th>\n",
       "      <th>date</th>\n",
       "      <th>month</th>\n",
       "    </tr>\n",
       "  </thead>\n",
       "  <tbody>\n",
       "    <tr>\n",
       "      <th>0</th>\n",
       "      <td>1</td>\n",
       "      <td>4409.919140</td>\n",
       "      <td>25.599769</td>\n",
       "      <td>2021-01-01</td>\n",
       "      <td>1</td>\n",
       "    </tr>\n",
       "    <tr>\n",
       "      <th>1</th>\n",
       "      <td>1</td>\n",
       "      <td>2617.592153</td>\n",
       "      <td>15.816871</td>\n",
       "      <td>2021-01-18</td>\n",
       "      <td>1</td>\n",
       "    </tr>\n",
       "    <tr>\n",
       "      <th>2</th>\n",
       "      <td>1</td>\n",
       "      <td>754.159807</td>\n",
       "      <td>6.232113</td>\n",
       "      <td>2021-04-20</td>\n",
       "      <td>4</td>\n",
       "    </tr>\n",
       "    <tr>\n",
       "      <th>3</th>\n",
       "      <td>1</td>\n",
       "      <td>2694.783254</td>\n",
       "      <td>18.511000</td>\n",
       "      <td>2021-08-11</td>\n",
       "      <td>8</td>\n",
       "    </tr>\n",
       "    <tr>\n",
       "      <th>4</th>\n",
       "      <td>1</td>\n",
       "      <td>4028.687306</td>\n",
       "      <td>26.265803</td>\n",
       "      <td>2021-08-28</td>\n",
       "      <td>8</td>\n",
       "    </tr>\n",
       "  </tbody>\n",
       "</table>\n",
       "</div>"
      ],
      "text/plain": [
       "   user_id     distance   duration       date  month\n",
       "0        1  4409.919140  25.599769 2021-01-01      1\n",
       "1        1  2617.592153  15.816871 2021-01-18      1\n",
       "2        1   754.159807   6.232113 2021-04-20      4\n",
       "3        1  2694.783254  18.511000 2021-08-11      8\n",
       "4        1  4028.687306  26.265803 2021-08-28      8"
      ]
     },
     "execution_count": 7,
     "metadata": {},
     "output_type": "execute_result"
    }
   ],
   "source": [
    "# Проверим\n",
    "rides_df.head()"
   ]
  },
  {
   "cell_type": "code",
   "execution_count": 8,
   "id": "5eb05db7",
   "metadata": {},
   "outputs": [
    {
     "data": {
      "text/plain": [
       "user_id              0\n",
       "name                 0\n",
       "age                  0\n",
       "city                 0\n",
       "subscription_type    0\n",
       "dtype: int64"
      ]
     },
     "execution_count": 8,
     "metadata": {},
     "output_type": "execute_result"
    }
   ],
   "source": [
    "# Проверим пропущенные значения в users_df\n",
    "users_df.isna().sum()"
   ]
  },
  {
   "cell_type": "code",
   "execution_count": 9,
   "id": "1adfe019",
   "metadata": {
    "scrolled": true
   },
   "outputs": [
    {
     "data": {
      "text/plain": [
       "user_id     0\n",
       "distance    0\n",
       "duration    0\n",
       "date        0\n",
       "month       0\n",
       "dtype: int64"
      ]
     },
     "execution_count": 9,
     "metadata": {},
     "output_type": "execute_result"
    }
   ],
   "source": [
    "# Проверим пропущенные значения в rides_df\n",
    "rides_df.isna().sum()"
   ]
  },
  {
   "cell_type": "markdown",
   "id": "02b14a46",
   "metadata": {},
   "source": [
    "Пропущенных значений нет"
   ]
  },
  {
   "cell_type": "code",
   "execution_count": 10,
   "id": "57071bf3",
   "metadata": {},
   "outputs": [
    {
     "name": "stdout",
     "output_type": "stream",
     "text": [
      "31\n"
     ]
    }
   ],
   "source": [
    "# Проверим дубликаты в данных пользователей\n",
    "print(users_df.duplicated().sum())"
   ]
  },
  {
   "cell_type": "code",
   "execution_count": 11,
   "id": "6dce73cc",
   "metadata": {
    "scrolled": true
   },
   "outputs": [
    {
     "data": {
      "text/html": [
       "<div>\n",
       "<style scoped>\n",
       "    .dataframe tbody tr th:only-of-type {\n",
       "        vertical-align: middle;\n",
       "    }\n",
       "\n",
       "    .dataframe tbody tr th {\n",
       "        vertical-align: top;\n",
       "    }\n",
       "\n",
       "    .dataframe thead th {\n",
       "        text-align: right;\n",
       "    }\n",
       "</style>\n",
       "<table border=\"1\" class=\"dataframe\">\n",
       "  <thead>\n",
       "    <tr style=\"text-align: right;\">\n",
       "      <th></th>\n",
       "      <th>user_id</th>\n",
       "      <th>name</th>\n",
       "      <th>age</th>\n",
       "      <th>city</th>\n",
       "      <th>subscription_type</th>\n",
       "    </tr>\n",
       "  </thead>\n",
       "  <tbody>\n",
       "    <tr>\n",
       "      <th>1534</th>\n",
       "      <td>293</td>\n",
       "      <td>Агата</td>\n",
       "      <td>26</td>\n",
       "      <td>Краснодар</td>\n",
       "      <td>ultra</td>\n",
       "    </tr>\n",
       "    <tr>\n",
       "      <th>1535</th>\n",
       "      <td>16</td>\n",
       "      <td>Амалия</td>\n",
       "      <td>27</td>\n",
       "      <td>Краснодар</td>\n",
       "      <td>ultra</td>\n",
       "    </tr>\n",
       "    <tr>\n",
       "      <th>1536</th>\n",
       "      <td>909</td>\n",
       "      <td>Константин</td>\n",
       "      <td>20</td>\n",
       "      <td>Екатеринбург</td>\n",
       "      <td>free</td>\n",
       "    </tr>\n",
       "    <tr>\n",
       "      <th>1537</th>\n",
       "      <td>403</td>\n",
       "      <td>Полина</td>\n",
       "      <td>19</td>\n",
       "      <td>Сочи</td>\n",
       "      <td>ultra</td>\n",
       "    </tr>\n",
       "    <tr>\n",
       "      <th>1538</th>\n",
       "      <td>908</td>\n",
       "      <td>Рустам</td>\n",
       "      <td>30</td>\n",
       "      <td>Тюмень</td>\n",
       "      <td>free</td>\n",
       "    </tr>\n",
       "    <tr>\n",
       "      <th>1539</th>\n",
       "      <td>43</td>\n",
       "      <td>Стефания</td>\n",
       "      <td>22</td>\n",
       "      <td>Омск</td>\n",
       "      <td>ultra</td>\n",
       "    </tr>\n",
       "    <tr>\n",
       "      <th>1540</th>\n",
       "      <td>127</td>\n",
       "      <td>Павел</td>\n",
       "      <td>25</td>\n",
       "      <td>Пятигорск</td>\n",
       "      <td>ultra</td>\n",
       "    </tr>\n",
       "    <tr>\n",
       "      <th>1541</th>\n",
       "      <td>659</td>\n",
       "      <td>Злата</td>\n",
       "      <td>27</td>\n",
       "      <td>Ростов-на-Дону</td>\n",
       "      <td>ultra</td>\n",
       "    </tr>\n",
       "    <tr>\n",
       "      <th>1542</th>\n",
       "      <td>204</td>\n",
       "      <td>Руслан</td>\n",
       "      <td>30</td>\n",
       "      <td>Пятигорск</td>\n",
       "      <td>ultra</td>\n",
       "    </tr>\n",
       "    <tr>\n",
       "      <th>1543</th>\n",
       "      <td>153</td>\n",
       "      <td>Герман</td>\n",
       "      <td>23</td>\n",
       "      <td>Москва</td>\n",
       "      <td>ultra</td>\n",
       "    </tr>\n",
       "    <tr>\n",
       "      <th>1544</th>\n",
       "      <td>1245</td>\n",
       "      <td>Регина</td>\n",
       "      <td>27</td>\n",
       "      <td>Пятигорск</td>\n",
       "      <td>free</td>\n",
       "    </tr>\n",
       "    <tr>\n",
       "      <th>1545</th>\n",
       "      <td>807</td>\n",
       "      <td>Александр</td>\n",
       "      <td>28</td>\n",
       "      <td>Екатеринбург</td>\n",
       "      <td>free</td>\n",
       "    </tr>\n",
       "    <tr>\n",
       "      <th>1546</th>\n",
       "      <td>924</td>\n",
       "      <td>Мария</td>\n",
       "      <td>23</td>\n",
       "      <td>Пятигорск</td>\n",
       "      <td>free</td>\n",
       "    </tr>\n",
       "    <tr>\n",
       "      <th>1547</th>\n",
       "      <td>635</td>\n",
       "      <td>Герман</td>\n",
       "      <td>21</td>\n",
       "      <td>Москва</td>\n",
       "      <td>ultra</td>\n",
       "    </tr>\n",
       "    <tr>\n",
       "      <th>1548</th>\n",
       "      <td>136</td>\n",
       "      <td>Марсель</td>\n",
       "      <td>25</td>\n",
       "      <td>Тюмень</td>\n",
       "      <td>ultra</td>\n",
       "    </tr>\n",
       "    <tr>\n",
       "      <th>1549</th>\n",
       "      <td>108</td>\n",
       "      <td>Влада</td>\n",
       "      <td>29</td>\n",
       "      <td>Тюмень</td>\n",
       "      <td>ultra</td>\n",
       "    </tr>\n",
       "    <tr>\n",
       "      <th>1550</th>\n",
       "      <td>737</td>\n",
       "      <td>Мелания</td>\n",
       "      <td>27</td>\n",
       "      <td>Ростов-на-Дону</td>\n",
       "      <td>free</td>\n",
       "    </tr>\n",
       "    <tr>\n",
       "      <th>1551</th>\n",
       "      <td>666</td>\n",
       "      <td>Зарина</td>\n",
       "      <td>29</td>\n",
       "      <td>Москва</td>\n",
       "      <td>ultra</td>\n",
       "    </tr>\n",
       "    <tr>\n",
       "      <th>1552</th>\n",
       "      <td>297</td>\n",
       "      <td>Егор</td>\n",
       "      <td>33</td>\n",
       "      <td>Пятигорск</td>\n",
       "      <td>ultra</td>\n",
       "    </tr>\n",
       "    <tr>\n",
       "      <th>1553</th>\n",
       "      <td>121</td>\n",
       "      <td>Алина</td>\n",
       "      <td>25</td>\n",
       "      <td>Пятигорск</td>\n",
       "      <td>ultra</td>\n",
       "    </tr>\n",
       "    <tr>\n",
       "      <th>1554</th>\n",
       "      <td>1198</td>\n",
       "      <td>Демид</td>\n",
       "      <td>29</td>\n",
       "      <td>Ростов-на-Дону</td>\n",
       "      <td>free</td>\n",
       "    </tr>\n",
       "    <tr>\n",
       "      <th>1555</th>\n",
       "      <td>72</td>\n",
       "      <td>Никита</td>\n",
       "      <td>25</td>\n",
       "      <td>Москва</td>\n",
       "      <td>ultra</td>\n",
       "    </tr>\n",
       "    <tr>\n",
       "      <th>1556</th>\n",
       "      <td>422</td>\n",
       "      <td>Кирилл</td>\n",
       "      <td>27</td>\n",
       "      <td>Сочи</td>\n",
       "      <td>ultra</td>\n",
       "    </tr>\n",
       "    <tr>\n",
       "      <th>1557</th>\n",
       "      <td>611</td>\n",
       "      <td>Владимир</td>\n",
       "      <td>28</td>\n",
       "      <td>Омск</td>\n",
       "      <td>ultra</td>\n",
       "    </tr>\n",
       "    <tr>\n",
       "      <th>1558</th>\n",
       "      <td>1237</td>\n",
       "      <td>Евгения</td>\n",
       "      <td>23</td>\n",
       "      <td>Тюмень</td>\n",
       "      <td>free</td>\n",
       "    </tr>\n",
       "    <tr>\n",
       "      <th>1559</th>\n",
       "      <td>209</td>\n",
       "      <td>Андрей</td>\n",
       "      <td>23</td>\n",
       "      <td>Омск</td>\n",
       "      <td>ultra</td>\n",
       "    </tr>\n",
       "    <tr>\n",
       "      <th>1560</th>\n",
       "      <td>829</td>\n",
       "      <td>Федор</td>\n",
       "      <td>29</td>\n",
       "      <td>Пятигорск</td>\n",
       "      <td>free</td>\n",
       "    </tr>\n",
       "    <tr>\n",
       "      <th>1561</th>\n",
       "      <td>809</td>\n",
       "      <td>Юрий</td>\n",
       "      <td>26</td>\n",
       "      <td>Сочи</td>\n",
       "      <td>free</td>\n",
       "    </tr>\n",
       "    <tr>\n",
       "      <th>1562</th>\n",
       "      <td>307</td>\n",
       "      <td>Ясмина</td>\n",
       "      <td>19</td>\n",
       "      <td>Краснодар</td>\n",
       "      <td>ultra</td>\n",
       "    </tr>\n",
       "    <tr>\n",
       "      <th>1563</th>\n",
       "      <td>47</td>\n",
       "      <td>Юрий</td>\n",
       "      <td>28</td>\n",
       "      <td>Тюмень</td>\n",
       "      <td>ultra</td>\n",
       "    </tr>\n",
       "    <tr>\n",
       "      <th>1564</th>\n",
       "      <td>1045</td>\n",
       "      <td>Артемий</td>\n",
       "      <td>28</td>\n",
       "      <td>Ростов-на-Дону</td>\n",
       "      <td>free</td>\n",
       "    </tr>\n",
       "  </tbody>\n",
       "</table>\n",
       "</div>"
      ],
      "text/plain": [
       "      user_id        name  age            city subscription_type\n",
       "1534      293       Агата   26       Краснодар             ultra\n",
       "1535       16      Амалия   27       Краснодар             ultra\n",
       "1536      909  Константин   20    Екатеринбург              free\n",
       "1537      403      Полина   19            Сочи             ultra\n",
       "1538      908      Рустам   30          Тюмень              free\n",
       "1539       43    Стефания   22            Омск             ultra\n",
       "1540      127       Павел   25       Пятигорск             ultra\n",
       "1541      659       Злата   27  Ростов-на-Дону             ultra\n",
       "1542      204      Руслан   30       Пятигорск             ultra\n",
       "1543      153      Герман   23          Москва             ultra\n",
       "1544     1245      Регина   27       Пятигорск              free\n",
       "1545      807   Александр   28    Екатеринбург              free\n",
       "1546      924       Мария   23       Пятигорск              free\n",
       "1547      635      Герман   21          Москва             ultra\n",
       "1548      136     Марсель   25          Тюмень             ultra\n",
       "1549      108       Влада   29          Тюмень             ultra\n",
       "1550      737     Мелания   27  Ростов-на-Дону              free\n",
       "1551      666      Зарина   29          Москва             ultra\n",
       "1552      297        Егор   33       Пятигорск             ultra\n",
       "1553      121       Алина   25       Пятигорск             ultra\n",
       "1554     1198       Демид   29  Ростов-на-Дону              free\n",
       "1555       72      Никита   25          Москва             ultra\n",
       "1556      422      Кирилл   27            Сочи             ultra\n",
       "1557      611    Владимир   28            Омск             ultra\n",
       "1558     1237     Евгения   23          Тюмень              free\n",
       "1559      209      Андрей   23            Омск             ultra\n",
       "1560      829       Федор   29       Пятигорск              free\n",
       "1561      809        Юрий   26            Сочи              free\n",
       "1562      307      Ясмина   19       Краснодар             ultra\n",
       "1563       47        Юрий   28          Тюмень             ultra\n",
       "1564     1045     Артемий   28  Ростов-на-Дону              free"
      ]
     },
     "execution_count": 11,
     "metadata": {},
     "output_type": "execute_result"
    }
   ],
   "source": [
    "duplicate_users = users_df[users_df.duplicated()]\n",
    "duplicate_users"
   ]
  },
  {
   "cell_type": "code",
   "execution_count": 12,
   "id": "3f95b1bb",
   "metadata": {},
   "outputs": [],
   "source": [
    "# Удалим дубликаты\n",
    "users_df = users_df.drop_duplicates()"
   ]
  },
  {
   "cell_type": "code",
   "execution_count": 13,
   "id": "1bc31b07",
   "metadata": {
    "scrolled": true
   },
   "outputs": [
    {
     "name": "stdout",
     "output_type": "stream",
     "text": [
      "0\n"
     ]
    }
   ],
   "source": [
    "# Проверяем\n",
    "print(users_df.duplicated().sum())"
   ]
  },
  {
   "cell_type": "code",
   "execution_count": 14,
   "id": "ca5ad844",
   "metadata": {},
   "outputs": [
    {
     "name": "stdout",
     "output_type": "stream",
     "text": [
      "0\n"
     ]
    }
   ],
   "source": [
    "# Проверим дубликаты в данных о поездках\n",
    "print(rides_df.duplicated().sum())"
   ]
  },
  {
   "cell_type": "markdown",
   "id": "9c8e02ef",
   "metadata": {},
   "source": [
    "**Вывод:** создан столбец с номером месяца. Устранены дубликаты данных."
   ]
  },
  {
   "cell_type": "markdown",
   "id": "212593c7",
   "metadata": {},
   "source": [
    "#### Шаг 3. Исследовательский анализ данных"
   ]
  },
  {
   "cell_type": "markdown",
   "id": "04e05b4c",
   "metadata": {},
   "source": [
    "**Частота встречаемости городов**"
   ]
  },
  {
   "cell_type": "code",
   "execution_count": 15,
   "id": "6d1247a1",
   "metadata": {},
   "outputs": [
    {
     "data": {
      "image/png": "[encoded data removed]",
      "text/plain": [
       "<Figure size 1000x900 with 1 Axes>"
      ]
     },
     "metadata": {},
     "output_type": "display_data"
    }
   ],
   "source": [
    "users_df['city'].hist(bins=20, grid=False, figsize=(10,9));"
   ]
  },
  {
   "cell_type": "markdown",
   "id": "58d0996d",
   "metadata": {},
   "source": [
    "Больше всего пользователей в Пятигорске и Екатеринбурге. Меньше всего в Москве."
   ]
  },
  {
   "cell_type": "markdown",
   "id": "1128104a",
   "metadata": {},
   "source": [
    "**Соотношение пользователей с подпиской и без подписки**"
   ]
  },
  {
   "cell_type": "code",
   "execution_count": 16,
   "id": "acd042fe",
   "metadata": {},
   "outputs": [
    {
     "name": "stdout",
     "output_type": "stream",
     "text": [
      "Количество пользователей без подписки: 835\n",
      "Количество пользователей c подпиской: 699\n"
     ]
    }
   ],
   "source": [
    "# Посчитаем количество пользователей в категориях\n",
    "users_ultra_count = users_df.query('subscription_type == \"ultra\"')['user_id'].count()\n",
    "users_free_count = users_df.query('subscription_type == \"free\"')['user_id'].count()\n",
    "print(f'Количество пользователей без подписки: {users_free_count}')\n",
    "print(f'Количество пользователей c подпиской: {users_ultra_count}')"
   ]
  },
  {
   "cell_type": "code",
   "execution_count": 17,
   "id": "6d5ce127",
   "metadata": {},
   "outputs": [
    {
     "data": {
      "image/png": "[encoded data removed]",
      "text/plain": [
       "<Figure size 640x480 with 1 Axes>"
      ]
     },
     "metadata": {},
     "output_type": "display_data"
    }
   ],
   "source": [
    "count_users = [835, 699]\n",
    "labels = ['без подписки', 'c подпиской']\n",
    "plt.pie(count_users, labels=labels, autopct='%1.1f%%')\n",
    "plt.title('Соотношение пользователей с подпиской и без')\n",
    "plt.show()"
   ]
  },
  {
   "cell_type": "markdown",
   "id": "1d4833c5",
   "metadata": {},
   "source": [
    "Пользователей без подписки (835) больше, чем пользователей с подпиской (699). Доля пользователей без подписки 54,4%, с подпиской 45,6%. "
   ]
  },
  {
   "cell_type": "markdown",
   "id": "743d0b9f",
   "metadata": {},
   "source": [
    "**Возраст пользователей**"
   ]
  },
  {
   "cell_type": "code",
   "execution_count": 18,
   "id": "5a317fc7",
   "metadata": {},
   "outputs": [
    {
     "data": {
      "image/png": "[encoded data removed]",
      "text/plain": [
       "<Figure size 640x480 with 1 Axes>"
      ]
     },
     "metadata": {},
     "output_type": "display_data"
    }
   ],
   "source": [
    "users_df['age'].hist(bins=30);"
   ]
  },
  {
   "cell_type": "markdown",
   "id": "f1d29f0f",
   "metadata": {},
   "source": [
    "Большинство пользователей в возрасте от 22 до 28 лет."
   ]
  },
  {
   "cell_type": "code",
   "execution_count": 19,
   "id": "3bf5da0e",
   "metadata": {},
   "outputs": [
    {
     "data": {
      "text/plain": [
       "24.903520208604956"
      ]
     },
     "execution_count": 19,
     "metadata": {},
     "output_type": "execute_result"
    }
   ],
   "source": [
    "# Посмотрим средний возраст пользователей\n",
    "users_df['age'].mean()"
   ]
  },
  {
   "cell_type": "code",
   "execution_count": 20,
   "id": "af0959c4",
   "metadata": {},
   "outputs": [
    {
     "data": {
      "text/plain": [
       "count    1534.000000\n",
       "mean       24.903520\n",
       "std         4.572367\n",
       "min        12.000000\n",
       "25%        22.000000\n",
       "50%        25.000000\n",
       "75%        28.000000\n",
       "max        43.000000\n",
       "Name: age, dtype: float64"
      ]
     },
     "execution_count": 20,
     "metadata": {},
     "output_type": "execute_result"
    }
   ],
   "source": [
    "# Посмотрим статистические данные столбца age\n",
    "users_df['age'].describe()"
   ]
  },
  {
   "cell_type": "code",
   "execution_count": 21,
   "id": "e000802a",
   "metadata": {},
   "outputs": [
    {
     "data": {
      "image/png": "[encoded data removed]",
      "text/plain": [
       "<Figure size 700x500 with 1 Axes>"
      ]
     },
     "metadata": {},
     "output_type": "display_data"
    }
   ],
   "source": [
    "# Построим диаграмму размаха возраста пользователей\n",
    "users_df.boxplot(column='age', figsize=(7, 5))\n",
    "plt.title('Диаграмма размаха возраста пользователей')\n",
    "plt.ylabel('лет')\n",
    "plt.show()"
   ]
  },
  {
   "cell_type": "markdown",
   "id": "ce7a51fc",
   "metadata": {},
   "source": [
    "Как видно из гистограммы, возраст пользователей имеет нормальное распределение. Основная часть пользователей находится в диапозоне от 9 до 36 лет. Минимальный возраст 12 лет, максимальный 43 года. Средний возраст пользователей 25 лет, медиана совпадает. Стандартное отклонение от среднего возраста - 4,5 года. Значения ниже 9 лет и выше 36 - выбросы."
   ]
  },
  {
   "cell_type": "markdown",
   "id": "efe5db88",
   "metadata": {},
   "source": [
    "**Расстояние, которое пользователь преодолел за одну поездку**"
   ]
  },
  {
   "cell_type": "code",
   "execution_count": 22,
   "id": "9f5d11fb",
   "metadata": {},
   "outputs": [
    {
     "data": {
      "text/html": [
       "<div>\n",
       "<style scoped>\n",
       "    .dataframe tbody tr th:only-of-type {\n",
       "        vertical-align: middle;\n",
       "    }\n",
       "\n",
       "    .dataframe tbody tr th {\n",
       "        vertical-align: top;\n",
       "    }\n",
       "\n",
       "    .dataframe thead th {\n",
       "        text-align: right;\n",
       "    }\n",
       "</style>\n",
       "<table border=\"1\" class=\"dataframe\">\n",
       "  <thead>\n",
       "    <tr style=\"text-align: right;\">\n",
       "      <th></th>\n",
       "      <th>distance</th>\n",
       "    </tr>\n",
       "    <tr>\n",
       "      <th>user_id</th>\n",
       "      <th></th>\n",
       "    </tr>\n",
       "  </thead>\n",
       "  <tbody>\n",
       "    <tr>\n",
       "      <th>1</th>\n",
       "      <td>2839.181839</td>\n",
       "    </tr>\n",
       "    <tr>\n",
       "      <th>2</th>\n",
       "      <td>3087.641692</td>\n",
       "    </tr>\n",
       "    <tr>\n",
       "      <th>3</th>\n",
       "      <td>3075.633155</td>\n",
       "    </tr>\n",
       "    <tr>\n",
       "      <th>4</th>\n",
       "      <td>3202.656423</td>\n",
       "    </tr>\n",
       "    <tr>\n",
       "      <th>5</th>\n",
       "      <td>3232.449968</td>\n",
       "    </tr>\n",
       "    <tr>\n",
       "      <th>...</th>\n",
       "      <td>...</td>\n",
       "    </tr>\n",
       "    <tr>\n",
       "      <th>1530</th>\n",
       "      <td>2750.498225</td>\n",
       "    </tr>\n",
       "    <tr>\n",
       "      <th>1531</th>\n",
       "      <td>2915.425836</td>\n",
       "    </tr>\n",
       "    <tr>\n",
       "      <th>1532</th>\n",
       "      <td>2607.861784</td>\n",
       "    </tr>\n",
       "    <tr>\n",
       "      <th>1533</th>\n",
       "      <td>2837.707093</td>\n",
       "    </tr>\n",
       "    <tr>\n",
       "      <th>1534</th>\n",
       "      <td>3222.957142</td>\n",
       "    </tr>\n",
       "  </tbody>\n",
       "</table>\n",
       "<p>1534 rows × 1 columns</p>\n",
       "</div>"
      ],
      "text/plain": [
       "            distance\n",
       "user_id             \n",
       "1        2839.181839\n",
       "2        3087.641692\n",
       "3        3075.633155\n",
       "4        3202.656423\n",
       "5        3232.449968\n",
       "...              ...\n",
       "1530     2750.498225\n",
       "1531     2915.425836\n",
       "1532     2607.861784\n",
       "1533     2837.707093\n",
       "1534     3222.957142\n",
       "\n",
       "[1534 rows x 1 columns]"
      ]
     },
     "execution_count": 22,
     "metadata": {},
     "output_type": "execute_result"
    }
   ],
   "source": [
    "# Посмотрим среднюю протяженность поездки пользователя с помощью сводной таблицы\n",
    "mean_distance = rides_df.pivot_table(index='user_id', values='distance', aggfunc='mean')\n",
    "mean_distance"
   ]
  },
  {
   "cell_type": "code",
   "execution_count": 23,
   "id": "8e9c6ddb",
   "metadata": {},
   "outputs": [
    {
     "data": {
      "text/plain": [
       "3077.296650333368"
      ]
     },
     "execution_count": 23,
     "metadata": {},
     "output_type": "execute_result"
    }
   ],
   "source": [
    "# Посмотрим среднее расстояние\n",
    "mean_distance['distance'].mean()"
   ]
  },
  {
   "cell_type": "code",
   "execution_count": 24,
   "id": "f98f4a56",
   "metadata": {},
   "outputs": [
    {
     "data": {
      "image/png": "[encoded data removed]",
      "text/plain": [
       "<Figure size 800x600 with 1 Axes>"
      ]
     },
     "metadata": {},
     "output_type": "display_data"
    }
   ],
   "source": [
    "# Построим диаграмму размаха дистанций\n",
    "mean_distance.boxplot(column='distance', figsize=(8, 6))\n",
    "plt.title('Диаграмма размаха дистанции')\n",
    "plt.ylabel('м')\n",
    "plt.show()"
   ]
  },
  {
   "cell_type": "markdown",
   "id": "4802f505",
   "metadata": {},
   "source": [
    "Можно сделать вывод, что обычно пользователи проезажают от 2,3 до 3,9 км. Среднее расстояние 3,077 км, медиана на том же уровне."
   ]
  },
  {
   "cell_type": "markdown",
   "id": "3f466eab",
   "metadata": {},
   "source": [
    "**Продолжительность поездок**"
   ]
  },
  {
   "cell_type": "code",
   "execution_count": 25,
   "id": "b4b523a1",
   "metadata": {},
   "outputs": [],
   "source": [
    "# Округлим значения в столбце duration по \"потолку\"\n",
    "import numpy as np\n",
    "rides_df['duration'] = np.ceil(rides_df['duration'])"
   ]
  },
  {
   "cell_type": "code",
   "execution_count": 26,
   "id": "aca3cd20",
   "metadata": {},
   "outputs": [
    {
     "data": {
      "text/html": [
       "<div>\n",
       "<style scoped>\n",
       "    .dataframe tbody tr th:only-of-type {\n",
       "        vertical-align: middle;\n",
       "    }\n",
       "\n",
       "    .dataframe tbody tr th {\n",
       "        vertical-align: top;\n",
       "    }\n",
       "\n",
       "    .dataframe thead th {\n",
       "        text-align: right;\n",
       "    }\n",
       "</style>\n",
       "<table border=\"1\" class=\"dataframe\">\n",
       "  <thead>\n",
       "    <tr style=\"text-align: right;\">\n",
       "      <th></th>\n",
       "      <th>user_id</th>\n",
       "      <th>distance</th>\n",
       "      <th>duration</th>\n",
       "      <th>date</th>\n",
       "      <th>month</th>\n",
       "    </tr>\n",
       "  </thead>\n",
       "  <tbody>\n",
       "    <tr>\n",
       "      <th>0</th>\n",
       "      <td>1</td>\n",
       "      <td>4409.919140</td>\n",
       "      <td>26.0</td>\n",
       "      <td>2021-01-01</td>\n",
       "      <td>1</td>\n",
       "    </tr>\n",
       "    <tr>\n",
       "      <th>1</th>\n",
       "      <td>1</td>\n",
       "      <td>2617.592153</td>\n",
       "      <td>16.0</td>\n",
       "      <td>2021-01-18</td>\n",
       "      <td>1</td>\n",
       "    </tr>\n",
       "    <tr>\n",
       "      <th>2</th>\n",
       "      <td>1</td>\n",
       "      <td>754.159807</td>\n",
       "      <td>7.0</td>\n",
       "      <td>2021-04-20</td>\n",
       "      <td>4</td>\n",
       "    </tr>\n",
       "    <tr>\n",
       "      <th>3</th>\n",
       "      <td>1</td>\n",
       "      <td>2694.783254</td>\n",
       "      <td>19.0</td>\n",
       "      <td>2021-08-11</td>\n",
       "      <td>8</td>\n",
       "    </tr>\n",
       "    <tr>\n",
       "      <th>4</th>\n",
       "      <td>1</td>\n",
       "      <td>4028.687306</td>\n",
       "      <td>27.0</td>\n",
       "      <td>2021-08-28</td>\n",
       "      <td>8</td>\n",
       "    </tr>\n",
       "  </tbody>\n",
       "</table>\n",
       "</div>"
      ],
      "text/plain": [
       "   user_id     distance  duration       date  month\n",
       "0        1  4409.919140      26.0 2021-01-01      1\n",
       "1        1  2617.592153      16.0 2021-01-18      1\n",
       "2        1   754.159807       7.0 2021-04-20      4\n",
       "3        1  2694.783254      19.0 2021-08-11      8\n",
       "4        1  4028.687306      27.0 2021-08-28      8"
      ]
     },
     "execution_count": 26,
     "metadata": {},
     "output_type": "execute_result"
    }
   ],
   "source": [
    "# Проверим\n",
    "rides_df.head()"
   ]
  },
  {
   "cell_type": "code",
   "execution_count": 27,
   "id": "0387ff4d",
   "metadata": {},
   "outputs": [
    {
     "data": {
      "text/html": [
       "<div>\n",
       "<style scoped>\n",
       "    .dataframe tbody tr th:only-of-type {\n",
       "        vertical-align: middle;\n",
       "    }\n",
       "\n",
       "    .dataframe tbody tr th {\n",
       "        vertical-align: top;\n",
       "    }\n",
       "\n",
       "    .dataframe thead th {\n",
       "        text-align: right;\n",
       "    }\n",
       "</style>\n",
       "<table border=\"1\" class=\"dataframe\">\n",
       "  <thead>\n",
       "    <tr style=\"text-align: right;\">\n",
       "      <th></th>\n",
       "      <th>duration</th>\n",
       "    </tr>\n",
       "    <tr>\n",
       "      <th>user_id</th>\n",
       "      <th></th>\n",
       "    </tr>\n",
       "  </thead>\n",
       "  <tbody>\n",
       "    <tr>\n",
       "      <th>1</th>\n",
       "      <td>17.583333</td>\n",
       "    </tr>\n",
       "    <tr>\n",
       "      <th>2</th>\n",
       "      <td>18.454545</td>\n",
       "    </tr>\n",
       "    <tr>\n",
       "      <th>3</th>\n",
       "      <td>19.916667</td>\n",
       "    </tr>\n",
       "    <tr>\n",
       "      <th>4</th>\n",
       "      <td>20.928571</td>\n",
       "    </tr>\n",
       "    <tr>\n",
       "      <th>5</th>\n",
       "      <td>16.363636</td>\n",
       "    </tr>\n",
       "    <tr>\n",
       "      <th>...</th>\n",
       "      <td>...</td>\n",
       "    </tr>\n",
       "    <tr>\n",
       "      <th>1530</th>\n",
       "      <td>17.705882</td>\n",
       "    </tr>\n",
       "    <tr>\n",
       "      <th>1531</th>\n",
       "      <td>18.217391</td>\n",
       "    </tr>\n",
       "    <tr>\n",
       "      <th>1532</th>\n",
       "      <td>16.923077</td>\n",
       "    </tr>\n",
       "    <tr>\n",
       "      <th>1533</th>\n",
       "      <td>18.923077</td>\n",
       "    </tr>\n",
       "    <tr>\n",
       "      <th>1534</th>\n",
       "      <td>18.153846</td>\n",
       "    </tr>\n",
       "  </tbody>\n",
       "</table>\n",
       "<p>1534 rows × 1 columns</p>\n",
       "</div>"
      ],
      "text/plain": [
       "          duration\n",
       "user_id           \n",
       "1        17.583333\n",
       "2        18.454545\n",
       "3        19.916667\n",
       "4        20.928571\n",
       "5        16.363636\n",
       "...            ...\n",
       "1530     17.705882\n",
       "1531     18.217391\n",
       "1532     16.923077\n",
       "1533     18.923077\n",
       "1534     18.153846\n",
       "\n",
       "[1534 rows x 1 columns]"
      ]
     },
     "execution_count": 27,
     "metadata": {},
     "output_type": "execute_result"
    }
   ],
   "source": [
    "# Посмотрим среднюю продолжительность поездки пользователя с помощью сводной таблицы\n",
    "mean_duration = rides_df.pivot_table(index='user_id', values='duration', aggfunc='mean')\n",
    "mean_duration"
   ]
  },
  {
   "cell_type": "code",
   "execution_count": 28,
   "id": "abf01406",
   "metadata": {},
   "outputs": [
    {
     "data": {
      "text/plain": [
       "18.423613062038985"
      ]
     },
     "execution_count": 28,
     "metadata": {},
     "output_type": "execute_result"
    }
   ],
   "source": [
    "# Посмотрим среднюю продолжительность поездки\n",
    "mean_duration['duration'].mean()"
   ]
  },
  {
   "cell_type": "code",
   "execution_count": 29,
   "id": "15077615",
   "metadata": {
    "scrolled": false
   },
   "outputs": [
    {
     "data": {
      "image/png": "[encoded data removed]",
      "text/plain": [
       "<Figure size 800x600 with 1 Axes>"
      ]
     },
     "metadata": {},
     "output_type": "display_data"
    }
   ],
   "source": [
    "# Построим диаграмму размаха продолжительности поездки\n",
    "mean_duration.boxplot(column='duration', figsize=(8, 6))\n",
    "plt.title('Диаграмма размаха продолжительности поездки')\n",
    "plt.ylabel('мин')\n",
    "plt.show()"
   ]
  },
  {
   "cell_type": "markdown",
   "id": "0e250432",
   "metadata": {},
   "source": [
    "Можно сделать вывод, что обычно пользователи используют самокаты примерно от 13 до 23 минут. Среднее время чуть больше 18 мин, медиана на том же уровне."
   ]
  },
  {
   "cell_type": "markdown",
   "id": "8145fc40",
   "metadata": {},
   "source": [
    "**ВЫВОД:** провели ииследовательский анализ данных, добавили новый столбец. Выяснили, что больше всего пользователей в Пятигорске и Екатеринбурге, а меньше всего в Москве. Пользователей с подпиской немного меньше, чем без (700/850). Средний возраст пользователей 25 лет. В среднем пользователи проезжают расстояние около 3 км, среднее время использования самокатов составляет 18 минут."
   ]
  },
  {
   "cell_type": "markdown",
   "id": "4ef51331",
   "metadata": {},
   "source": [
    "#### Шаг 4. Объединение данных"
   ]
  },
  {
   "cell_type": "code",
   "execution_count": 30,
   "id": "6bf288b5",
   "metadata": {},
   "outputs": [
    {
     "data": {
      "text/html": [
       "<div>\n",
       "<style scoped>\n",
       "    .dataframe tbody tr th:only-of-type {\n",
       "        vertical-align: middle;\n",
       "    }\n",
       "\n",
       "    .dataframe tbody tr th {\n",
       "        vertical-align: top;\n",
       "    }\n",
       "\n",
       "    .dataframe thead th {\n",
       "        text-align: right;\n",
       "    }\n",
       "</style>\n",
       "<table border=\"1\" class=\"dataframe\">\n",
       "  <thead>\n",
       "    <tr style=\"text-align: right;\">\n",
       "      <th></th>\n",
       "      <th>user_id</th>\n",
       "      <th>name</th>\n",
       "      <th>age</th>\n",
       "      <th>city</th>\n",
       "      <th>subscription_type</th>\n",
       "      <th>distance</th>\n",
       "      <th>duration</th>\n",
       "      <th>date</th>\n",
       "      <th>month</th>\n",
       "      <th>minute_price</th>\n",
       "      <th>start_ride_price</th>\n",
       "      <th>subscription_fee</th>\n",
       "    </tr>\n",
       "  </thead>\n",
       "  <tbody>\n",
       "    <tr>\n",
       "      <th>0</th>\n",
       "      <td>1</td>\n",
       "      <td>Кира</td>\n",
       "      <td>22</td>\n",
       "      <td>Тюмень</td>\n",
       "      <td>ultra</td>\n",
       "      <td>4409.919140</td>\n",
       "      <td>26.0</td>\n",
       "      <td>2021-01-01</td>\n",
       "      <td>1</td>\n",
       "      <td>6</td>\n",
       "      <td>0</td>\n",
       "      <td>199</td>\n",
       "    </tr>\n",
       "    <tr>\n",
       "      <th>1</th>\n",
       "      <td>1</td>\n",
       "      <td>Кира</td>\n",
       "      <td>22</td>\n",
       "      <td>Тюмень</td>\n",
       "      <td>ultra</td>\n",
       "      <td>2617.592153</td>\n",
       "      <td>16.0</td>\n",
       "      <td>2021-01-18</td>\n",
       "      <td>1</td>\n",
       "      <td>6</td>\n",
       "      <td>0</td>\n",
       "      <td>199</td>\n",
       "    </tr>\n",
       "    <tr>\n",
       "      <th>2</th>\n",
       "      <td>1</td>\n",
       "      <td>Кира</td>\n",
       "      <td>22</td>\n",
       "      <td>Тюмень</td>\n",
       "      <td>ultra</td>\n",
       "      <td>754.159807</td>\n",
       "      <td>7.0</td>\n",
       "      <td>2021-04-20</td>\n",
       "      <td>4</td>\n",
       "      <td>6</td>\n",
       "      <td>0</td>\n",
       "      <td>199</td>\n",
       "    </tr>\n",
       "    <tr>\n",
       "      <th>3</th>\n",
       "      <td>1</td>\n",
       "      <td>Кира</td>\n",
       "      <td>22</td>\n",
       "      <td>Тюмень</td>\n",
       "      <td>ultra</td>\n",
       "      <td>2694.783254</td>\n",
       "      <td>19.0</td>\n",
       "      <td>2021-08-11</td>\n",
       "      <td>8</td>\n",
       "      <td>6</td>\n",
       "      <td>0</td>\n",
       "      <td>199</td>\n",
       "    </tr>\n",
       "    <tr>\n",
       "      <th>4</th>\n",
       "      <td>1</td>\n",
       "      <td>Кира</td>\n",
       "      <td>22</td>\n",
       "      <td>Тюмень</td>\n",
       "      <td>ultra</td>\n",
       "      <td>4028.687306</td>\n",
       "      <td>27.0</td>\n",
       "      <td>2021-08-28</td>\n",
       "      <td>8</td>\n",
       "      <td>6</td>\n",
       "      <td>0</td>\n",
       "      <td>199</td>\n",
       "    </tr>\n",
       "    <tr>\n",
       "      <th>5</th>\n",
       "      <td>1</td>\n",
       "      <td>Кира</td>\n",
       "      <td>22</td>\n",
       "      <td>Тюмень</td>\n",
       "      <td>ultra</td>\n",
       "      <td>2770.890808</td>\n",
       "      <td>17.0</td>\n",
       "      <td>2021-10-09</td>\n",
       "      <td>10</td>\n",
       "      <td>6</td>\n",
       "      <td>0</td>\n",
       "      <td>199</td>\n",
       "    </tr>\n",
       "    <tr>\n",
       "      <th>6</th>\n",
       "      <td>1</td>\n",
       "      <td>Кира</td>\n",
       "      <td>22</td>\n",
       "      <td>Тюмень</td>\n",
       "      <td>ultra</td>\n",
       "      <td>3039.020292</td>\n",
       "      <td>15.0</td>\n",
       "      <td>2021-10-19</td>\n",
       "      <td>10</td>\n",
       "      <td>6</td>\n",
       "      <td>0</td>\n",
       "      <td>199</td>\n",
       "    </tr>\n",
       "    <tr>\n",
       "      <th>7</th>\n",
       "      <td>1</td>\n",
       "      <td>Кира</td>\n",
       "      <td>22</td>\n",
       "      <td>Тюмень</td>\n",
       "      <td>ultra</td>\n",
       "      <td>2842.118050</td>\n",
       "      <td>24.0</td>\n",
       "      <td>2021-11-06</td>\n",
       "      <td>11</td>\n",
       "      <td>6</td>\n",
       "      <td>0</td>\n",
       "      <td>199</td>\n",
       "    </tr>\n",
       "    <tr>\n",
       "      <th>8</th>\n",
       "      <td>1</td>\n",
       "      <td>Кира</td>\n",
       "      <td>22</td>\n",
       "      <td>Тюмень</td>\n",
       "      <td>ultra</td>\n",
       "      <td>3412.690668</td>\n",
       "      <td>16.0</td>\n",
       "      <td>2021-11-14</td>\n",
       "      <td>11</td>\n",
       "      <td>6</td>\n",
       "      <td>0</td>\n",
       "      <td>199</td>\n",
       "    </tr>\n",
       "    <tr>\n",
       "      <th>9</th>\n",
       "      <td>1</td>\n",
       "      <td>Кира</td>\n",
       "      <td>22</td>\n",
       "      <td>Тюмень</td>\n",
       "      <td>ultra</td>\n",
       "      <td>748.690645</td>\n",
       "      <td>16.0</td>\n",
       "      <td>2021-11-22</td>\n",
       "      <td>11</td>\n",
       "      <td>6</td>\n",
       "      <td>0</td>\n",
       "      <td>199</td>\n",
       "    </tr>\n",
       "    <tr>\n",
       "      <th>10</th>\n",
       "      <td>1</td>\n",
       "      <td>Кира</td>\n",
       "      <td>22</td>\n",
       "      <td>Тюмень</td>\n",
       "      <td>ultra</td>\n",
       "      <td>4031.020195</td>\n",
       "      <td>18.0</td>\n",
       "      <td>2021-12-14</td>\n",
       "      <td>12</td>\n",
       "      <td>6</td>\n",
       "      <td>0</td>\n",
       "      <td>199</td>\n",
       "    </tr>\n",
       "    <tr>\n",
       "      <th>11</th>\n",
       "      <td>1</td>\n",
       "      <td>Кира</td>\n",
       "      <td>22</td>\n",
       "      <td>Тюмень</td>\n",
       "      <td>ultra</td>\n",
       "      <td>2720.609748</td>\n",
       "      <td>10.0</td>\n",
       "      <td>2021-12-22</td>\n",
       "      <td>12</td>\n",
       "      <td>6</td>\n",
       "      <td>0</td>\n",
       "      <td>199</td>\n",
       "    </tr>\n",
       "    <tr>\n",
       "      <th>12</th>\n",
       "      <td>2</td>\n",
       "      <td>Станислав</td>\n",
       "      <td>31</td>\n",
       "      <td>Омск</td>\n",
       "      <td>ultra</td>\n",
       "      <td>3105.086678</td>\n",
       "      <td>25.0</td>\n",
       "      <td>2021-03-15</td>\n",
       "      <td>3</td>\n",
       "      <td>6</td>\n",
       "      <td>0</td>\n",
       "      <td>199</td>\n",
       "    </tr>\n",
       "    <tr>\n",
       "      <th>13</th>\n",
       "      <td>2</td>\n",
       "      <td>Станислав</td>\n",
       "      <td>31</td>\n",
       "      <td>Омск</td>\n",
       "      <td>ultra</td>\n",
       "      <td>3053.519401</td>\n",
       "      <td>12.0</td>\n",
       "      <td>2021-03-18</td>\n",
       "      <td>3</td>\n",
       "      <td>6</td>\n",
       "      <td>0</td>\n",
       "      <td>199</td>\n",
       "    </tr>\n",
       "    <tr>\n",
       "      <th>14</th>\n",
       "      <td>2</td>\n",
       "      <td>Станислав</td>\n",
       "      <td>31</td>\n",
       "      <td>Омск</td>\n",
       "      <td>ultra</td>\n",
       "      <td>4029.116927</td>\n",
       "      <td>26.0</td>\n",
       "      <td>2021-03-23</td>\n",
       "      <td>3</td>\n",
       "      <td>6</td>\n",
       "      <td>0</td>\n",
       "      <td>199</td>\n",
       "    </tr>\n",
       "  </tbody>\n",
       "</table>\n",
       "</div>"
      ],
      "text/plain": [
       "    user_id       name  age    city subscription_type     distance  duration  \\\n",
       "0         1       Кира   22  Тюмень             ultra  4409.919140      26.0   \n",
       "1         1       Кира   22  Тюмень             ultra  2617.592153      16.0   \n",
       "2         1       Кира   22  Тюмень             ultra   754.159807       7.0   \n",
       "3         1       Кира   22  Тюмень             ultra  2694.783254      19.0   \n",
       "4         1       Кира   22  Тюмень             ultra  4028.687306      27.0   \n",
       "5         1       Кира   22  Тюмень             ultra  2770.890808      17.0   \n",
       "6         1       Кира   22  Тюмень             ultra  3039.020292      15.0   \n",
       "7         1       Кира   22  Тюмень             ultra  2842.118050      24.0   \n",
       "8         1       Кира   22  Тюмень             ultra  3412.690668      16.0   \n",
       "9         1       Кира   22  Тюмень             ultra   748.690645      16.0   \n",
       "10        1       Кира   22  Тюмень             ultra  4031.020195      18.0   \n",
       "11        1       Кира   22  Тюмень             ultra  2720.609748      10.0   \n",
       "12        2  Станислав   31    Омск             ultra  3105.086678      25.0   \n",
       "13        2  Станислав   31    Омск             ultra  3053.519401      12.0   \n",
       "14        2  Станислав   31    Омск             ultra  4029.116927      26.0   \n",
       "\n",
       "         date  month  minute_price  start_ride_price  subscription_fee  \n",
       "0  2021-01-01      1             6                 0               199  \n",
       "1  2021-01-18      1             6                 0               199  \n",
       "2  2021-04-20      4             6                 0               199  \n",
       "3  2021-08-11      8             6                 0               199  \n",
       "4  2021-08-28      8             6                 0               199  \n",
       "5  2021-10-09     10             6                 0               199  \n",
       "6  2021-10-19     10             6                 0               199  \n",
       "7  2021-11-06     11             6                 0               199  \n",
       "8  2021-11-14     11             6                 0               199  \n",
       "9  2021-11-22     11             6                 0               199  \n",
       "10 2021-12-14     12             6                 0               199  \n",
       "11 2021-12-22     12             6                 0               199  \n",
       "12 2021-03-15      3             6                 0               199  \n",
       "13 2021-03-18      3             6                 0               199  \n",
       "14 2021-03-23      3             6                 0               199  "
      ]
     },
     "execution_count": 30,
     "metadata": {},
     "output_type": "execute_result"
    }
   ],
   "source": [
    "# Объединим данные о пользователях, поездках и подписках\n",
    "df_merge = users_df.merge(rides_df, on='user_id', how='left')\n",
    "merge_data = df_merge.merge(subscriptions_df, on='subscription_type', how='left')\n",
    "merge_data.head(15)"
   ]
  },
  {
   "cell_type": "code",
   "execution_count": 31,
   "id": "5a25da91",
   "metadata": {},
   "outputs": [
    {
     "data": {
      "text/html": [
       "<div>\n",
       "<style scoped>\n",
       "    .dataframe tbody tr th:only-of-type {\n",
       "        vertical-align: middle;\n",
       "    }\n",
       "\n",
       "    .dataframe tbody tr th {\n",
       "        vertical-align: top;\n",
       "    }\n",
       "\n",
       "    .dataframe thead th {\n",
       "        text-align: right;\n",
       "    }\n",
       "</style>\n",
       "<table border=\"1\" class=\"dataframe\">\n",
       "  <thead>\n",
       "    <tr style=\"text-align: right;\">\n",
       "      <th></th>\n",
       "      <th>user_id</th>\n",
       "      <th>name</th>\n",
       "      <th>age</th>\n",
       "      <th>city</th>\n",
       "      <th>subscription_type</th>\n",
       "      <th>distance</th>\n",
       "      <th>duration</th>\n",
       "      <th>date</th>\n",
       "      <th>month</th>\n",
       "      <th>minute_price</th>\n",
       "      <th>start_ride_price</th>\n",
       "      <th>subscription_fee</th>\n",
       "    </tr>\n",
       "  </thead>\n",
       "  <tbody>\n",
       "    <tr>\n",
       "      <th>6500</th>\n",
       "      <td>700</td>\n",
       "      <td>Айдар</td>\n",
       "      <td>22</td>\n",
       "      <td>Омск</td>\n",
       "      <td>free</td>\n",
       "      <td>2515.690719</td>\n",
       "      <td>15.0</td>\n",
       "      <td>2021-01-02</td>\n",
       "      <td>1</td>\n",
       "      <td>8</td>\n",
       "      <td>50</td>\n",
       "      <td>0</td>\n",
       "    </tr>\n",
       "    <tr>\n",
       "      <th>6501</th>\n",
       "      <td>700</td>\n",
       "      <td>Айдар</td>\n",
       "      <td>22</td>\n",
       "      <td>Омск</td>\n",
       "      <td>free</td>\n",
       "      <td>846.932642</td>\n",
       "      <td>17.0</td>\n",
       "      <td>2021-02-01</td>\n",
       "      <td>2</td>\n",
       "      <td>8</td>\n",
       "      <td>50</td>\n",
       "      <td>0</td>\n",
       "    </tr>\n",
       "    <tr>\n",
       "      <th>6502</th>\n",
       "      <td>700</td>\n",
       "      <td>Айдар</td>\n",
       "      <td>22</td>\n",
       "      <td>Омск</td>\n",
       "      <td>free</td>\n",
       "      <td>4004.434142</td>\n",
       "      <td>21.0</td>\n",
       "      <td>2021-02-04</td>\n",
       "      <td>2</td>\n",
       "      <td>8</td>\n",
       "      <td>50</td>\n",
       "      <td>0</td>\n",
       "    </tr>\n",
       "    <tr>\n",
       "      <th>6503</th>\n",
       "      <td>700</td>\n",
       "      <td>Айдар</td>\n",
       "      <td>22</td>\n",
       "      <td>Омск</td>\n",
       "      <td>free</td>\n",
       "      <td>1205.911290</td>\n",
       "      <td>10.0</td>\n",
       "      <td>2021-02-10</td>\n",
       "      <td>2</td>\n",
       "      <td>8</td>\n",
       "      <td>50</td>\n",
       "      <td>0</td>\n",
       "    </tr>\n",
       "    <tr>\n",
       "      <th>6504</th>\n",
       "      <td>700</td>\n",
       "      <td>Айдар</td>\n",
       "      <td>22</td>\n",
       "      <td>Омск</td>\n",
       "      <td>free</td>\n",
       "      <td>3047.379435</td>\n",
       "      <td>18.0</td>\n",
       "      <td>2021-02-14</td>\n",
       "      <td>2</td>\n",
       "      <td>8</td>\n",
       "      <td>50</td>\n",
       "      <td>0</td>\n",
       "    </tr>\n",
       "    <tr>\n",
       "      <th>6505</th>\n",
       "      <td>700</td>\n",
       "      <td>Айдар</td>\n",
       "      <td>22</td>\n",
       "      <td>Омск</td>\n",
       "      <td>free</td>\n",
       "      <td>4342.002254</td>\n",
       "      <td>23.0</td>\n",
       "      <td>2021-02-23</td>\n",
       "      <td>2</td>\n",
       "      <td>8</td>\n",
       "      <td>50</td>\n",
       "      <td>0</td>\n",
       "    </tr>\n",
       "    <tr>\n",
       "      <th>6506</th>\n",
       "      <td>700</td>\n",
       "      <td>Айдар</td>\n",
       "      <td>22</td>\n",
       "      <td>Омск</td>\n",
       "      <td>free</td>\n",
       "      <td>3798.334905</td>\n",
       "      <td>19.0</td>\n",
       "      <td>2021-03-03</td>\n",
       "      <td>3</td>\n",
       "      <td>8</td>\n",
       "      <td>50</td>\n",
       "      <td>0</td>\n",
       "    </tr>\n",
       "    <tr>\n",
       "      <th>6507</th>\n",
       "      <td>700</td>\n",
       "      <td>Айдар</td>\n",
       "      <td>22</td>\n",
       "      <td>Омск</td>\n",
       "      <td>free</td>\n",
       "      <td>2984.551206</td>\n",
       "      <td>16.0</td>\n",
       "      <td>2021-04-09</td>\n",
       "      <td>4</td>\n",
       "      <td>8</td>\n",
       "      <td>50</td>\n",
       "      <td>0</td>\n",
       "    </tr>\n",
       "    <tr>\n",
       "      <th>6508</th>\n",
       "      <td>700</td>\n",
       "      <td>Айдар</td>\n",
       "      <td>22</td>\n",
       "      <td>Омск</td>\n",
       "      <td>free</td>\n",
       "      <td>3360.107141</td>\n",
       "      <td>17.0</td>\n",
       "      <td>2021-06-12</td>\n",
       "      <td>6</td>\n",
       "      <td>8</td>\n",
       "      <td>50</td>\n",
       "      <td>0</td>\n",
       "    </tr>\n",
       "    <tr>\n",
       "      <th>6509</th>\n",
       "      <td>700</td>\n",
       "      <td>Айдар</td>\n",
       "      <td>22</td>\n",
       "      <td>Омск</td>\n",
       "      <td>free</td>\n",
       "      <td>2567.543847</td>\n",
       "      <td>12.0</td>\n",
       "      <td>2021-06-23</td>\n",
       "      <td>6</td>\n",
       "      <td>8</td>\n",
       "      <td>50</td>\n",
       "      <td>0</td>\n",
       "    </tr>\n",
       "    <tr>\n",
       "      <th>6510</th>\n",
       "      <td>700</td>\n",
       "      <td>Айдар</td>\n",
       "      <td>22</td>\n",
       "      <td>Омск</td>\n",
       "      <td>free</td>\n",
       "      <td>4110.232038</td>\n",
       "      <td>16.0</td>\n",
       "      <td>2021-07-08</td>\n",
       "      <td>7</td>\n",
       "      <td>8</td>\n",
       "      <td>50</td>\n",
       "      <td>0</td>\n",
       "    </tr>\n",
       "    <tr>\n",
       "      <th>6511</th>\n",
       "      <td>700</td>\n",
       "      <td>Айдар</td>\n",
       "      <td>22</td>\n",
       "      <td>Омск</td>\n",
       "      <td>free</td>\n",
       "      <td>288.974241</td>\n",
       "      <td>5.0</td>\n",
       "      <td>2021-07-18</td>\n",
       "      <td>7</td>\n",
       "      <td>8</td>\n",
       "      <td>50</td>\n",
       "      <td>0</td>\n",
       "    </tr>\n",
       "    <tr>\n",
       "      <th>6512</th>\n",
       "      <td>700</td>\n",
       "      <td>Айдар</td>\n",
       "      <td>22</td>\n",
       "      <td>Омск</td>\n",
       "      <td>free</td>\n",
       "      <td>4071.654669</td>\n",
       "      <td>17.0</td>\n",
       "      <td>2021-08-17</td>\n",
       "      <td>8</td>\n",
       "      <td>8</td>\n",
       "      <td>50</td>\n",
       "      <td>0</td>\n",
       "    </tr>\n",
       "    <tr>\n",
       "      <th>6513</th>\n",
       "      <td>700</td>\n",
       "      <td>Айдар</td>\n",
       "      <td>22</td>\n",
       "      <td>Омск</td>\n",
       "      <td>free</td>\n",
       "      <td>1920.188901</td>\n",
       "      <td>10.0</td>\n",
       "      <td>2021-10-08</td>\n",
       "      <td>10</td>\n",
       "      <td>8</td>\n",
       "      <td>50</td>\n",
       "      <td>0</td>\n",
       "    </tr>\n",
       "    <tr>\n",
       "      <th>6514</th>\n",
       "      <td>700</td>\n",
       "      <td>Айдар</td>\n",
       "      <td>22</td>\n",
       "      <td>Омск</td>\n",
       "      <td>free</td>\n",
       "      <td>4402.389717</td>\n",
       "      <td>34.0</td>\n",
       "      <td>2021-10-15</td>\n",
       "      <td>10</td>\n",
       "      <td>8</td>\n",
       "      <td>50</td>\n",
       "      <td>0</td>\n",
       "    </tr>\n",
       "  </tbody>\n",
       "</table>\n",
       "</div>"
      ],
      "text/plain": [
       "      user_id   name  age  city subscription_type     distance  duration  \\\n",
       "6500      700  Айдар   22  Омск              free  2515.690719      15.0   \n",
       "6501      700  Айдар   22  Омск              free   846.932642      17.0   \n",
       "6502      700  Айдар   22  Омск              free  4004.434142      21.0   \n",
       "6503      700  Айдар   22  Омск              free  1205.911290      10.0   \n",
       "6504      700  Айдар   22  Омск              free  3047.379435      18.0   \n",
       "6505      700  Айдар   22  Омск              free  4342.002254      23.0   \n",
       "6506      700  Айдар   22  Омск              free  3798.334905      19.0   \n",
       "6507      700  Айдар   22  Омск              free  2984.551206      16.0   \n",
       "6508      700  Айдар   22  Омск              free  3360.107141      17.0   \n",
       "6509      700  Айдар   22  Омск              free  2567.543847      12.0   \n",
       "6510      700  Айдар   22  Омск              free  4110.232038      16.0   \n",
       "6511      700  Айдар   22  Омск              free   288.974241       5.0   \n",
       "6512      700  Айдар   22  Омск              free  4071.654669      17.0   \n",
       "6513      700  Айдар   22  Омск              free  1920.188901      10.0   \n",
       "6514      700  Айдар   22  Омск              free  4402.389717      34.0   \n",
       "\n",
       "           date  month  minute_price  start_ride_price  subscription_fee  \n",
       "6500 2021-01-02      1             8                50                 0  \n",
       "6501 2021-02-01      2             8                50                 0  \n",
       "6502 2021-02-04      2             8                50                 0  \n",
       "6503 2021-02-10      2             8                50                 0  \n",
       "6504 2021-02-14      2             8                50                 0  \n",
       "6505 2021-02-23      2             8                50                 0  \n",
       "6506 2021-03-03      3             8                50                 0  \n",
       "6507 2021-04-09      4             8                50                 0  \n",
       "6508 2021-06-12      6             8                50                 0  \n",
       "6509 2021-06-23      6             8                50                 0  \n",
       "6510 2021-07-08      7             8                50                 0  \n",
       "6511 2021-07-18      7             8                50                 0  \n",
       "6512 2021-08-17      8             8                50                 0  \n",
       "6513 2021-10-08     10             8                50                 0  \n",
       "6514 2021-10-15     10             8                50                 0  "
      ]
     },
     "execution_count": 31,
     "metadata": {},
     "output_type": "execute_result"
    }
   ],
   "source": [
    "# Создадим новый датафрейм с пользователями без подписки\n",
    "df_free = merge_data.query('subscription_type == \"free\"')\n",
    "df_free.head(15)"
   ]
  },
  {
   "cell_type": "code",
   "execution_count": 32,
   "id": "bce1aa15",
   "metadata": {},
   "outputs": [
    {
     "name": "stdout",
     "output_type": "stream",
     "text": [
      "<class 'pandas.core.frame.DataFrame'>\n",
      "Int64Index: 11568 entries, 6500 to 18067\n",
      "Data columns (total 12 columns):\n",
      " #   Column             Non-Null Count  Dtype         \n",
      "---  ------             --------------  -----         \n",
      " 0   user_id            11568 non-null  int64         \n",
      " 1   name               11568 non-null  object        \n",
      " 2   age                11568 non-null  int64         \n",
      " 3   city               11568 non-null  object        \n",
      " 4   subscription_type  11568 non-null  object        \n",
      " 5   distance           11568 non-null  float64       \n",
      " 6   duration           11568 non-null  float64       \n",
      " 7   date               11568 non-null  datetime64[ns]\n",
      " 8   month              11568 non-null  int64         \n",
      " 9   minute_price       11568 non-null  int64         \n",
      " 10  start_ride_price   11568 non-null  int64         \n",
      " 11  subscription_fee   11568 non-null  int64         \n",
      "dtypes: datetime64[ns](1), float64(2), int64(6), object(3)\n",
      "memory usage: 1.1+ MB\n"
     ]
    }
   ],
   "source": [
    "df_free.info()"
   ]
  },
  {
   "cell_type": "code",
   "execution_count": 33,
   "id": "cb55fc38",
   "metadata": {},
   "outputs": [
    {
     "data": {
      "text/html": [
       "<div>\n",
       "<style scoped>\n",
       "    .dataframe tbody tr th:only-of-type {\n",
       "        vertical-align: middle;\n",
       "    }\n",
       "\n",
       "    .dataframe tbody tr th {\n",
       "        vertical-align: top;\n",
       "    }\n",
       "\n",
       "    .dataframe thead th {\n",
       "        text-align: right;\n",
       "    }\n",
       "</style>\n",
       "<table border=\"1\" class=\"dataframe\">\n",
       "  <thead>\n",
       "    <tr style=\"text-align: right;\">\n",
       "      <th></th>\n",
       "      <th>user_id</th>\n",
       "      <th>name</th>\n",
       "      <th>age</th>\n",
       "      <th>city</th>\n",
       "      <th>subscription_type</th>\n",
       "      <th>distance</th>\n",
       "      <th>duration</th>\n",
       "      <th>date</th>\n",
       "      <th>month</th>\n",
       "      <th>minute_price</th>\n",
       "      <th>start_ride_price</th>\n",
       "      <th>subscription_fee</th>\n",
       "    </tr>\n",
       "  </thead>\n",
       "  <tbody>\n",
       "    <tr>\n",
       "      <th>0</th>\n",
       "      <td>1</td>\n",
       "      <td>Кира</td>\n",
       "      <td>22</td>\n",
       "      <td>Тюмень</td>\n",
       "      <td>ultra</td>\n",
       "      <td>4409.919140</td>\n",
       "      <td>26.0</td>\n",
       "      <td>2021-01-01</td>\n",
       "      <td>1</td>\n",
       "      <td>6</td>\n",
       "      <td>0</td>\n",
       "      <td>199</td>\n",
       "    </tr>\n",
       "    <tr>\n",
       "      <th>1</th>\n",
       "      <td>1</td>\n",
       "      <td>Кира</td>\n",
       "      <td>22</td>\n",
       "      <td>Тюмень</td>\n",
       "      <td>ultra</td>\n",
       "      <td>2617.592153</td>\n",
       "      <td>16.0</td>\n",
       "      <td>2021-01-18</td>\n",
       "      <td>1</td>\n",
       "      <td>6</td>\n",
       "      <td>0</td>\n",
       "      <td>199</td>\n",
       "    </tr>\n",
       "    <tr>\n",
       "      <th>2</th>\n",
       "      <td>1</td>\n",
       "      <td>Кира</td>\n",
       "      <td>22</td>\n",
       "      <td>Тюмень</td>\n",
       "      <td>ultra</td>\n",
       "      <td>754.159807</td>\n",
       "      <td>7.0</td>\n",
       "      <td>2021-04-20</td>\n",
       "      <td>4</td>\n",
       "      <td>6</td>\n",
       "      <td>0</td>\n",
       "      <td>199</td>\n",
       "    </tr>\n",
       "    <tr>\n",
       "      <th>3</th>\n",
       "      <td>1</td>\n",
       "      <td>Кира</td>\n",
       "      <td>22</td>\n",
       "      <td>Тюмень</td>\n",
       "      <td>ultra</td>\n",
       "      <td>2694.783254</td>\n",
       "      <td>19.0</td>\n",
       "      <td>2021-08-11</td>\n",
       "      <td>8</td>\n",
       "      <td>6</td>\n",
       "      <td>0</td>\n",
       "      <td>199</td>\n",
       "    </tr>\n",
       "    <tr>\n",
       "      <th>4</th>\n",
       "      <td>1</td>\n",
       "      <td>Кира</td>\n",
       "      <td>22</td>\n",
       "      <td>Тюмень</td>\n",
       "      <td>ultra</td>\n",
       "      <td>4028.687306</td>\n",
       "      <td>27.0</td>\n",
       "      <td>2021-08-28</td>\n",
       "      <td>8</td>\n",
       "      <td>6</td>\n",
       "      <td>0</td>\n",
       "      <td>199</td>\n",
       "    </tr>\n",
       "    <tr>\n",
       "      <th>5</th>\n",
       "      <td>1</td>\n",
       "      <td>Кира</td>\n",
       "      <td>22</td>\n",
       "      <td>Тюмень</td>\n",
       "      <td>ultra</td>\n",
       "      <td>2770.890808</td>\n",
       "      <td>17.0</td>\n",
       "      <td>2021-10-09</td>\n",
       "      <td>10</td>\n",
       "      <td>6</td>\n",
       "      <td>0</td>\n",
       "      <td>199</td>\n",
       "    </tr>\n",
       "    <tr>\n",
       "      <th>6</th>\n",
       "      <td>1</td>\n",
       "      <td>Кира</td>\n",
       "      <td>22</td>\n",
       "      <td>Тюмень</td>\n",
       "      <td>ultra</td>\n",
       "      <td>3039.020292</td>\n",
       "      <td>15.0</td>\n",
       "      <td>2021-10-19</td>\n",
       "      <td>10</td>\n",
       "      <td>6</td>\n",
       "      <td>0</td>\n",
       "      <td>199</td>\n",
       "    </tr>\n",
       "    <tr>\n",
       "      <th>7</th>\n",
       "      <td>1</td>\n",
       "      <td>Кира</td>\n",
       "      <td>22</td>\n",
       "      <td>Тюмень</td>\n",
       "      <td>ultra</td>\n",
       "      <td>2842.118050</td>\n",
       "      <td>24.0</td>\n",
       "      <td>2021-11-06</td>\n",
       "      <td>11</td>\n",
       "      <td>6</td>\n",
       "      <td>0</td>\n",
       "      <td>199</td>\n",
       "    </tr>\n",
       "    <tr>\n",
       "      <th>8</th>\n",
       "      <td>1</td>\n",
       "      <td>Кира</td>\n",
       "      <td>22</td>\n",
       "      <td>Тюмень</td>\n",
       "      <td>ultra</td>\n",
       "      <td>3412.690668</td>\n",
       "      <td>16.0</td>\n",
       "      <td>2021-11-14</td>\n",
       "      <td>11</td>\n",
       "      <td>6</td>\n",
       "      <td>0</td>\n",
       "      <td>199</td>\n",
       "    </tr>\n",
       "    <tr>\n",
       "      <th>9</th>\n",
       "      <td>1</td>\n",
       "      <td>Кира</td>\n",
       "      <td>22</td>\n",
       "      <td>Тюмень</td>\n",
       "      <td>ultra</td>\n",
       "      <td>748.690645</td>\n",
       "      <td>16.0</td>\n",
       "      <td>2021-11-22</td>\n",
       "      <td>11</td>\n",
       "      <td>6</td>\n",
       "      <td>0</td>\n",
       "      <td>199</td>\n",
       "    </tr>\n",
       "    <tr>\n",
       "      <th>10</th>\n",
       "      <td>1</td>\n",
       "      <td>Кира</td>\n",
       "      <td>22</td>\n",
       "      <td>Тюмень</td>\n",
       "      <td>ultra</td>\n",
       "      <td>4031.020195</td>\n",
       "      <td>18.0</td>\n",
       "      <td>2021-12-14</td>\n",
       "      <td>12</td>\n",
       "      <td>6</td>\n",
       "      <td>0</td>\n",
       "      <td>199</td>\n",
       "    </tr>\n",
       "    <tr>\n",
       "      <th>11</th>\n",
       "      <td>1</td>\n",
       "      <td>Кира</td>\n",
       "      <td>22</td>\n",
       "      <td>Тюмень</td>\n",
       "      <td>ultra</td>\n",
       "      <td>2720.609748</td>\n",
       "      <td>10.0</td>\n",
       "      <td>2021-12-22</td>\n",
       "      <td>12</td>\n",
       "      <td>6</td>\n",
       "      <td>0</td>\n",
       "      <td>199</td>\n",
       "    </tr>\n",
       "    <tr>\n",
       "      <th>12</th>\n",
       "      <td>2</td>\n",
       "      <td>Станислав</td>\n",
       "      <td>31</td>\n",
       "      <td>Омск</td>\n",
       "      <td>ultra</td>\n",
       "      <td>3105.086678</td>\n",
       "      <td>25.0</td>\n",
       "      <td>2021-03-15</td>\n",
       "      <td>3</td>\n",
       "      <td>6</td>\n",
       "      <td>0</td>\n",
       "      <td>199</td>\n",
       "    </tr>\n",
       "    <tr>\n",
       "      <th>13</th>\n",
       "      <td>2</td>\n",
       "      <td>Станислав</td>\n",
       "      <td>31</td>\n",
       "      <td>Омск</td>\n",
       "      <td>ultra</td>\n",
       "      <td>3053.519401</td>\n",
       "      <td>12.0</td>\n",
       "      <td>2021-03-18</td>\n",
       "      <td>3</td>\n",
       "      <td>6</td>\n",
       "      <td>0</td>\n",
       "      <td>199</td>\n",
       "    </tr>\n",
       "    <tr>\n",
       "      <th>14</th>\n",
       "      <td>2</td>\n",
       "      <td>Станислав</td>\n",
       "      <td>31</td>\n",
       "      <td>Омск</td>\n",
       "      <td>ultra</td>\n",
       "      <td>4029.116927</td>\n",
       "      <td>26.0</td>\n",
       "      <td>2021-03-23</td>\n",
       "      <td>3</td>\n",
       "      <td>6</td>\n",
       "      <td>0</td>\n",
       "      <td>199</td>\n",
       "    </tr>\n",
       "  </tbody>\n",
       "</table>\n",
       "</div>"
      ],
      "text/plain": [
       "    user_id       name  age    city subscription_type     distance  duration  \\\n",
       "0         1       Кира   22  Тюмень             ultra  4409.919140      26.0   \n",
       "1         1       Кира   22  Тюмень             ultra  2617.592153      16.0   \n",
       "2         1       Кира   22  Тюмень             ultra   754.159807       7.0   \n",
       "3         1       Кира   22  Тюмень             ultra  2694.783254      19.0   \n",
       "4         1       Кира   22  Тюмень             ultra  4028.687306      27.0   \n",
       "5         1       Кира   22  Тюмень             ultra  2770.890808      17.0   \n",
       "6         1       Кира   22  Тюмень             ultra  3039.020292      15.0   \n",
       "7         1       Кира   22  Тюмень             ultra  2842.118050      24.0   \n",
       "8         1       Кира   22  Тюмень             ultra  3412.690668      16.0   \n",
       "9         1       Кира   22  Тюмень             ultra   748.690645      16.0   \n",
       "10        1       Кира   22  Тюмень             ultra  4031.020195      18.0   \n",
       "11        1       Кира   22  Тюмень             ultra  2720.609748      10.0   \n",
       "12        2  Станислав   31    Омск             ultra  3105.086678      25.0   \n",
       "13        2  Станислав   31    Омск             ultra  3053.519401      12.0   \n",
       "14        2  Станислав   31    Омск             ultra  4029.116927      26.0   \n",
       "\n",
       "         date  month  minute_price  start_ride_price  subscription_fee  \n",
       "0  2021-01-01      1             6                 0               199  \n",
       "1  2021-01-18      1             6                 0               199  \n",
       "2  2021-04-20      4             6                 0               199  \n",
       "3  2021-08-11      8             6                 0               199  \n",
       "4  2021-08-28      8             6                 0               199  \n",
       "5  2021-10-09     10             6                 0               199  \n",
       "6  2021-10-19     10             6                 0               199  \n",
       "7  2021-11-06     11             6                 0               199  \n",
       "8  2021-11-14     11             6                 0               199  \n",
       "9  2021-11-22     11             6                 0               199  \n",
       "10 2021-12-14     12             6                 0               199  \n",
       "11 2021-12-22     12             6                 0               199  \n",
       "12 2021-03-15      3             6                 0               199  \n",
       "13 2021-03-18      3             6                 0               199  \n",
       "14 2021-03-23      3             6                 0               199  "
      ]
     },
     "execution_count": 33,
     "metadata": {},
     "output_type": "execute_result"
    }
   ],
   "source": [
    "# Создадим новый датафрейм с пользователями с подпиской\n",
    "df_ultra = merge_data.query('subscription_type == \"ultra\"')\n",
    "df_ultra.head(15)"
   ]
  },
  {
   "cell_type": "code",
   "execution_count": 34,
   "id": "53b9f261",
   "metadata": {},
   "outputs": [
    {
     "name": "stdout",
     "output_type": "stream",
     "text": [
      "<class 'pandas.core.frame.DataFrame'>\n",
      "Int64Index: 6500 entries, 0 to 6499\n",
      "Data columns (total 12 columns):\n",
      " #   Column             Non-Null Count  Dtype         \n",
      "---  ------             --------------  -----         \n",
      " 0   user_id            6500 non-null   int64         \n",
      " 1   name               6500 non-null   object        \n",
      " 2   age                6500 non-null   int64         \n",
      " 3   city               6500 non-null   object        \n",
      " 4   subscription_type  6500 non-null   object        \n",
      " 5   distance           6500 non-null   float64       \n",
      " 6   duration           6500 non-null   float64       \n",
      " 7   date               6500 non-null   datetime64[ns]\n",
      " 8   month              6500 non-null   int64         \n",
      " 9   minute_price       6500 non-null   int64         \n",
      " 10  start_ride_price   6500 non-null   int64         \n",
      " 11  subscription_fee   6500 non-null   int64         \n",
      "dtypes: datetime64[ns](1), float64(2), int64(6), object(3)\n",
      "memory usage: 660.2+ KB\n"
     ]
    }
   ],
   "source": [
    "df_ultra.info()"
   ]
  },
  {
   "cell_type": "code",
   "execution_count": 35,
   "id": "0fa9ac75",
   "metadata": {},
   "outputs": [],
   "source": [
    "free_distance = df_free['distance']"
   ]
  },
  {
   "cell_type": "code",
   "execution_count": 36,
   "id": "13bb459c",
   "metadata": {},
   "outputs": [],
   "source": [
    "ultra_distance = df_ultra['distance']"
   ]
  },
  {
   "cell_type": "code",
   "execution_count": 37,
   "id": "fd24dbdd",
   "metadata": {},
   "outputs": [
    {
     "data": {
      "image/png": "[encoded data removed]",
      "text/plain": [
       "<Figure size 640x480 with 1 Axes>"
      ]
     },
     "metadata": {},
     "output_type": "display_data"
    }
   ],
   "source": [
    "# Сравним графики распределения дистанции для обеих категорий пользователей\n",
    "plt.hist(free_distance, alpha = 0.9, bins=30)\n",
    "plt.hist(ultra_distance, alpha = 0.7, bins=30)\n",
    "plt.xlabel('метры')\n",
    "plt.ylabel('поездки')\n",
    "plt.show()"
   ]
  },
  {
   "cell_type": "code",
   "execution_count": 38,
   "id": "57963ef7",
   "metadata": {},
   "outputs": [
    {
     "data": {
      "text/plain": [
       "count    11568.000000\n",
       "mean      3045.495282\n",
       "std       1246.173806\n",
       "min          0.855683\n",
       "25%       2366.562689\n",
       "50%       3114.648465\n",
       "75%       3905.697894\n",
       "max       7211.007745\n",
       "Name: distance, dtype: float64"
      ]
     },
     "execution_count": 38,
     "metadata": {},
     "output_type": "execute_result"
    }
   ],
   "source": [
    "free_distance.describe()"
   ]
  },
  {
   "cell_type": "code",
   "execution_count": 39,
   "id": "af5a4fca",
   "metadata": {},
   "outputs": [
    {
     "data": {
      "text/plain": [
       "count    6500.000000\n",
       "mean     3115.445388\n",
       "std       836.895330\n",
       "min       244.210438\n",
       "25%      2785.444017\n",
       "50%      3148.637229\n",
       "75%      3560.574425\n",
       "max      5699.769662\n",
       "Name: distance, dtype: float64"
      ]
     },
     "execution_count": 39,
     "metadata": {},
     "output_type": "execute_result"
    }
   ],
   "source": [
    "ultra_distance.describe()"
   ]
  },
  {
   "cell_type": "markdown",
   "id": "32fd3899",
   "metadata": {},
   "source": [
    "Распределение протяженности поездок обеих групп пользователей близко к нормальному, имеются небольшие всплески в районе малых значений(около 1000 м). В среднем обе категории проезжают практически одинаковое расстояние(около 3,1 км), но пользователи без подписки имеют больший интервал расстояний (их график шире)."
   ]
  },
  {
   "cell_type": "code",
   "execution_count": 40,
   "id": "bb3babc8",
   "metadata": {},
   "outputs": [],
   "source": [
    "free_duration = df_free['duration']\n",
    "ultra_duration = df_ultra['duration']"
   ]
  },
  {
   "cell_type": "code",
   "execution_count": 41,
   "id": "057093c4",
   "metadata": {},
   "outputs": [
    {
     "data": {
      "image/png": "[encoded data removed]",
      "text/plain": [
       "<Figure size 640x480 with 1 Axes>"
      ]
     },
     "metadata": {},
     "output_type": "display_data"
    }
   ],
   "source": [
    "# Сравним графики распределения времени поездок для обеих категорий пользователей\n",
    "plt.hist(free_duration, alpha = 0.9, bins=30)\n",
    "plt.hist(ultra_duration, alpha = 0.7, bins=30)\n",
    "plt.xlabel('время')\n",
    "plt.ylabel('поездки')\n",
    "plt.show()"
   ]
  },
  {
   "cell_type": "code",
   "execution_count": 42,
   "id": "931c79cd",
   "metadata": {},
   "outputs": [
    {
     "data": {
      "text/plain": [
       "count    11568.000000\n",
       "mean        17.890992\n",
       "std          6.330250\n",
       "min          1.000000\n",
       "25%         13.000000\n",
       "50%         18.000000\n",
       "75%         22.000000\n",
       "max         35.000000\n",
       "Name: duration, dtype: float64"
      ]
     },
     "execution_count": 42,
     "metadata": {},
     "output_type": "execute_result"
    }
   ],
   "source": [
    "free_duration.describe()"
   ]
  },
  {
   "cell_type": "code",
   "execution_count": 43,
   "id": "234ad6ff",
   "metadata": {},
   "outputs": [
    {
     "data": {
      "text/plain": [
       "count    6500.000000\n",
       "mean       19.037692\n",
       "std         5.577439\n",
       "min         4.000000\n",
       "25%        15.000000\n",
       "50%        19.000000\n",
       "75%        22.000000\n",
       "max        41.000000\n",
       "Name: duration, dtype: float64"
      ]
     },
     "execution_count": 43,
     "metadata": {},
     "output_type": "execute_result"
    }
   ],
   "source": [
    "ultra_duration.describe()"
   ]
  },
  {
   "cell_type": "markdown",
   "id": "cf45ed4c",
   "metadata": {},
   "source": [
    "Графики сильно похожи. Распределение времени использования самокатов пользователями обеих групп близко к нормальному. Среднее время почти равное (18 и 19 минут). График времени пользователей с подпиской имеет пик на значении 15 минут, у пользователей без подписки пик - 10 минут. "
   ]
  },
  {
   "cell_type": "markdown",
   "id": "e64fbd96",
   "metadata": {},
   "source": [
    "**ВЫВОД:** Объединили датафреймы, создали два новых датафрейма для пользователей с подпиской и без. Выяснили, что распределение времени использования самокатов у пользователей обоих групп схожее, минимальное время подписчиков в 4 раза больше минимального времени использования самокатов пользователями без подписки.\\\n",
    "Распределение протяженности поездок пользователей обеих групп также схожее, но различие в том, что стандартное отклонение от среднего расстояния у пользователей с подпиской меньше, их график уже (значения находятся ближе к среднему)."
   ]
  },
  {
   "cell_type": "markdown",
   "id": "402d620f",
   "metadata": {},
   "source": [
    "#### Шаг 5. Подсчёт выручки"
   ]
  },
  {
   "cell_type": "code",
   "execution_count": 44,
   "id": "53049e0a",
   "metadata": {},
   "outputs": [
    {
     "data": {
      "text/html": [
       "<div>\n",
       "<style scoped>\n",
       "    .dataframe tbody tr th:only-of-type {\n",
       "        vertical-align: middle;\n",
       "    }\n",
       "\n",
       "    .dataframe tbody tr th {\n",
       "        vertical-align: top;\n",
       "    }\n",
       "\n",
       "    .dataframe thead th {\n",
       "        text-align: right;\n",
       "    }\n",
       "</style>\n",
       "<table border=\"1\" class=\"dataframe\">\n",
       "  <thead>\n",
       "    <tr style=\"text-align: right;\">\n",
       "      <th></th>\n",
       "      <th></th>\n",
       "      <th></th>\n",
       "      <th></th>\n",
       "      <th></th>\n",
       "      <th>distance_sum</th>\n",
       "      <th>duration_sum</th>\n",
       "      <th>price_for_minute</th>\n",
       "      <th>count</th>\n",
       "      <th>start_price</th>\n",
       "      <th>subscription_type</th>\n",
       "    </tr>\n",
       "    <tr>\n",
       "      <th>user_id</th>\n",
       "      <th>month</th>\n",
       "      <th>minute_price</th>\n",
       "      <th>start_ride_price</th>\n",
       "      <th>subscription_fee</th>\n",
       "      <th></th>\n",
       "      <th></th>\n",
       "      <th></th>\n",
       "      <th></th>\n",
       "      <th></th>\n",
       "      <th></th>\n",
       "    </tr>\n",
       "  </thead>\n",
       "  <tbody>\n",
       "    <tr>\n",
       "      <th rowspan=\"6\" valign=\"top\">1</th>\n",
       "      <th>1</th>\n",
       "      <th>6</th>\n",
       "      <th>0</th>\n",
       "      <th>199</th>\n",
       "      <td>7027.511294</td>\n",
       "      <td>42.0</td>\n",
       "      <td>6</td>\n",
       "      <td>2</td>\n",
       "      <td>0</td>\n",
       "      <td>199</td>\n",
       "    </tr>\n",
       "    <tr>\n",
       "      <th>4</th>\n",
       "      <th>6</th>\n",
       "      <th>0</th>\n",
       "      <th>199</th>\n",
       "      <td>754.159807</td>\n",
       "      <td>7.0</td>\n",
       "      <td>6</td>\n",
       "      <td>1</td>\n",
       "      <td>0</td>\n",
       "      <td>199</td>\n",
       "    </tr>\n",
       "    <tr>\n",
       "      <th>8</th>\n",
       "      <th>6</th>\n",
       "      <th>0</th>\n",
       "      <th>199</th>\n",
       "      <td>6723.470560</td>\n",
       "      <td>46.0</td>\n",
       "      <td>6</td>\n",
       "      <td>2</td>\n",
       "      <td>0</td>\n",
       "      <td>199</td>\n",
       "    </tr>\n",
       "    <tr>\n",
       "      <th>10</th>\n",
       "      <th>6</th>\n",
       "      <th>0</th>\n",
       "      <th>199</th>\n",
       "      <td>5809.911100</td>\n",
       "      <td>32.0</td>\n",
       "      <td>6</td>\n",
       "      <td>2</td>\n",
       "      <td>0</td>\n",
       "      <td>199</td>\n",
       "    </tr>\n",
       "    <tr>\n",
       "      <th>11</th>\n",
       "      <th>6</th>\n",
       "      <th>0</th>\n",
       "      <th>199</th>\n",
       "      <td>7003.499363</td>\n",
       "      <td>56.0</td>\n",
       "      <td>6</td>\n",
       "      <td>3</td>\n",
       "      <td>0</td>\n",
       "      <td>199</td>\n",
       "    </tr>\n",
       "    <tr>\n",
       "      <th>12</th>\n",
       "      <th>6</th>\n",
       "      <th>0</th>\n",
       "      <th>199</th>\n",
       "      <td>6751.629942</td>\n",
       "      <td>28.0</td>\n",
       "      <td>6</td>\n",
       "      <td>2</td>\n",
       "      <td>0</td>\n",
       "      <td>199</td>\n",
       "    </tr>\n",
       "    <tr>\n",
       "      <th rowspan=\"7\" valign=\"top\">2</th>\n",
       "      <th>3</th>\n",
       "      <th>6</th>\n",
       "      <th>0</th>\n",
       "      <th>199</th>\n",
       "      <td>10187.723006</td>\n",
       "      <td>63.0</td>\n",
       "      <td>6</td>\n",
       "      <td>3</td>\n",
       "      <td>0</td>\n",
       "      <td>199</td>\n",
       "    </tr>\n",
       "    <tr>\n",
       "      <th>4</th>\n",
       "      <th>6</th>\n",
       "      <th>0</th>\n",
       "      <th>199</th>\n",
       "      <td>6164.381824</td>\n",
       "      <td>40.0</td>\n",
       "      <td>6</td>\n",
       "      <td>2</td>\n",
       "      <td>0</td>\n",
       "      <td>199</td>\n",
       "    </tr>\n",
       "    <tr>\n",
       "      <th>6</th>\n",
       "      <th>6</th>\n",
       "      <th>0</th>\n",
       "      <th>199</th>\n",
       "      <td>3255.338202</td>\n",
       "      <td>14.0</td>\n",
       "      <td>6</td>\n",
       "      <td>1</td>\n",
       "      <td>0</td>\n",
       "      <td>199</td>\n",
       "    </tr>\n",
       "    <tr>\n",
       "      <th>7</th>\n",
       "      <th>6</th>\n",
       "      <th>0</th>\n",
       "      <th>199</th>\n",
       "      <td>6780.722964</td>\n",
       "      <td>48.0</td>\n",
       "      <td>6</td>\n",
       "      <td>2</td>\n",
       "      <td>0</td>\n",
       "      <td>199</td>\n",
       "    </tr>\n",
       "    <tr>\n",
       "      <th>8</th>\n",
       "      <th>6</th>\n",
       "      <th>0</th>\n",
       "      <th>199</th>\n",
       "      <td>923.007439</td>\n",
       "      <td>7.0</td>\n",
       "      <td>6</td>\n",
       "      <td>1</td>\n",
       "      <td>0</td>\n",
       "      <td>199</td>\n",
       "    </tr>\n",
       "    <tr>\n",
       "      <th>10</th>\n",
       "      <th>6</th>\n",
       "      <th>0</th>\n",
       "      <th>199</th>\n",
       "      <td>2824.636598</td>\n",
       "      <td>19.0</td>\n",
       "      <td>6</td>\n",
       "      <td>1</td>\n",
       "      <td>0</td>\n",
       "      <td>199</td>\n",
       "    </tr>\n",
       "    <tr>\n",
       "      <th>12</th>\n",
       "      <th>6</th>\n",
       "      <th>0</th>\n",
       "      <th>199</th>\n",
       "      <td>3828.248580</td>\n",
       "      <td>12.0</td>\n",
       "      <td>6</td>\n",
       "      <td>1</td>\n",
       "      <td>0</td>\n",
       "      <td>199</td>\n",
       "    </tr>\n",
       "    <tr>\n",
       "      <th rowspan=\"7\" valign=\"top\">3</th>\n",
       "      <th>1</th>\n",
       "      <th>6</th>\n",
       "      <th>0</th>\n",
       "      <th>199</th>\n",
       "      <td>3061.777147</td>\n",
       "      <td>13.0</td>\n",
       "      <td>6</td>\n",
       "      <td>1</td>\n",
       "      <td>0</td>\n",
       "      <td>199</td>\n",
       "    </tr>\n",
       "    <tr>\n",
       "      <th>2</th>\n",
       "      <th>6</th>\n",
       "      <th>0</th>\n",
       "      <th>199</th>\n",
       "      <td>5421.152016</td>\n",
       "      <td>39.0</td>\n",
       "      <td>6</td>\n",
       "      <td>2</td>\n",
       "      <td>0</td>\n",
       "      <td>199</td>\n",
       "    </tr>\n",
       "    <tr>\n",
       "      <th>4</th>\n",
       "      <th>6</th>\n",
       "      <th>0</th>\n",
       "      <th>199</th>\n",
       "      <td>2956.651632</td>\n",
       "      <td>21.0</td>\n",
       "      <td>6</td>\n",
       "      <td>1</td>\n",
       "      <td>0</td>\n",
       "      <td>199</td>\n",
       "    </tr>\n",
       "    <tr>\n",
       "      <th>5</th>\n",
       "      <th>6</th>\n",
       "      <th>0</th>\n",
       "      <th>199</th>\n",
       "      <td>9064.026918</td>\n",
       "      <td>63.0</td>\n",
       "      <td>6</td>\n",
       "      <td>3</td>\n",
       "      <td>0</td>\n",
       "      <td>199</td>\n",
       "    </tr>\n",
       "    <tr>\n",
       "      <th>7</th>\n",
       "      <th>6</th>\n",
       "      <th>0</th>\n",
       "      <th>199</th>\n",
       "      <td>10919.595403</td>\n",
       "      <td>67.0</td>\n",
       "      <td>6</td>\n",
       "      <td>3</td>\n",
       "      <td>0</td>\n",
       "      <td>199</td>\n",
       "    </tr>\n",
       "    <tr>\n",
       "      <th>9</th>\n",
       "      <th>6</th>\n",
       "      <th>0</th>\n",
       "      <th>199</th>\n",
       "      <td>2891.012822</td>\n",
       "      <td>23.0</td>\n",
       "      <td>6</td>\n",
       "      <td>1</td>\n",
       "      <td>0</td>\n",
       "      <td>199</td>\n",
       "    </tr>\n",
       "    <tr>\n",
       "      <th>12</th>\n",
       "      <th>6</th>\n",
       "      <th>0</th>\n",
       "      <th>199</th>\n",
       "      <td>2593.381928</td>\n",
       "      <td>13.0</td>\n",
       "      <td>6</td>\n",
       "      <td>1</td>\n",
       "      <td>0</td>\n",
       "      <td>199</td>\n",
       "    </tr>\n",
       "    <tr>\n",
       "      <th rowspan=\"5\" valign=\"top\">4</th>\n",
       "      <th>2</th>\n",
       "      <th>6</th>\n",
       "      <th>0</th>\n",
       "      <th>199</th>\n",
       "      <td>6339.696747</td>\n",
       "      <td>49.0</td>\n",
       "      <td>6</td>\n",
       "      <td>2</td>\n",
       "      <td>0</td>\n",
       "      <td>199</td>\n",
       "    </tr>\n",
       "    <tr>\n",
       "      <th>6</th>\n",
       "      <th>6</th>\n",
       "      <th>0</th>\n",
       "      <th>199</th>\n",
       "      <td>6753.041806</td>\n",
       "      <td>45.0</td>\n",
       "      <td>6</td>\n",
       "      <td>2</td>\n",
       "      <td>0</td>\n",
       "      <td>199</td>\n",
       "    </tr>\n",
       "    <tr>\n",
       "      <th>7</th>\n",
       "      <th>6</th>\n",
       "      <th>0</th>\n",
       "      <th>199</th>\n",
       "      <td>10491.175555</td>\n",
       "      <td>56.0</td>\n",
       "      <td>6</td>\n",
       "      <td>3</td>\n",
       "      <td>0</td>\n",
       "      <td>199</td>\n",
       "    </tr>\n",
       "    <tr>\n",
       "      <th>8</th>\n",
       "      <th>6</th>\n",
       "      <th>0</th>\n",
       "      <th>199</th>\n",
       "      <td>4649.488243</td>\n",
       "      <td>36.0</td>\n",
       "      <td>6</td>\n",
       "      <td>1</td>\n",
       "      <td>0</td>\n",
       "      <td>199</td>\n",
       "    </tr>\n",
       "    <tr>\n",
       "      <th>10</th>\n",
       "      <th>6</th>\n",
       "      <th>0</th>\n",
       "      <th>199</th>\n",
       "      <td>13260.762274</td>\n",
       "      <td>79.0</td>\n",
       "      <td>6</td>\n",
       "      <td>4</td>\n",
       "      <td>0</td>\n",
       "      <td>199</td>\n",
       "    </tr>\n",
       "  </tbody>\n",
       "</table>\n",
       "</div>"
      ],
      "text/plain": [
       "                                                              distance_sum  \\\n",
       "user_id month minute_price start_ride_price subscription_fee                 \n",
       "1       1     6            0                199                7027.511294   \n",
       "        4     6            0                199                 754.159807   \n",
       "        8     6            0                199                6723.470560   \n",
       "        10    6            0                199                5809.911100   \n",
       "        11    6            0                199                7003.499363   \n",
       "        12    6            0                199                6751.629942   \n",
       "2       3     6            0                199               10187.723006   \n",
       "        4     6            0                199                6164.381824   \n",
       "        6     6            0                199                3255.338202   \n",
       "        7     6            0                199                6780.722964   \n",
       "        8     6            0                199                 923.007439   \n",
       "        10    6            0                199                2824.636598   \n",
       "        12    6            0                199                3828.248580   \n",
       "3       1     6            0                199                3061.777147   \n",
       "        2     6            0                199                5421.152016   \n",
       "        4     6            0                199                2956.651632   \n",
       "        5     6            0                199                9064.026918   \n",
       "        7     6            0                199               10919.595403   \n",
       "        9     6            0                199                2891.012822   \n",
       "        12    6            0                199                2593.381928   \n",
       "4       2     6            0                199                6339.696747   \n",
       "        6     6            0                199                6753.041806   \n",
       "        7     6            0                199               10491.175555   \n",
       "        8     6            0                199                4649.488243   \n",
       "        10    6            0                199               13260.762274   \n",
       "\n",
       "                                                              duration_sum  \\\n",
       "user_id month minute_price start_ride_price subscription_fee                 \n",
       "1       1     6            0                199                       42.0   \n",
       "        4     6            0                199                        7.0   \n",
       "        8     6            0                199                       46.0   \n",
       "        10    6            0                199                       32.0   \n",
       "        11    6            0                199                       56.0   \n",
       "        12    6            0                199                       28.0   \n",
       "2       3     6            0                199                       63.0   \n",
       "        4     6            0                199                       40.0   \n",
       "        6     6            0                199                       14.0   \n",
       "        7     6            0                199                       48.0   \n",
       "        8     6            0                199                        7.0   \n",
       "        10    6            0                199                       19.0   \n",
       "        12    6            0                199                       12.0   \n",
       "3       1     6            0                199                       13.0   \n",
       "        2     6            0                199                       39.0   \n",
       "        4     6            0                199                       21.0   \n",
       "        5     6            0                199                       63.0   \n",
       "        7     6            0                199                       67.0   \n",
       "        9     6            0                199                       23.0   \n",
       "        12    6            0                199                       13.0   \n",
       "4       2     6            0                199                       49.0   \n",
       "        6     6            0                199                       45.0   \n",
       "        7     6            0                199                       56.0   \n",
       "        8     6            0                199                       36.0   \n",
       "        10    6            0                199                       79.0   \n",
       "\n",
       "                                                              price_for_minute  \\\n",
       "user_id month minute_price start_ride_price subscription_fee                     \n",
       "1       1     6            0                199                              6   \n",
       "        4     6            0                199                              6   \n",
       "        8     6            0                199                              6   \n",
       "        10    6            0                199                              6   \n",
       "        11    6            0                199                              6   \n",
       "        12    6            0                199                              6   \n",
       "2       3     6            0                199                              6   \n",
       "        4     6            0                199                              6   \n",
       "        6     6            0                199                              6   \n",
       "        7     6            0                199                              6   \n",
       "        8     6            0                199                              6   \n",
       "        10    6            0                199                              6   \n",
       "        12    6            0                199                              6   \n",
       "3       1     6            0                199                              6   \n",
       "        2     6            0                199                              6   \n",
       "        4     6            0                199                              6   \n",
       "        5     6            0                199                              6   \n",
       "        7     6            0                199                              6   \n",
       "        9     6            0                199                              6   \n",
       "        12    6            0                199                              6   \n",
       "4       2     6            0                199                              6   \n",
       "        6     6            0                199                              6   \n",
       "        7     6            0                199                              6   \n",
       "        8     6            0                199                              6   \n",
       "        10    6            0                199                              6   \n",
       "\n",
       "                                                              count  \\\n",
       "user_id month minute_price start_ride_price subscription_fee          \n",
       "1       1     6            0                199                   2   \n",
       "        4     6            0                199                   1   \n",
       "        8     6            0                199                   2   \n",
       "        10    6            0                199                   2   \n",
       "        11    6            0                199                   3   \n",
       "        12    6            0                199                   2   \n",
       "2       3     6            0                199                   3   \n",
       "        4     6            0                199                   2   \n",
       "        6     6            0                199                   1   \n",
       "        7     6            0                199                   2   \n",
       "        8     6            0                199                   1   \n",
       "        10    6            0                199                   1   \n",
       "        12    6            0                199                   1   \n",
       "3       1     6            0                199                   1   \n",
       "        2     6            0                199                   2   \n",
       "        4     6            0                199                   1   \n",
       "        5     6            0                199                   3   \n",
       "        7     6            0                199                   3   \n",
       "        9     6            0                199                   1   \n",
       "        12    6            0                199                   1   \n",
       "4       2     6            0                199                   2   \n",
       "        6     6            0                199                   2   \n",
       "        7     6            0                199                   3   \n",
       "        8     6            0                199                   1   \n",
       "        10    6            0                199                   4   \n",
       "\n",
       "                                                              start_price  \\\n",
       "user_id month minute_price start_ride_price subscription_fee                \n",
       "1       1     6            0                199                         0   \n",
       "        4     6            0                199                         0   \n",
       "        8     6            0                199                         0   \n",
       "        10    6            0                199                         0   \n",
       "        11    6            0                199                         0   \n",
       "        12    6            0                199                         0   \n",
       "2       3     6            0                199                         0   \n",
       "        4     6            0                199                         0   \n",
       "        6     6            0                199                         0   \n",
       "        7     6            0                199                         0   \n",
       "        8     6            0                199                         0   \n",
       "        10    6            0                199                         0   \n",
       "        12    6            0                199                         0   \n",
       "3       1     6            0                199                         0   \n",
       "        2     6            0                199                         0   \n",
       "        4     6            0                199                         0   \n",
       "        5     6            0                199                         0   \n",
       "        7     6            0                199                         0   \n",
       "        9     6            0                199                         0   \n",
       "        12    6            0                199                         0   \n",
       "4       2     6            0                199                         0   \n",
       "        6     6            0                199                         0   \n",
       "        7     6            0                199                         0   \n",
       "        8     6            0                199                         0   \n",
       "        10    6            0                199                         0   \n",
       "\n",
       "                                                              subscription_type  \n",
       "user_id month minute_price start_ride_price subscription_fee                     \n",
       "1       1     6            0                199                             199  \n",
       "        4     6            0                199                             199  \n",
       "        8     6            0                199                             199  \n",
       "        10    6            0                199                             199  \n",
       "        11    6            0                199                             199  \n",
       "        12    6            0                199                             199  \n",
       "2       3     6            0                199                             199  \n",
       "        4     6            0                199                             199  \n",
       "        6     6            0                199                             199  \n",
       "        7     6            0                199                             199  \n",
       "        8     6            0                199                             199  \n",
       "        10    6            0                199                             199  \n",
       "        12    6            0                199                             199  \n",
       "3       1     6            0                199                             199  \n",
       "        2     6            0                199                             199  \n",
       "        4     6            0                199                             199  \n",
       "        5     6            0                199                             199  \n",
       "        7     6            0                199                             199  \n",
       "        9     6            0                199                             199  \n",
       "        12    6            0                199                             199  \n",
       "4       2     6            0                199                             199  \n",
       "        6     6            0                199                             199  \n",
       "        7     6            0                199                             199  \n",
       "        8     6            0                199                             199  \n",
       "        10    6            0                199                             199  "
      ]
     },
     "execution_count": 44,
     "metadata": {},
     "output_type": "execute_result"
    }
   ],
   "source": [
    "# С помощью сводной таблицы создадим датафрейм, содержащий данные о суммарном расстоянии, \n",
    "# количестве поездок и суммарном времени для каждого пользователя за каждый месяц, а также данные о подписках\n",
    "df_agregated = merge_data.pivot_table(index=['user_id', 'month', 'minute_price', 'start_ride_price', 'subscription_fee'],\n",
    "                                      values=['duration', 'distance'],\n",
    "                                    aggfunc={'duration': 'sum', 'month': 'count', 'distance': 'sum', 'minute_price': 'min',\n",
    "                                            'start_ride_price': 'min', 'subscription_fee': 'min'})\n",
    "df_agregated.columns = ['distance_sum', 'duration_sum', 'price_for_minute', 'count', 'start_price', 'subscription_type']\n",
    "\n",
    "df_agregated.head(25)"
   ]
  },
  {
   "cell_type": "code",
   "execution_count": 45,
   "id": "2a44b531",
   "metadata": {},
   "outputs": [
    {
     "data": {
      "text/html": [
       "<div>\n",
       "<style scoped>\n",
       "    .dataframe tbody tr th:only-of-type {\n",
       "        vertical-align: middle;\n",
       "    }\n",
       "\n",
       "    .dataframe tbody tr th {\n",
       "        vertical-align: top;\n",
       "    }\n",
       "\n",
       "    .dataframe thead th {\n",
       "        text-align: right;\n",
       "    }\n",
       "</style>\n",
       "<table border=\"1\" class=\"dataframe\">\n",
       "  <thead>\n",
       "    <tr style=\"text-align: right;\">\n",
       "      <th></th>\n",
       "      <th></th>\n",
       "      <th></th>\n",
       "      <th></th>\n",
       "      <th></th>\n",
       "      <th>distance_sum</th>\n",
       "      <th>duration_sum</th>\n",
       "      <th>price_for_minute</th>\n",
       "      <th>count</th>\n",
       "      <th>start_price</th>\n",
       "      <th>subscription_type</th>\n",
       "      <th>revenue</th>\n",
       "    </tr>\n",
       "    <tr>\n",
       "      <th>user_id</th>\n",
       "      <th>month</th>\n",
       "      <th>minute_price</th>\n",
       "      <th>start_ride_price</th>\n",
       "      <th>subscription_fee</th>\n",
       "      <th></th>\n",
       "      <th></th>\n",
       "      <th></th>\n",
       "      <th></th>\n",
       "      <th></th>\n",
       "      <th></th>\n",
       "      <th></th>\n",
       "    </tr>\n",
       "  </thead>\n",
       "  <tbody>\n",
       "    <tr>\n",
       "      <th rowspan=\"6\" valign=\"top\">1</th>\n",
       "      <th>1</th>\n",
       "      <th>6</th>\n",
       "      <th>0</th>\n",
       "      <th>199</th>\n",
       "      <td>7027.511294</td>\n",
       "      <td>42.0</td>\n",
       "      <td>6</td>\n",
       "      <td>2</td>\n",
       "      <td>0</td>\n",
       "      <td>199</td>\n",
       "      <td>451.0</td>\n",
       "    </tr>\n",
       "    <tr>\n",
       "      <th>4</th>\n",
       "      <th>6</th>\n",
       "      <th>0</th>\n",
       "      <th>199</th>\n",
       "      <td>754.159807</td>\n",
       "      <td>7.0</td>\n",
       "      <td>6</td>\n",
       "      <td>1</td>\n",
       "      <td>0</td>\n",
       "      <td>199</td>\n",
       "      <td>241.0</td>\n",
       "    </tr>\n",
       "    <tr>\n",
       "      <th>8</th>\n",
       "      <th>6</th>\n",
       "      <th>0</th>\n",
       "      <th>199</th>\n",
       "      <td>6723.470560</td>\n",
       "      <td>46.0</td>\n",
       "      <td>6</td>\n",
       "      <td>2</td>\n",
       "      <td>0</td>\n",
       "      <td>199</td>\n",
       "      <td>475.0</td>\n",
       "    </tr>\n",
       "    <tr>\n",
       "      <th>10</th>\n",
       "      <th>6</th>\n",
       "      <th>0</th>\n",
       "      <th>199</th>\n",
       "      <td>5809.911100</td>\n",
       "      <td>32.0</td>\n",
       "      <td>6</td>\n",
       "      <td>2</td>\n",
       "      <td>0</td>\n",
       "      <td>199</td>\n",
       "      <td>391.0</td>\n",
       "    </tr>\n",
       "    <tr>\n",
       "      <th>11</th>\n",
       "      <th>6</th>\n",
       "      <th>0</th>\n",
       "      <th>199</th>\n",
       "      <td>7003.499363</td>\n",
       "      <td>56.0</td>\n",
       "      <td>6</td>\n",
       "      <td>3</td>\n",
       "      <td>0</td>\n",
       "      <td>199</td>\n",
       "      <td>535.0</td>\n",
       "    </tr>\n",
       "    <tr>\n",
       "      <th>12</th>\n",
       "      <th>6</th>\n",
       "      <th>0</th>\n",
       "      <th>199</th>\n",
       "      <td>6751.629942</td>\n",
       "      <td>28.0</td>\n",
       "      <td>6</td>\n",
       "      <td>2</td>\n",
       "      <td>0</td>\n",
       "      <td>199</td>\n",
       "      <td>367.0</td>\n",
       "    </tr>\n",
       "    <tr>\n",
       "      <th rowspan=\"7\" valign=\"top\">2</th>\n",
       "      <th>3</th>\n",
       "      <th>6</th>\n",
       "      <th>0</th>\n",
       "      <th>199</th>\n",
       "      <td>10187.723006</td>\n",
       "      <td>63.0</td>\n",
       "      <td>6</td>\n",
       "      <td>3</td>\n",
       "      <td>0</td>\n",
       "      <td>199</td>\n",
       "      <td>577.0</td>\n",
       "    </tr>\n",
       "    <tr>\n",
       "      <th>4</th>\n",
       "      <th>6</th>\n",
       "      <th>0</th>\n",
       "      <th>199</th>\n",
       "      <td>6164.381824</td>\n",
       "      <td>40.0</td>\n",
       "      <td>6</td>\n",
       "      <td>2</td>\n",
       "      <td>0</td>\n",
       "      <td>199</td>\n",
       "      <td>439.0</td>\n",
       "    </tr>\n",
       "    <tr>\n",
       "      <th>6</th>\n",
       "      <th>6</th>\n",
       "      <th>0</th>\n",
       "      <th>199</th>\n",
       "      <td>3255.338202</td>\n",
       "      <td>14.0</td>\n",
       "      <td>6</td>\n",
       "      <td>1</td>\n",
       "      <td>0</td>\n",
       "      <td>199</td>\n",
       "      <td>283.0</td>\n",
       "    </tr>\n",
       "    <tr>\n",
       "      <th>7</th>\n",
       "      <th>6</th>\n",
       "      <th>0</th>\n",
       "      <th>199</th>\n",
       "      <td>6780.722964</td>\n",
       "      <td>48.0</td>\n",
       "      <td>6</td>\n",
       "      <td>2</td>\n",
       "      <td>0</td>\n",
       "      <td>199</td>\n",
       "      <td>487.0</td>\n",
       "    </tr>\n",
       "    <tr>\n",
       "      <th>8</th>\n",
       "      <th>6</th>\n",
       "      <th>0</th>\n",
       "      <th>199</th>\n",
       "      <td>923.007439</td>\n",
       "      <td>7.0</td>\n",
       "      <td>6</td>\n",
       "      <td>1</td>\n",
       "      <td>0</td>\n",
       "      <td>199</td>\n",
       "      <td>241.0</td>\n",
       "    </tr>\n",
       "    <tr>\n",
       "      <th>10</th>\n",
       "      <th>6</th>\n",
       "      <th>0</th>\n",
       "      <th>199</th>\n",
       "      <td>2824.636598</td>\n",
       "      <td>19.0</td>\n",
       "      <td>6</td>\n",
       "      <td>1</td>\n",
       "      <td>0</td>\n",
       "      <td>199</td>\n",
       "      <td>313.0</td>\n",
       "    </tr>\n",
       "    <tr>\n",
       "      <th>12</th>\n",
       "      <th>6</th>\n",
       "      <th>0</th>\n",
       "      <th>199</th>\n",
       "      <td>3828.248580</td>\n",
       "      <td>12.0</td>\n",
       "      <td>6</td>\n",
       "      <td>1</td>\n",
       "      <td>0</td>\n",
       "      <td>199</td>\n",
       "      <td>271.0</td>\n",
       "    </tr>\n",
       "    <tr>\n",
       "      <th rowspan=\"7\" valign=\"top\">3</th>\n",
       "      <th>1</th>\n",
       "      <th>6</th>\n",
       "      <th>0</th>\n",
       "      <th>199</th>\n",
       "      <td>3061.777147</td>\n",
       "      <td>13.0</td>\n",
       "      <td>6</td>\n",
       "      <td>1</td>\n",
       "      <td>0</td>\n",
       "      <td>199</td>\n",
       "      <td>277.0</td>\n",
       "    </tr>\n",
       "    <tr>\n",
       "      <th>2</th>\n",
       "      <th>6</th>\n",
       "      <th>0</th>\n",
       "      <th>199</th>\n",
       "      <td>5421.152016</td>\n",
       "      <td>39.0</td>\n",
       "      <td>6</td>\n",
       "      <td>2</td>\n",
       "      <td>0</td>\n",
       "      <td>199</td>\n",
       "      <td>433.0</td>\n",
       "    </tr>\n",
       "    <tr>\n",
       "      <th>4</th>\n",
       "      <th>6</th>\n",
       "      <th>0</th>\n",
       "      <th>199</th>\n",
       "      <td>2956.651632</td>\n",
       "      <td>21.0</td>\n",
       "      <td>6</td>\n",
       "      <td>1</td>\n",
       "      <td>0</td>\n",
       "      <td>199</td>\n",
       "      <td>325.0</td>\n",
       "    </tr>\n",
       "    <tr>\n",
       "      <th>5</th>\n",
       "      <th>6</th>\n",
       "      <th>0</th>\n",
       "      <th>199</th>\n",
       "      <td>9064.026918</td>\n",
       "      <td>63.0</td>\n",
       "      <td>6</td>\n",
       "      <td>3</td>\n",
       "      <td>0</td>\n",
       "      <td>199</td>\n",
       "      <td>577.0</td>\n",
       "    </tr>\n",
       "    <tr>\n",
       "      <th>7</th>\n",
       "      <th>6</th>\n",
       "      <th>0</th>\n",
       "      <th>199</th>\n",
       "      <td>10919.595403</td>\n",
       "      <td>67.0</td>\n",
       "      <td>6</td>\n",
       "      <td>3</td>\n",
       "      <td>0</td>\n",
       "      <td>199</td>\n",
       "      <td>601.0</td>\n",
       "    </tr>\n",
       "    <tr>\n",
       "      <th>9</th>\n",
       "      <th>6</th>\n",
       "      <th>0</th>\n",
       "      <th>199</th>\n",
       "      <td>2891.012822</td>\n",
       "      <td>23.0</td>\n",
       "      <td>6</td>\n",
       "      <td>1</td>\n",
       "      <td>0</td>\n",
       "      <td>199</td>\n",
       "      <td>337.0</td>\n",
       "    </tr>\n",
       "    <tr>\n",
       "      <th>12</th>\n",
       "      <th>6</th>\n",
       "      <th>0</th>\n",
       "      <th>199</th>\n",
       "      <td>2593.381928</td>\n",
       "      <td>13.0</td>\n",
       "      <td>6</td>\n",
       "      <td>1</td>\n",
       "      <td>0</td>\n",
       "      <td>199</td>\n",
       "      <td>277.0</td>\n",
       "    </tr>\n",
       "  </tbody>\n",
       "</table>\n",
       "</div>"
      ],
      "text/plain": [
       "                                                              distance_sum  \\\n",
       "user_id month minute_price start_ride_price subscription_fee                 \n",
       "1       1     6            0                199                7027.511294   \n",
       "        4     6            0                199                 754.159807   \n",
       "        8     6            0                199                6723.470560   \n",
       "        10    6            0                199                5809.911100   \n",
       "        11    6            0                199                7003.499363   \n",
       "        12    6            0                199                6751.629942   \n",
       "2       3     6            0                199               10187.723006   \n",
       "        4     6            0                199                6164.381824   \n",
       "        6     6            0                199                3255.338202   \n",
       "        7     6            0                199                6780.722964   \n",
       "        8     6            0                199                 923.007439   \n",
       "        10    6            0                199                2824.636598   \n",
       "        12    6            0                199                3828.248580   \n",
       "3       1     6            0                199                3061.777147   \n",
       "        2     6            0                199                5421.152016   \n",
       "        4     6            0                199                2956.651632   \n",
       "        5     6            0                199                9064.026918   \n",
       "        7     6            0                199               10919.595403   \n",
       "        9     6            0                199                2891.012822   \n",
       "        12    6            0                199                2593.381928   \n",
       "\n",
       "                                                              duration_sum  \\\n",
       "user_id month minute_price start_ride_price subscription_fee                 \n",
       "1       1     6            0                199                       42.0   \n",
       "        4     6            0                199                        7.0   \n",
       "        8     6            0                199                       46.0   \n",
       "        10    6            0                199                       32.0   \n",
       "        11    6            0                199                       56.0   \n",
       "        12    6            0                199                       28.0   \n",
       "2       3     6            0                199                       63.0   \n",
       "        4     6            0                199                       40.0   \n",
       "        6     6            0                199                       14.0   \n",
       "        7     6            0                199                       48.0   \n",
       "        8     6            0                199                        7.0   \n",
       "        10    6            0                199                       19.0   \n",
       "        12    6            0                199                       12.0   \n",
       "3       1     6            0                199                       13.0   \n",
       "        2     6            0                199                       39.0   \n",
       "        4     6            0                199                       21.0   \n",
       "        5     6            0                199                       63.0   \n",
       "        7     6            0                199                       67.0   \n",
       "        9     6            0                199                       23.0   \n",
       "        12    6            0                199                       13.0   \n",
       "\n",
       "                                                              price_for_minute  \\\n",
       "user_id month minute_price start_ride_price subscription_fee                     \n",
       "1       1     6            0                199                              6   \n",
       "        4     6            0                199                              6   \n",
       "        8     6            0                199                              6   \n",
       "        10    6            0                199                              6   \n",
       "        11    6            0                199                              6   \n",
       "        12    6            0                199                              6   \n",
       "2       3     6            0                199                              6   \n",
       "        4     6            0                199                              6   \n",
       "        6     6            0                199                              6   \n",
       "        7     6            0                199                              6   \n",
       "        8     6            0                199                              6   \n",
       "        10    6            0                199                              6   \n",
       "        12    6            0                199                              6   \n",
       "3       1     6            0                199                              6   \n",
       "        2     6            0                199                              6   \n",
       "        4     6            0                199                              6   \n",
       "        5     6            0                199                              6   \n",
       "        7     6            0                199                              6   \n",
       "        9     6            0                199                              6   \n",
       "        12    6            0                199                              6   \n",
       "\n",
       "                                                              count  \\\n",
       "user_id month minute_price start_ride_price subscription_fee          \n",
       "1       1     6            0                199                   2   \n",
       "        4     6            0                199                   1   \n",
       "        8     6            0                199                   2   \n",
       "        10    6            0                199                   2   \n",
       "        11    6            0                199                   3   \n",
       "        12    6            0                199                   2   \n",
       "2       3     6            0                199                   3   \n",
       "        4     6            0                199                   2   \n",
       "        6     6            0                199                   1   \n",
       "        7     6            0                199                   2   \n",
       "        8     6            0                199                   1   \n",
       "        10    6            0                199                   1   \n",
       "        12    6            0                199                   1   \n",
       "3       1     6            0                199                   1   \n",
       "        2     6            0                199                   2   \n",
       "        4     6            0                199                   1   \n",
       "        5     6            0                199                   3   \n",
       "        7     6            0                199                   3   \n",
       "        9     6            0                199                   1   \n",
       "        12    6            0                199                   1   \n",
       "\n",
       "                                                              start_price  \\\n",
       "user_id month minute_price start_ride_price subscription_fee                \n",
       "1       1     6            0                199                         0   \n",
       "        4     6            0                199                         0   \n",
       "        8     6            0                199                         0   \n",
       "        10    6            0                199                         0   \n",
       "        11    6            0                199                         0   \n",
       "        12    6            0                199                         0   \n",
       "2       3     6            0                199                         0   \n",
       "        4     6            0                199                         0   \n",
       "        6     6            0                199                         0   \n",
       "        7     6            0                199                         0   \n",
       "        8     6            0                199                         0   \n",
       "        10    6            0                199                         0   \n",
       "        12    6            0                199                         0   \n",
       "3       1     6            0                199                         0   \n",
       "        2     6            0                199                         0   \n",
       "        4     6            0                199                         0   \n",
       "        5     6            0                199                         0   \n",
       "        7     6            0                199                         0   \n",
       "        9     6            0                199                         0   \n",
       "        12    6            0                199                         0   \n",
       "\n",
       "                                                              subscription_type  \\\n",
       "user_id month minute_price start_ride_price subscription_fee                      \n",
       "1       1     6            0                199                             199   \n",
       "        4     6            0                199                             199   \n",
       "        8     6            0                199                             199   \n",
       "        10    6            0                199                             199   \n",
       "        11    6            0                199                             199   \n",
       "        12    6            0                199                             199   \n",
       "2       3     6            0                199                             199   \n",
       "        4     6            0                199                             199   \n",
       "        6     6            0                199                             199   \n",
       "        7     6            0                199                             199   \n",
       "        8     6            0                199                             199   \n",
       "        10    6            0                199                             199   \n",
       "        12    6            0                199                             199   \n",
       "3       1     6            0                199                             199   \n",
       "        2     6            0                199                             199   \n",
       "        4     6            0                199                             199   \n",
       "        5     6            0                199                             199   \n",
       "        7     6            0                199                             199   \n",
       "        9     6            0                199                             199   \n",
       "        12    6            0                199                             199   \n",
       "\n",
       "                                                              revenue  \n",
       "user_id month minute_price start_ride_price subscription_fee           \n",
       "1       1     6            0                199                 451.0  \n",
       "        4     6            0                199                 241.0  \n",
       "        8     6            0                199                 475.0  \n",
       "        10    6            0                199                 391.0  \n",
       "        11    6            0                199                 535.0  \n",
       "        12    6            0                199                 367.0  \n",
       "2       3     6            0                199                 577.0  \n",
       "        4     6            0                199                 439.0  \n",
       "        6     6            0                199                 283.0  \n",
       "        7     6            0                199                 487.0  \n",
       "        8     6            0                199                 241.0  \n",
       "        10    6            0                199                 313.0  \n",
       "        12    6            0                199                 271.0  \n",
       "3       1     6            0                199                 277.0  \n",
       "        2     6            0                199                 433.0  \n",
       "        4     6            0                199                 325.0  \n",
       "        5     6            0                199                 577.0  \n",
       "        7     6            0                199                 601.0  \n",
       "        9     6            0                199                 337.0  \n",
       "        12    6            0                199                 277.0  "
      ]
     },
     "execution_count": 45,
     "metadata": {},
     "output_type": "execute_result"
    }
   ],
   "source": [
    "# Добавим в агрегированную таблицу новый столбец с выручкой по месяцам\n",
    "df_agregated['revenue'] = (df_agregated['start_price'] * df_agregated['count']) + (df_agregated['price_for_minute'] * df_agregated['duration_sum']) + df_agregated['subscription_type']\n",
    "df_agregated.head(20)"
   ]
  },
  {
   "cell_type": "code",
   "execution_count": 46,
   "id": "5fb97e87",
   "metadata": {},
   "outputs": [
    {
     "data": {
      "text/plain": [
       "subscription_type\n",
       "0      328.641365\n",
       "199    362.792191\n",
       "Name: revenue, dtype: float64"
      ]
     },
     "execution_count": 46,
     "metadata": {},
     "output_type": "execute_result"
    }
   ],
   "source": [
    "# Код ревьюера\n",
    "df_agregated.groupby('subscription_type')['revenue'].mean()"
   ]
  },
  {
   "cell_type": "markdown",
   "id": "9e79c46f",
   "metadata": {},
   "source": [
    "**ВЫВОД**: создали агрегированную таблицу и посчитали месячную выручку по каждому пользователю."
   ]
  },
  {
   "cell_type": "markdown",
   "id": "41545ac0",
   "metadata": {},
   "source": [
    "#### Шаг 6. Проверка гипотез"
   ]
  },
  {
   "cell_type": "markdown",
   "id": "7eb809ec",
   "metadata": {},
   "source": [
    "**6.1. Проверим гипотезу о том, что пользователи с подпиской тратят больше времени на поездки.**"
   ]
  },
  {
   "cell_type": "markdown",
   "id": "7f49d9c5",
   "metadata": {},
   "source": [
    "Нулевая гипотеза - среднее время использования самокатов пользователями из двух групп равно.\\\n",
    "Альтернативная - среднее время использования самокатов пользователями без подписки меньше, чем среднее время использования самокатов пользователями с подпиской."
   ]
  },
  {
   "cell_type": "markdown",
   "id": "d2aa0095",
   "metadata": {},
   "source": [
    "Вывод: можно сказать, что среднее время использования самокатов пользователями из двух групп равно."
   ]
  },
  {
   "cell_type": "code",
   "execution_count": 47,
   "id": "eafac7ba",
   "metadata": {},
   "outputs": [
    {
     "name": "stdout",
     "output_type": "stream",
     "text": [
      "p-value: 1.1814679253701353e-36\n",
      "Отвергаем нулевую гипотезу\n"
     ]
    }
   ],
   "source": [
    "# Код ревьюера\n",
    "duration_ultra = df_merge.query('subscription_type == \"ultra\"')['duration'] # Время пользователей с подпиской\n",
    "\n",
    "duration_free = df_merge.query('subscription_type == \"free\"')['duration'] # Время пользователей без подписки\n",
    "\n",
    "alpha = 0.05 # Уровень статистической значимости\n",
    "\n",
    "results_duration = st.ttest_ind(duration_ultra, duration_free, equal_var=False, alternative='greater') # Т.к. выборки разные по размерам используем параметр equal_var=False\n",
    "\n",
    "print(f'p-value: {results_duration.pvalue}')\n",
    "\n",
    "# проверяем p-value\n",
    "if results_duration.pvalue < alpha:\n",
    "    print('Отвергаем нулевую гипотезу')\n",
    "else:\n",
    "    print('Нет оснований отвергнуть нулевую гипотезу')"
   ]
  },
  {
   "cell_type": "markdown",
   "id": "c046929a",
   "metadata": {},
   "source": [
    "**6.2. Можно ли сказать, что расстояние, которое проезжают пользователи с подпиской за одну поездку, не превышает 3130 метров? Проверим гипотезу и сделаем выводы.**"
   ]
  },
  {
   "cell_type": "markdown",
   "id": "08f0187c",
   "metadata": {},
   "source": [
    "Нулевая гипотеза - расстояние, которое проезжают бользователи с подпиской не превышает 3130 метров.\\\n",
    "Альтернативная -  расстояние, которое проезжают бользователи с подпиской превышает 3130 метров."
   ]
  },
  {
   "cell_type": "code",
   "execution_count": 48,
   "id": "79008507",
   "metadata": {},
   "outputs": [
    {
     "name": "stdout",
     "output_type": "stream",
     "text": [
      "p-значение: 0.9195368847849785\n",
      "Гипотеза верна\n"
     ]
    }
   ],
   "source": [
    "mean_distance_ultra = 3130 \n",
    "alpha = 0.05\n",
    "# Проверим гипотезу с помощью ttest по датафрейму с данными пользователей с подпиской\n",
    "results_distance = st.ttest_1samp(df_ultra['distance'], mean_distance_ultra, alternative='greater') \n",
    "\n",
    "print('p-значение:', results_distance.pvalue)\n",
    "\n",
    "if results_distance.pvalue < alpha:\n",
    "    print('Отвергаем гипотезу')\n",
    "else:\n",
    "    print('Гипотеза верна')"
   ]
  },
  {
   "cell_type": "markdown",
   "id": "2274a405",
   "metadata": {},
   "source": [
    "Вывод: значение расстояния 3130 метров, которое оптимальное со стороны износа самоката не значительно отличается от среднего расстояния, которое проезжают пользователи с подпиской. Тест это подтвердил, гипотеза верна.  "
   ]
  },
  {
   "cell_type": "markdown",
   "id": "99b04e11",
   "metadata": {},
   "source": [
    "**6.3. Проверим гипотезу о том, будет ли помесячная выручка от пользователей с подпиской по месяцам выше, чем выручка от пользователей без подписки.** "
   ]
  },
  {
   "cell_type": "markdown",
   "id": "47e9c4ec",
   "metadata": {},
   "source": [
    "Нулевая гипотеза - средние значения выручки от пользователей из двух групп равны.\\\n",
    "Альтернативная - среднее значение выручки от пользователей с подпиской больше, чем среднее значение выручки от пользователей без подписки."
   ]
  },
  {
   "cell_type": "code",
   "execution_count": 49,
   "id": "80380dfe",
   "metadata": {},
   "outputs": [
    {
     "name": "stdout",
     "output_type": "stream",
     "text": [
      "p-value: 8.874140893976874e-40\n",
      "Отвергаем нулевую гипотезу\n"
     ]
    }
   ],
   "source": [
    "revenue_ultra = df_agregated.query('subscription_type > 0')['revenue'] # Выручка от пользователей с подпиской\n",
    "\n",
    "revenue_free = df_agregated.query('subscription_type == 0')['revenue'] # Выручка от пользователей без подписки\n",
    "\n",
    "alpha = 0.05 # Уровень статистической значимости\n",
    "\n",
    "results_revenue = st.ttest_ind(revenue_ultra, revenue_free, equal_var=False, alternative='greater') # Т.к. выборки разные по размерам используем параметр equal_var=False\n",
    "\n",
    "print(f'p-value: {results_revenue.pvalue}')\n",
    "\n",
    "# проверяем p-value\n",
    "if results_revenue.pvalue < alpha:\n",
    "    print('Отвергаем нулевую гипотезу')\n",
    "else:\n",
    "    print('Нет оснований отвергнуть нулевую гипотезу')"
   ]
  },
  {
   "cell_type": "markdown",
   "id": "3b6e74ef",
   "metadata": {},
   "source": [
    "Вывод: полученное значение p-value меньше заданного уровня значимости, поэтому можно отвергнуть нулевую гипотезу. Можно сказать, что выручка от пользователи с подпиской больше."
   ]
  },
  {
   "cell_type": "markdown",
   "id": "35b2f2ac",
   "metadata": {},
   "source": [
    "**6.4. Представим такую ситуацию: техническая команда сервиса обновила сервера, с которыми взаимодействует мобильное приложение. Она надеется, что из-за этого количество обращений в техподдержку значимо снизилось. Некоторый файл содержит для каждого пользователя данные о количестве обращений до обновления и после него. Какой тест нам понадобился бы для проверки этой гипотезы**"
   ]
  },
  {
   "cell_type": "markdown",
   "id": "5978a4a6",
   "metadata": {},
   "source": [
    "В данной задаче количество обращений в техподдержку можно рассматривать как генеральную совокупность, с которой произошли некоторые изменения (обновление серверов). Поэтому здесь нельзя испольпользовать t-тест для проверки гипотезы, так как не выполняется условие о том, что генеральные совокупности НЕ должны зависить друг от друга. Для проверки гипотезы о равенстве средних двух генеральных совокупностей для зависимых (парных) выборок необходимо использовать метод scipy.stats.ttest_rel() и передать ему два параметра: набор данных до обновления серверов и после."
   ]
  },
  {
   "cell_type": "markdown",
   "id": "d14aade9",
   "metadata": {},
   "source": [
    "**ОБЩИЙ ВЫВОД:**\\\n",
    "Проведено исследование сервиса аренды самокатов. В ходе исследования выявлены города с наибольшим число пользователей (Пятигорск и Екатеринбург) и наименьшим числом пользователей (Москва). Средний возраст пользователей 25 лет, пользователей с подпиской меньше, чем пользователей без подписки (примерно 699/835).\\\n",
    "Произведен расчет помесячной выручки.\\\n",
    "В ходе исследования были проверены несколько гипотез. По результатам проверки гипотез можно сказать, что продолжительность поездок пользователей с подпиской и без одинаковая, а вот выручка сервиса, благодаря пользователям с подпиской выше. Значит необходимо увеличить количество пользователей с подпиской, для этого можно использовать различные акции.\\\n",
    "Также проверили гипотезу о том, что пользователи с подпиской проезжают не более 3130 метров за одну поездку (это оптимальное расстояние с точки зрения износа самоката). Гипотеза подтвердилась.\\\n",
    "Пользователи с подпиской являются более выгодными для компании."
   ]
  }
 ],
 "metadata": {
  "ExecuteTimeLog": [
   {
    "duration": 1392,
    "start_time": "2023-05-14T14:33:05.534Z"
   },
   {
    "duration": 3,
    "start_time": "2023-05-14T14:33:15.747Z"
   },
   {
    "duration": 1170,
    "start_time": "2023-05-18T06:36:37.550Z"
   },
   {
    "duration": 141,
    "start_time": "2023-05-18T06:36:38.722Z"
   },
   {
    "duration": 30,
    "start_time": "2023-05-18T06:36:38.864Z"
   },
   {
    "duration": 20,
    "start_time": "2023-05-18T06:36:38.896Z"
   },
   {
    "duration": 12,
    "start_time": "2023-05-18T06:36:38.918Z"
   },
   {
    "duration": 121,
    "start_time": "2023-05-18T06:36:38.932Z"
   },
   {
    "duration": 0,
    "start_time": "2023-05-18T06:36:39.056Z"
   },
   {
    "duration": 0,
    "start_time": "2023-05-18T06:36:39.058Z"
   },
   {
    "duration": 0,
    "start_time": "2023-05-18T06:36:39.059Z"
   },
   {
    "duration": 0,
    "start_time": "2023-05-18T06:36:39.061Z"
   },
   {
    "duration": 0,
    "start_time": "2023-05-18T06:36:39.062Z"
   },
   {
    "duration": 0,
    "start_time": "2023-05-18T06:36:39.076Z"
   },
   {
    "duration": 0,
    "start_time": "2023-05-18T06:36:39.077Z"
   },
   {
    "duration": 0,
    "start_time": "2023-05-18T06:36:39.085Z"
   },
   {
    "duration": 0,
    "start_time": "2023-05-18T06:36:39.086Z"
   },
   {
    "duration": 0,
    "start_time": "2023-05-18T06:36:39.087Z"
   },
   {
    "duration": 0,
    "start_time": "2023-05-18T06:36:39.089Z"
   },
   {
    "duration": 0,
    "start_time": "2023-05-18T06:36:39.090Z"
   },
   {
    "duration": 0,
    "start_time": "2023-05-18T06:36:39.091Z"
   },
   {
    "duration": 0,
    "start_time": "2023-05-18T06:36:39.092Z"
   },
   {
    "duration": 0,
    "start_time": "2023-05-18T06:36:39.093Z"
   },
   {
    "duration": 0,
    "start_time": "2023-05-18T06:36:39.094Z"
   },
   {
    "duration": 0,
    "start_time": "2023-05-18T06:36:39.095Z"
   },
   {
    "duration": 0,
    "start_time": "2023-05-18T06:36:39.096Z"
   },
   {
    "duration": 0,
    "start_time": "2023-05-18T06:36:39.097Z"
   },
   {
    "duration": 0,
    "start_time": "2023-05-18T06:36:39.098Z"
   },
   {
    "duration": 0,
    "start_time": "2023-05-18T06:36:39.099Z"
   },
   {
    "duration": 0,
    "start_time": "2023-05-18T06:36:39.100Z"
   },
   {
    "duration": 0,
    "start_time": "2023-05-18T06:36:39.101Z"
   },
   {
    "duration": 0,
    "start_time": "2023-05-18T06:36:39.102Z"
   },
   {
    "duration": 0,
    "start_time": "2023-05-18T06:36:39.103Z"
   },
   {
    "duration": 0,
    "start_time": "2023-05-18T06:36:39.104Z"
   },
   {
    "duration": 0,
    "start_time": "2023-05-18T06:36:39.105Z"
   },
   {
    "duration": 0,
    "start_time": "2023-05-18T06:36:39.106Z"
   },
   {
    "duration": 0,
    "start_time": "2023-05-18T06:36:39.107Z"
   },
   {
    "duration": 0,
    "start_time": "2023-05-18T06:36:39.108Z"
   },
   {
    "duration": 0,
    "start_time": "2023-05-18T06:36:39.109Z"
   },
   {
    "duration": 0,
    "start_time": "2023-05-18T06:36:39.110Z"
   },
   {
    "duration": 0,
    "start_time": "2023-05-18T06:36:39.111Z"
   },
   {
    "duration": 0,
    "start_time": "2023-05-18T06:36:39.113Z"
   },
   {
    "duration": 0,
    "start_time": "2023-05-18T06:36:39.115Z"
   },
   {
    "duration": 0,
    "start_time": "2023-05-18T06:36:39.116Z"
   },
   {
    "duration": 0,
    "start_time": "2023-05-18T06:36:39.117Z"
   },
   {
    "duration": 0,
    "start_time": "2023-05-18T06:36:39.118Z"
   },
   {
    "duration": 0,
    "start_time": "2023-05-18T06:36:39.119Z"
   },
   {
    "duration": 0,
    "start_time": "2023-05-18T06:36:39.120Z"
   },
   {
    "duration": 0,
    "start_time": "2023-05-18T06:36:39.121Z"
   },
   {
    "duration": 0,
    "start_time": "2023-05-18T06:36:39.175Z"
   },
   {
    "duration": 0,
    "start_time": "2023-05-18T06:36:39.177Z"
   },
   {
    "duration": 2908,
    "start_time": "2023-05-18T08:50:17.681Z"
   },
   {
    "duration": 890,
    "start_time": "2023-05-18T08:50:20.604Z"
   },
   {
    "duration": 115,
    "start_time": "2023-05-18T08:50:21.500Z"
   },
   {
    "duration": 184,
    "start_time": "2023-05-18T08:50:21.622Z"
   },
   {
    "duration": 195,
    "start_time": "2023-05-18T08:50:21.817Z"
   },
   {
    "duration": 398,
    "start_time": "2023-05-18T08:50:22.018Z"
   },
   {
    "duration": 0,
    "start_time": "2023-05-18T08:50:22.430Z"
   },
   {
    "duration": 0,
    "start_time": "2023-05-18T08:50:22.435Z"
   },
   {
    "duration": 0,
    "start_time": "2023-05-18T08:50:22.445Z"
   },
   {
    "duration": 0,
    "start_time": "2023-05-18T08:50:22.450Z"
   },
   {
    "duration": 0,
    "start_time": "2023-05-18T08:50:22.464Z"
   },
   {
    "duration": 0,
    "start_time": "2023-05-18T08:50:22.472Z"
   },
   {
    "duration": 0,
    "start_time": "2023-05-18T08:50:22.477Z"
   },
   {
    "duration": 0,
    "start_time": "2023-05-18T08:50:22.478Z"
   },
   {
    "duration": 0,
    "start_time": "2023-05-18T08:50:22.480Z"
   },
   {
    "duration": 0,
    "start_time": "2023-05-18T08:50:22.496Z"
   },
   {
    "duration": 0,
    "start_time": "2023-05-18T08:50:22.498Z"
   },
   {
    "duration": 0,
    "start_time": "2023-05-18T08:50:22.499Z"
   },
   {
    "duration": 0,
    "start_time": "2023-05-18T08:50:22.501Z"
   },
   {
    "duration": 0,
    "start_time": "2023-05-18T08:50:22.509Z"
   },
   {
    "duration": 0,
    "start_time": "2023-05-18T08:50:22.511Z"
   },
   {
    "duration": 0,
    "start_time": "2023-05-18T08:50:22.513Z"
   },
   {
    "duration": 0,
    "start_time": "2023-05-18T08:50:22.514Z"
   },
   {
    "duration": 0,
    "start_time": "2023-05-18T08:50:22.516Z"
   },
   {
    "duration": 0,
    "start_time": "2023-05-18T08:50:22.518Z"
   },
   {
    "duration": 0,
    "start_time": "2023-05-18T08:50:22.519Z"
   },
   {
    "duration": 0,
    "start_time": "2023-05-18T08:50:22.521Z"
   },
   {
    "duration": 0,
    "start_time": "2023-05-18T08:50:22.527Z"
   },
   {
    "duration": 0,
    "start_time": "2023-05-18T08:50:22.529Z"
   },
   {
    "duration": 0,
    "start_time": "2023-05-18T08:50:22.530Z"
   },
   {
    "duration": 0,
    "start_time": "2023-05-18T08:50:22.538Z"
   },
   {
    "duration": 0,
    "start_time": "2023-05-18T08:50:22.539Z"
   },
   {
    "duration": 0,
    "start_time": "2023-05-18T08:50:22.545Z"
   },
   {
    "duration": 0,
    "start_time": "2023-05-18T08:50:22.547Z"
   },
   {
    "duration": 1,
    "start_time": "2023-05-18T08:50:22.552Z"
   },
   {
    "duration": 0,
    "start_time": "2023-05-18T08:50:22.554Z"
   },
   {
    "duration": 0,
    "start_time": "2023-05-18T08:50:22.560Z"
   },
   {
    "duration": 0,
    "start_time": "2023-05-18T08:50:22.561Z"
   },
   {
    "duration": 0,
    "start_time": "2023-05-18T08:50:22.563Z"
   },
   {
    "duration": 0,
    "start_time": "2023-05-18T08:50:22.565Z"
   },
   {
    "duration": 0,
    "start_time": "2023-05-18T08:50:22.566Z"
   },
   {
    "duration": 0,
    "start_time": "2023-05-18T08:50:22.572Z"
   },
   {
    "duration": 0,
    "start_time": "2023-05-18T08:50:22.574Z"
   },
   {
    "duration": 0,
    "start_time": "2023-05-18T08:50:22.575Z"
   },
   {
    "duration": 0,
    "start_time": "2023-05-18T08:50:22.581Z"
   },
   {
    "duration": 0,
    "start_time": "2023-05-18T08:50:22.589Z"
   },
   {
    "duration": 0,
    "start_time": "2023-05-18T08:50:22.590Z"
   },
   {
    "duration": 0,
    "start_time": "2023-05-18T08:50:22.592Z"
   },
   {
    "duration": 0,
    "start_time": "2023-05-18T08:50:22.594Z"
   },
   {
    "duration": 2270,
    "start_time": "2023-05-18T08:52:44.850Z"
   },
   {
    "duration": 225,
    "start_time": "2023-05-18T08:52:47.132Z"
   },
   {
    "duration": 37,
    "start_time": "2023-05-18T08:52:47.364Z"
   },
   {
    "duration": 66,
    "start_time": "2023-05-18T08:52:47.412Z"
   },
   {
    "duration": 133,
    "start_time": "2023-05-18T08:52:47.483Z"
   },
   {
    "duration": 25,
    "start_time": "2023-05-18T08:52:47.620Z"
   },
   {
    "duration": 198,
    "start_time": "2023-05-18T08:52:47.647Z"
   },
   {
    "duration": 99,
    "start_time": "2023-05-18T08:52:47.848Z"
   },
   {
    "duration": 31,
    "start_time": "2023-05-18T08:52:47.950Z"
   },
   {
    "duration": 91,
    "start_time": "2023-05-18T08:52:47.988Z"
   },
   {
    "duration": 95,
    "start_time": "2023-05-18T08:52:48.085Z"
   },
   {
    "duration": 194,
    "start_time": "2023-05-18T08:52:48.184Z"
   },
   {
    "duration": 87,
    "start_time": "2023-05-18T08:52:48.385Z"
   },
   {
    "duration": 96,
    "start_time": "2023-05-18T08:52:48.476Z"
   },
   {
    "duration": 275,
    "start_time": "2023-05-18T08:52:48.580Z"
   },
   {
    "duration": 183,
    "start_time": "2023-05-18T08:52:48.861Z"
   },
   {
    "duration": 262,
    "start_time": "2023-05-18T08:52:49.050Z"
   },
   {
    "duration": 11,
    "start_time": "2023-05-18T08:52:49.318Z"
   },
   {
    "duration": 159,
    "start_time": "2023-05-18T08:52:49.335Z"
   },
   {
    "duration": 80,
    "start_time": "2023-05-18T08:52:49.506Z"
   },
   {
    "duration": 292,
    "start_time": "2023-05-18T08:52:49.588Z"
   },
   {
    "duration": 11,
    "start_time": "2023-05-18T08:52:49.886Z"
   },
   {
    "duration": 106,
    "start_time": "2023-05-18T08:52:49.903Z"
   },
   {
    "duration": 110,
    "start_time": "2023-05-18T08:52:50.012Z"
   },
   {
    "duration": 158,
    "start_time": "2023-05-18T08:52:50.124Z"
   },
   {
    "duration": 234,
    "start_time": "2023-05-18T08:52:50.287Z"
   },
   {
    "duration": 51,
    "start_time": "2023-05-18T08:52:50.525Z"
   },
   {
    "duration": 117,
    "start_time": "2023-05-18T08:52:50.586Z"
   },
   {
    "duration": 146,
    "start_time": "2023-05-18T08:52:50.705Z"
   },
   {
    "duration": 254,
    "start_time": "2023-05-18T08:52:50.857Z"
   },
   {
    "duration": 342,
    "start_time": "2023-05-18T08:52:51.114Z"
   },
   {
    "duration": 15,
    "start_time": "2023-05-18T08:52:51.460Z"
   },
   {
    "duration": 226,
    "start_time": "2023-05-18T08:52:51.478Z"
   },
   {
    "duration": 337,
    "start_time": "2023-05-18T08:52:51.710Z"
   },
   {
    "duration": 32,
    "start_time": "2023-05-18T08:52:52.054Z"
   },
   {
    "duration": 151,
    "start_time": "2023-05-18T08:52:52.099Z"
   },
   {
    "duration": 81,
    "start_time": "2023-05-18T08:52:52.257Z"
   },
   {
    "duration": 234,
    "start_time": "2023-05-18T08:52:52.340Z"
   },
   {
    "duration": 300,
    "start_time": "2023-05-18T08:52:52.577Z"
   },
   {
    "duration": 24,
    "start_time": "2023-05-18T08:52:52.885Z"
   },
   {
    "duration": 244,
    "start_time": "2023-05-18T08:52:52.914Z"
   },
   {
    "duration": 249,
    "start_time": "2023-05-18T08:52:53.165Z"
   },
   {
    "duration": 13,
    "start_time": "2023-05-18T08:52:53.424Z"
   },
   {
    "duration": 105,
    "start_time": "2023-05-18T08:52:53.448Z"
   },
   {
    "duration": 70,
    "start_time": "2023-05-18T08:52:53.555Z"
   },
   {
    "duration": 67,
    "start_time": "2023-05-18T08:52:53.627Z"
   },
   {
    "duration": 57,
    "start_time": "2023-05-18T08:52:53.697Z"
   },
   {
    "duration": 58,
    "start_time": "2023-05-18T08:52:53.762Z"
   },
   {
    "duration": 112,
    "start_time": "2023-05-18T08:52:53.823Z"
   },
   {
    "duration": 1916,
    "start_time": "2023-05-18T08:56:29.704Z"
   },
   {
    "duration": 241,
    "start_time": "2023-05-18T08:56:31.624Z"
   },
   {
    "duration": 32,
    "start_time": "2023-05-18T08:56:31.877Z"
   },
   {
    "duration": 106,
    "start_time": "2023-05-18T08:56:31.910Z"
   },
   {
    "duration": 28,
    "start_time": "2023-05-18T08:56:32.020Z"
   },
   {
    "duration": 41,
    "start_time": "2023-05-18T08:56:32.059Z"
   },
   {
    "duration": 93,
    "start_time": "2023-05-18T08:56:32.105Z"
   },
   {
    "duration": 29,
    "start_time": "2023-05-18T08:56:32.201Z"
   },
   {
    "duration": 57,
    "start_time": "2023-05-18T08:56:32.234Z"
   },
   {
    "duration": 88,
    "start_time": "2023-05-18T08:56:32.298Z"
   },
   {
    "duration": 47,
    "start_time": "2023-05-18T08:56:32.388Z"
   },
   {
    "duration": 20,
    "start_time": "2023-05-18T08:56:32.438Z"
   },
   {
    "duration": 48,
    "start_time": "2023-05-18T08:56:32.461Z"
   },
   {
    "duration": 15,
    "start_time": "2023-05-18T08:56:32.513Z"
   },
   {
    "duration": 242,
    "start_time": "2023-05-18T08:56:32.540Z"
   },
   {
    "duration": 196,
    "start_time": "2023-05-18T08:56:32.784Z"
   },
   {
    "duration": 261,
    "start_time": "2023-05-18T08:56:32.982Z"
   },
   {
    "duration": 11,
    "start_time": "2023-05-18T08:56:33.250Z"
   },
   {
    "duration": 80,
    "start_time": "2023-05-18T08:56:33.263Z"
   },
   {
    "duration": 43,
    "start_time": "2023-05-18T08:56:33.348Z"
   },
   {
    "duration": 199,
    "start_time": "2023-05-18T08:56:33.393Z"
   },
   {
    "duration": 5,
    "start_time": "2023-05-18T08:56:33.593Z"
   },
   {
    "duration": 36,
    "start_time": "2023-05-18T08:56:33.600Z"
   },
   {
    "duration": 66,
    "start_time": "2023-05-18T08:56:33.643Z"
   },
   {
    "duration": 7,
    "start_time": "2023-05-18T08:56:33.712Z"
   },
   {
    "duration": 210,
    "start_time": "2023-05-18T08:56:33.722Z"
   },
   {
    "duration": 49,
    "start_time": "2023-05-18T08:56:33.933Z"
   },
   {
    "duration": 72,
    "start_time": "2023-05-18T08:56:33.986Z"
   },
   {
    "duration": 34,
    "start_time": "2023-05-18T08:56:34.059Z"
   },
   {
    "duration": 202,
    "start_time": "2023-05-18T08:56:34.095Z"
   },
   {
    "duration": 216,
    "start_time": "2023-05-18T08:56:34.299Z"
   },
   {
    "duration": 16,
    "start_time": "2023-05-18T08:56:34.517Z"
   },
   {
    "duration": 236,
    "start_time": "2023-05-18T08:56:34.536Z"
   },
   {
    "duration": 385,
    "start_time": "2023-05-18T08:56:34.775Z"
   },
   {
    "duration": 7,
    "start_time": "2023-05-18T08:56:35.168Z"
   },
   {
    "duration": 70,
    "start_time": "2023-05-18T08:56:35.181Z"
   },
   {
    "duration": 78,
    "start_time": "2023-05-18T08:56:35.253Z"
   },
   {
    "duration": 290,
    "start_time": "2023-05-18T08:56:35.333Z"
   },
   {
    "duration": 328,
    "start_time": "2023-05-18T08:56:35.632Z"
   },
   {
    "duration": 6,
    "start_time": "2023-05-18T08:56:35.963Z"
   },
   {
    "duration": 199,
    "start_time": "2023-05-18T08:56:35.976Z"
   },
   {
    "duration": 225,
    "start_time": "2023-05-18T08:56:36.177Z"
   },
   {
    "duration": 5,
    "start_time": "2023-05-18T08:56:36.404Z"
   },
   {
    "duration": 170,
    "start_time": "2023-05-18T08:56:36.411Z"
   },
   {
    "duration": 51,
    "start_time": "2023-05-18T08:56:36.589Z"
   },
   {
    "duration": 58,
    "start_time": "2023-05-18T08:56:36.652Z"
   },
   {
    "duration": 90,
    "start_time": "2023-05-18T08:56:36.713Z"
   },
   {
    "duration": 32,
    "start_time": "2023-05-18T08:56:36.805Z"
   },
   {
    "duration": 59,
    "start_time": "2023-05-18T08:56:36.854Z"
   },
   {
    "duration": 1226,
    "start_time": "2023-05-18T15:57:12.646Z"
   },
   {
    "duration": 137,
    "start_time": "2023-05-18T15:57:13.875Z"
   },
   {
    "duration": 24,
    "start_time": "2023-05-18T15:57:14.015Z"
   },
   {
    "duration": 20,
    "start_time": "2023-05-18T15:57:14.042Z"
   },
   {
    "duration": 27,
    "start_time": "2023-05-18T15:57:14.064Z"
   },
   {
    "duration": 7,
    "start_time": "2023-05-18T15:57:14.093Z"
   },
   {
    "duration": 10,
    "start_time": "2023-05-18T15:57:14.103Z"
   },
   {
    "duration": 9,
    "start_time": "2023-05-18T15:57:14.115Z"
   },
   {
    "duration": 8,
    "start_time": "2023-05-18T15:57:14.126Z"
   },
   {
    "duration": 40,
    "start_time": "2023-05-18T15:57:14.137Z"
   },
   {
    "duration": 20,
    "start_time": "2023-05-18T15:57:14.179Z"
   },
   {
    "duration": 5,
    "start_time": "2023-05-18T15:57:14.202Z"
   },
   {
    "duration": 5,
    "start_time": "2023-05-18T15:57:14.209Z"
   },
   {
    "duration": 15,
    "start_time": "2023-05-18T15:57:14.216Z"
   },
   {
    "duration": 186,
    "start_time": "2023-05-18T15:57:14.233Z"
   },
   {
    "duration": 127,
    "start_time": "2023-05-18T15:57:14.420Z"
   },
   {
    "duration": 159,
    "start_time": "2023-05-18T15:57:14.549Z"
   },
   {
    "duration": 4,
    "start_time": "2023-05-18T15:57:14.710Z"
   },
   {
    "duration": 16,
    "start_time": "2023-05-18T15:57:14.715Z"
   },
   {
    "duration": 12,
    "start_time": "2023-05-18T15:57:14.732Z"
   },
   {
    "duration": 137,
    "start_time": "2023-05-18T15:57:14.745Z"
   },
   {
    "duration": 4,
    "start_time": "2023-05-18T15:57:14.884Z"
   },
   {
    "duration": 11,
    "start_time": "2023-05-18T15:57:14.889Z"
   },
   {
    "duration": 15,
    "start_time": "2023-05-18T15:57:14.901Z"
   },
   {
    "duration": 4,
    "start_time": "2023-05-18T15:57:14.918Z"
   },
   {
    "duration": 146,
    "start_time": "2023-05-18T15:57:14.923Z"
   },
   {
    "duration": 26,
    "start_time": "2023-05-18T15:57:15.074Z"
   },
   {
    "duration": 19,
    "start_time": "2023-05-18T15:57:15.103Z"
   },
   {
    "duration": 12,
    "start_time": "2023-05-18T15:57:15.123Z"
   },
   {
    "duration": 114,
    "start_time": "2023-05-18T15:57:15.137Z"
   },
   {
    "duration": 151,
    "start_time": "2023-05-18T15:57:15.253Z"
   },
   {
    "duration": 4,
    "start_time": "2023-05-18T15:57:15.406Z"
   },
   {
    "duration": 115,
    "start_time": "2023-05-18T15:57:15.412Z"
   },
   {
    "duration": 232,
    "start_time": "2023-05-18T15:57:15.529Z"
   },
   {
    "duration": 4,
    "start_time": "2023-05-18T15:57:15.763Z"
   },
   {
    "duration": 16,
    "start_time": "2023-05-18T15:57:15.774Z"
   },
   {
    "duration": 11,
    "start_time": "2023-05-18T15:57:15.791Z"
   },
   {
    "duration": 114,
    "start_time": "2023-05-18T15:57:15.804Z"
   },
   {
    "duration": 188,
    "start_time": "2023-05-18T15:57:15.920Z"
   },
   {
    "duration": 4,
    "start_time": "2023-05-18T15:57:16.109Z"
   },
   {
    "duration": 118,
    "start_time": "2023-05-18T15:57:16.115Z"
   },
   {
    "duration": 182,
    "start_time": "2023-05-18T15:57:16.235Z"
   },
   {
    "duration": 4,
    "start_time": "2023-05-18T15:57:16.419Z"
   },
   {
    "duration": 44,
    "start_time": "2023-05-18T15:57:16.424Z"
   },
   {
    "duration": 32,
    "start_time": "2023-05-18T15:57:16.474Z"
   },
   {
    "duration": 2,
    "start_time": "2023-05-18T15:57:16.508Z"
   },
   {
    "duration": 19,
    "start_time": "2023-05-18T15:57:16.512Z"
   },
   {
    "duration": 6,
    "start_time": "2023-05-18T15:57:16.533Z"
   },
   {
    "duration": 12,
    "start_time": "2023-05-18T15:57:16.540Z"
   },
   {
    "duration": 105,
    "start_time": "2023-05-18T16:00:55.546Z"
   },
   {
    "duration": 101,
    "start_time": "2023-05-18T16:07:37.186Z"
   },
   {
    "duration": 12,
    "start_time": "2023-05-18T16:09:00.847Z"
   },
   {
    "duration": 5,
    "start_time": "2023-05-18T16:09:03.546Z"
   },
   {
    "duration": 11,
    "start_time": "2023-05-18T16:09:27.943Z"
   },
   {
    "duration": 118,
    "start_time": "2023-05-18T16:12:30.843Z"
   },
   {
    "duration": 158,
    "start_time": "2023-05-18T16:17:21.684Z"
   },
   {
    "duration": 1249,
    "start_time": "2023-05-20T06:51:04.345Z"
   },
   {
    "duration": 123,
    "start_time": "2023-05-20T06:51:05.596Z"
   },
   {
    "duration": 21,
    "start_time": "2023-05-20T06:51:05.721Z"
   },
   {
    "duration": 25,
    "start_time": "2023-05-20T06:51:05.744Z"
   },
   {
    "duration": 22,
    "start_time": "2023-05-20T06:51:05.771Z"
   },
   {
    "duration": 11,
    "start_time": "2023-05-20T06:51:05.795Z"
   },
   {
    "duration": 13,
    "start_time": "2023-05-20T06:51:05.808Z"
   },
   {
    "duration": 35,
    "start_time": "2023-05-20T06:51:05.823Z"
   },
   {
    "duration": 17,
    "start_time": "2023-05-20T06:51:05.860Z"
   },
   {
    "duration": 8,
    "start_time": "2023-05-20T06:51:05.881Z"
   },
   {
    "duration": 25,
    "start_time": "2023-05-20T06:51:05.891Z"
   },
   {
    "duration": 7,
    "start_time": "2023-05-20T06:51:05.918Z"
   },
   {
    "duration": 33,
    "start_time": "2023-05-20T06:51:05.927Z"
   },
   {
    "duration": 8,
    "start_time": "2023-05-20T06:51:05.962Z"
   },
   {
    "duration": 193,
    "start_time": "2023-05-20T06:51:05.972Z"
   },
   {
    "duration": 15,
    "start_time": "2023-05-20T06:51:06.168Z"
   },
   {
    "duration": 141,
    "start_time": "2023-05-20T06:51:06.185Z"
   },
   {
    "duration": 274,
    "start_time": "2023-05-20T06:51:06.329Z"
   },
   {
    "duration": 6,
    "start_time": "2023-05-20T06:51:06.606Z"
   },
   {
    "duration": 12,
    "start_time": "2023-05-20T06:51:06.614Z"
   },
   {
    "duration": 222,
    "start_time": "2023-05-20T06:51:06.628Z"
   },
   {
    "duration": 24,
    "start_time": "2023-05-20T06:51:06.856Z"
   },
   {
    "duration": 6,
    "start_time": "2023-05-20T06:51:06.883Z"
   },
   {
    "duration": 205,
    "start_time": "2023-05-20T06:51:06.891Z"
   },
   {
    "duration": 5,
    "start_time": "2023-05-20T06:51:07.099Z"
   },
   {
    "duration": 28,
    "start_time": "2023-05-20T06:51:07.106Z"
   },
   {
    "duration": 31,
    "start_time": "2023-05-20T06:51:07.137Z"
   },
   {
    "duration": 8,
    "start_time": "2023-05-20T06:51:07.174Z"
   },
   {
    "duration": 218,
    "start_time": "2023-05-20T06:51:07.185Z"
   },
   {
    "duration": 60,
    "start_time": "2023-05-20T06:51:07.406Z"
   },
   {
    "duration": 35,
    "start_time": "2023-05-20T06:51:07.469Z"
   },
   {
    "duration": 20,
    "start_time": "2023-05-20T06:51:07.506Z"
   },
   {
    "duration": 55,
    "start_time": "2023-05-20T06:51:07.528Z"
   },
   {
    "duration": 39,
    "start_time": "2023-05-20T06:51:07.585Z"
   },
   {
    "duration": 4,
    "start_time": "2023-05-20T06:51:07.627Z"
   },
   {
    "duration": 6,
    "start_time": "2023-05-20T06:51:07.634Z"
   },
   {
    "duration": 301,
    "start_time": "2023-05-20T06:51:07.642Z"
   },
   {
    "duration": 21,
    "start_time": "2023-05-20T06:51:07.945Z"
   },
   {
    "duration": 15,
    "start_time": "2023-05-20T06:51:07.969Z"
   },
   {
    "duration": 4,
    "start_time": "2023-05-20T06:51:07.986Z"
   },
   {
    "duration": 466,
    "start_time": "2023-05-20T06:51:07.993Z"
   },
   {
    "duration": 20,
    "start_time": "2023-05-20T06:51:08.462Z"
   },
   {
    "duration": 31,
    "start_time": "2023-05-20T06:51:08.484Z"
   },
   {
    "duration": 60,
    "start_time": "2023-05-20T06:51:08.517Z"
   },
   {
    "duration": 25,
    "start_time": "2023-05-20T06:51:08.580Z"
   },
   {
    "duration": 19,
    "start_time": "2023-05-20T06:51:08.608Z"
   },
   {
    "duration": 19,
    "start_time": "2023-05-20T06:51:08.629Z"
   },
   {
    "duration": 27,
    "start_time": "2023-05-20T06:51:08.656Z"
   },
   {
    "duration": 104,
    "start_time": "2023-05-20T06:57:24.752Z"
   },
   {
    "duration": 7,
    "start_time": "2023-05-20T06:59:40.901Z"
   },
   {
    "duration": 8,
    "start_time": "2023-05-20T07:01:13.955Z"
   },
   {
    "duration": 147,
    "start_time": "2023-05-20T07:12:12.737Z"
   },
   {
    "duration": 40,
    "start_time": "2023-05-20T07:13:02.519Z"
   },
   {
    "duration": 18,
    "start_time": "2023-05-20T07:13:19.025Z"
   },
   {
    "duration": 15,
    "start_time": "2023-05-20T07:13:36.472Z"
   }
  ],
  "kernelspec": {
   "display_name": "Python 3 (ipykernel)",
   "language": "python",
   "name": "python3"
  },
  "language_info": {
   "codemirror_mode": {
    "name": "ipython",
    "version": 3
   },
   "file_extension": ".py",
   "mimetype": "text/x-python",
   "name": "python",
   "nbconvert_exporter": "python",
   "pygments_lexer": "ipython3",
   "version": "3.9.13"
  },
  "toc": {
   "base_numbering": 1,
   "nav_menu": {},
   "number_sections": true,
   "sideBar": true,
   "skip_h1_title": true,
   "title_cell": "Table of Contents",
   "title_sidebar": "Contents",
   "toc_cell": false,
   "toc_position": {},
   "toc_section_display": true,
   "toc_window_display": false
  }
 },
 "nbformat": 4,
 "nbformat_minor": 5
}
