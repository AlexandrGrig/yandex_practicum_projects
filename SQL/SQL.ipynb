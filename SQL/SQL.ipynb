{
 "cells": [
  {
   "cell_type": "markdown",
   "metadata": {},
   "source": [
    "# Проект по SQL"
   ]
  },
  {
   "cell_type": "markdown",
   "metadata": {},
   "source": [
    "   Коронавирус застал мир врасплох, изменив привычный порядок вещей. В свободное время жители городов больше не выходят на улицу, не посещают кафе и торговые центры. Зато стало больше времени для книг. Это заметили стартаперы — и бросились создавать приложения для тех, кто любит читать.\\\n",
    "   Ваша компания решила быть на волне и купила крупный сервис для чтения книг по подписке. Ваша первая задача как аналитика — проанализировать базу данных. В ней — информация о книгах, издательствах, авторах, а также пользовательские обзоры книг. Эти данные помогут сформулировать ценностное предложение для нового продукта."
   ]
  },
  {
   "cell_type": "code",
   "execution_count": 1,
   "metadata": {},
   "outputs": [],
   "source": [
    "# импортируем библиотеки\n",
    "import pandas as pd\n",
    "from sqlalchemy import text, create_engine"
   ]
  },
  {
   "cell_type": "code",
   "execution_count": 2,
   "metadata": {},
   "outputs": [],
   "source": [
    "# устанавливаем параметры\n",
    "db_config = {'user':'praktikum_student', # имя пользователя\n",
    "'pwd':'Sdf4$2;d-d30pp', # пароль\n",
    "'host':'rc1b-wcoijxj3yxfsf3fs.mdb.yandexcloud.net',\n",
    "'port': 6432, # портподключения\n",
    "'db': 'data-analyst-final-project-db'} # название базы данных\n",
    "connection_string = 'postgresql://{user}:{pwd}@{host}:{port}/{db}'.format(**db_config) \n",
    "# сохраняем коннектор\n",
    "engine = create_engine(connection_string,connect_args={'sslmode':'require'})"
   ]
  },
  {
   "cell_type": "code",
   "execution_count": 3,
   "metadata": {},
   "outputs": [
    {
     "data": {
      "text/html": [
       "<div>\n",
       "<style scoped>\n",
       "    .dataframe tbody tr th:only-of-type {\n",
       "        vertical-align: middle;\n",
       "    }\n",
       "\n",
       "    .dataframe tbody tr th {\n",
       "        vertical-align: top;\n",
       "    }\n",
       "\n",
       "    .dataframe thead th {\n",
       "        text-align: right;\n",
       "    }\n",
       "</style>\n",
       "<table border=\"1\" class=\"dataframe\">\n",
       "  <thead>\n",
       "    <tr style=\"text-align: right;\">\n",
       "      <th></th>\n",
       "      <th>book_id</th>\n",
       "      <th>author_id</th>\n",
       "      <th>title</th>\n",
       "      <th>num_pages</th>\n",
       "      <th>publication_date</th>\n",
       "      <th>publisher_id</th>\n",
       "    </tr>\n",
       "  </thead>\n",
       "  <tbody>\n",
       "    <tr>\n",
       "      <th>0</th>\n",
       "      <td>1</td>\n",
       "      <td>546</td>\n",
       "      <td>'Salem's Lot</td>\n",
       "      <td>594</td>\n",
       "      <td>2005-11-01</td>\n",
       "      <td>93</td>\n",
       "    </tr>\n",
       "    <tr>\n",
       "      <th>1</th>\n",
       "      <td>2</td>\n",
       "      <td>465</td>\n",
       "      <td>1 000 Places to See Before You Die</td>\n",
       "      <td>992</td>\n",
       "      <td>2003-05-22</td>\n",
       "      <td>336</td>\n",
       "    </tr>\n",
       "    <tr>\n",
       "      <th>2</th>\n",
       "      <td>3</td>\n",
       "      <td>407</td>\n",
       "      <td>13 Little Blue Envelopes (Little Blue Envelope...</td>\n",
       "      <td>322</td>\n",
       "      <td>2010-12-21</td>\n",
       "      <td>135</td>\n",
       "    </tr>\n",
       "    <tr>\n",
       "      <th>3</th>\n",
       "      <td>4</td>\n",
       "      <td>82</td>\n",
       "      <td>1491: New Revelations of the Americas Before C...</td>\n",
       "      <td>541</td>\n",
       "      <td>2006-10-10</td>\n",
       "      <td>309</td>\n",
       "    </tr>\n",
       "    <tr>\n",
       "      <th>4</th>\n",
       "      <td>5</td>\n",
       "      <td>125</td>\n",
       "      <td>1776</td>\n",
       "      <td>386</td>\n",
       "      <td>2006-07-04</td>\n",
       "      <td>268</td>\n",
       "    </tr>\n",
       "  </tbody>\n",
       "</table>\n",
       "</div>"
      ],
      "text/plain": [
       "   book_id  author_id                                              title  \\\n",
       "0        1        546                                       'Salem's Lot   \n",
       "1        2        465                 1 000 Places to See Before You Die   \n",
       "2        3        407  13 Little Blue Envelopes (Little Blue Envelope...   \n",
       "3        4         82  1491: New Revelations of the Americas Before C...   \n",
       "4        5        125                                               1776   \n",
       "\n",
       "   num_pages publication_date  publisher_id  \n",
       "0        594       2005-11-01            93  \n",
       "1        992       2003-05-22           336  \n",
       "2        322       2010-12-21           135  \n",
       "3        541       2006-10-10           309  \n",
       "4        386       2006-07-04           268  "
      ]
     },
     "execution_count": 3,
     "metadata": {},
     "output_type": "execute_result"
    }
   ],
   "source": [
    "# чтобы выполнить SQL-запрос, используем Pandas\n",
    "query = '''SELECT * FROM books LIMIT 5'''\n",
    "\n",
    "con = engine.connect()\n",
    "\n",
    "pd.io.sql.read_sql(sql=text(query),con=con)"
   ]
  },
  {
   "cell_type": "code",
   "execution_count": 4,
   "metadata": {},
   "outputs": [
    {
     "data": {
      "text/html": [
       "<div>\n",
       "<style scoped>\n",
       "    .dataframe tbody tr th:only-of-type {\n",
       "        vertical-align: middle;\n",
       "    }\n",
       "\n",
       "    .dataframe tbody tr th {\n",
       "        vertical-align: top;\n",
       "    }\n",
       "\n",
       "    .dataframe thead th {\n",
       "        text-align: right;\n",
       "    }\n",
       "</style>\n",
       "<table border=\"1\" class=\"dataframe\">\n",
       "  <thead>\n",
       "    <tr style=\"text-align: right;\">\n",
       "      <th></th>\n",
       "      <th>year_publication</th>\n",
       "      <th>publisher_cnt</th>\n",
       "      <th>book_cnt</th>\n",
       "      <th>num_pages_thousands</th>\n",
       "    </tr>\n",
       "  </thead>\n",
       "  <tbody>\n",
       "    <tr>\n",
       "      <th>0</th>\n",
       "      <td>1999-01-01</td>\n",
       "      <td>26</td>\n",
       "      <td>41</td>\n",
       "      <td>15.763</td>\n",
       "    </tr>\n",
       "    <tr>\n",
       "      <th>1</th>\n",
       "      <td>2000-01-01</td>\n",
       "      <td>35</td>\n",
       "      <td>38</td>\n",
       "      <td>13.328</td>\n",
       "    </tr>\n",
       "    <tr>\n",
       "      <th>2</th>\n",
       "      <td>2001-01-01</td>\n",
       "      <td>41</td>\n",
       "      <td>60</td>\n",
       "      <td>21.758</td>\n",
       "    </tr>\n",
       "    <tr>\n",
       "      <th>3</th>\n",
       "      <td>2002-01-01</td>\n",
       "      <td>62</td>\n",
       "      <td>94</td>\n",
       "      <td>38.597</td>\n",
       "    </tr>\n",
       "    <tr>\n",
       "      <th>4</th>\n",
       "      <td>2003-01-01</td>\n",
       "      <td>65</td>\n",
       "      <td>105</td>\n",
       "      <td>41.423</td>\n",
       "    </tr>\n",
       "    <tr>\n",
       "      <th>5</th>\n",
       "      <td>2004-01-01</td>\n",
       "      <td>88</td>\n",
       "      <td>124</td>\n",
       "      <td>46.779</td>\n",
       "    </tr>\n",
       "    <tr>\n",
       "      <th>6</th>\n",
       "      <td>2005-01-01</td>\n",
       "      <td>89</td>\n",
       "      <td>139</td>\n",
       "      <td>55.967</td>\n",
       "    </tr>\n",
       "    <tr>\n",
       "      <th>7</th>\n",
       "      <td>2006-01-01</td>\n",
       "      <td>109</td>\n",
       "      <td>184</td>\n",
       "      <td>68.302</td>\n",
       "    </tr>\n",
       "    <tr>\n",
       "      <th>8</th>\n",
       "      <td>2007-01-01</td>\n",
       "      <td>38</td>\n",
       "      <td>50</td>\n",
       "      <td>18.258</td>\n",
       "    </tr>\n",
       "  </tbody>\n",
       "</table>\n",
       "</div>"
      ],
      "text/plain": [
       "  year_publication  publisher_cnt  book_cnt  num_pages_thousands\n",
       "0       1999-01-01             26        41               15.763\n",
       "1       2000-01-01             35        38               13.328\n",
       "2       2001-01-01             41        60               21.758\n",
       "3       2002-01-01             62        94               38.597\n",
       "4       2003-01-01             65       105               41.423\n",
       "5       2004-01-01             88       124               46.779\n",
       "6       2005-01-01             89       139               55.967\n",
       "7       2006-01-01            109       184               68.302\n",
       "8       2007-01-01             38        50               18.258"
      ]
     },
     "execution_count": 4,
     "metadata": {},
     "output_type": "execute_result"
    }
   ],
   "source": [
    "additional_task = '''\n",
    "\n",
    "\n",
    "SELECT DATE_TRUNC('year', CAST(publication_date AS timestamp)) AS year_publication,\n",
    "       COUNT(DISTINCT (publisher_id)) AS publisher_cnt,\n",
    "       COUNT(book_id) AS book_cnt,\n",
    "       SUM(num_pages)/1000.0 AS num_pages_thousands\n",
    "FROM books\n",
    "GROUP BY year_publication\n",
    "HAVING COUNT(book_id) > 30\n",
    "\n",
    "\n",
    "\n",
    "'''\n",
    "\n",
    "pd.io.sql.read_sql(sql=text(additional_task),con=con)"
   ]
  },
  {
   "cell_type": "markdown",
   "metadata": {},
   "source": [
    "## Посчитаем, сколько книг вышло после 1 января 2000 года"
   ]
  },
  {
   "cell_type": "code",
   "execution_count": 5,
   "metadata": {},
   "outputs": [
    {
     "data": {
      "text/html": [
       "<div>\n",
       "<style scoped>\n",
       "    .dataframe tbody tr th:only-of-type {\n",
       "        vertical-align: middle;\n",
       "    }\n",
       "\n",
       "    .dataframe tbody tr th {\n",
       "        vertical-align: top;\n",
       "    }\n",
       "\n",
       "    .dataframe thead th {\n",
       "        text-align: right;\n",
       "    }\n",
       "</style>\n",
       "<table border=\"1\" class=\"dataframe\">\n",
       "  <thead>\n",
       "    <tr style=\"text-align: right;\">\n",
       "      <th></th>\n",
       "      <th>book_cnt</th>\n",
       "    </tr>\n",
       "  </thead>\n",
       "  <tbody>\n",
       "    <tr>\n",
       "      <th>0</th>\n",
       "      <td>819</td>\n",
       "    </tr>\n",
       "  </tbody>\n",
       "</table>\n",
       "</div>"
      ],
      "text/plain": [
       "   book_cnt\n",
       "0       819"
      ]
     },
     "execution_count": 5,
     "metadata": {},
     "output_type": "execute_result"
    }
   ],
   "source": [
    "task1 = '''\n",
    "SELECT COUNT(book_id) AS book_cnt\n",
    "FROM books\n",
    "WHERE publication_date > '2000-01-01';\n",
    "'''\n",
    "pd.io.sql.read_sql(sql=text(task1),con=con)"
   ]
  },
  {
   "cell_type": "markdown",
   "metadata": {},
   "source": [
    "После 1 января 2000 года вышло 819 книг"
   ]
  },
  {
   "cell_type": "markdown",
   "metadata": {},
   "source": [
    "## Для каждой книги посчитаем количество обзоров и среднюю оценку"
   ]
  },
  {
   "cell_type": "code",
   "execution_count": 6,
   "metadata": {},
   "outputs": [
    {
     "data": {
      "text/html": [
       "<div>\n",
       "<style scoped>\n",
       "    .dataframe tbody tr th:only-of-type {\n",
       "        vertical-align: middle;\n",
       "    }\n",
       "\n",
       "    .dataframe tbody tr th {\n",
       "        vertical-align: top;\n",
       "    }\n",
       "\n",
       "    .dataframe thead th {\n",
       "        text-align: right;\n",
       "    }\n",
       "</style>\n",
       "<table border=\"1\" class=\"dataframe\">\n",
       "  <thead>\n",
       "    <tr style=\"text-align: right;\">\n",
       "      <th></th>\n",
       "      <th>title</th>\n",
       "      <th>reviews</th>\n",
       "      <th>avg_rating</th>\n",
       "    </tr>\n",
       "  </thead>\n",
       "  <tbody>\n",
       "    <tr>\n",
       "      <th>0</th>\n",
       "      <td>The Body in the Library (Miss Marple  #3)</td>\n",
       "      <td>2.0</td>\n",
       "      <td>4.500000</td>\n",
       "    </tr>\n",
       "    <tr>\n",
       "      <th>1</th>\n",
       "      <td>Galápagos</td>\n",
       "      <td>2.0</td>\n",
       "      <td>4.500000</td>\n",
       "    </tr>\n",
       "    <tr>\n",
       "      <th>2</th>\n",
       "      <td>A Tree Grows in Brooklyn</td>\n",
       "      <td>5.0</td>\n",
       "      <td>4.250000</td>\n",
       "    </tr>\n",
       "    <tr>\n",
       "      <th>3</th>\n",
       "      <td>Undaunted Courage: The Pioneering First Missio...</td>\n",
       "      <td>2.0</td>\n",
       "      <td>4.000000</td>\n",
       "    </tr>\n",
       "    <tr>\n",
       "      <th>4</th>\n",
       "      <td>The Prophet</td>\n",
       "      <td>4.0</td>\n",
       "      <td>4.285714</td>\n",
       "    </tr>\n",
       "    <tr>\n",
       "      <th>...</th>\n",
       "      <td>...</td>\n",
       "      <td>...</td>\n",
       "      <td>...</td>\n",
       "    </tr>\n",
       "    <tr>\n",
       "      <th>995</th>\n",
       "      <td>Alice in Wonderland</td>\n",
       "      <td>4.0</td>\n",
       "      <td>4.230769</td>\n",
       "    </tr>\n",
       "    <tr>\n",
       "      <th>996</th>\n",
       "      <td>A Woman of Substance (Emma Harte Saga #1)</td>\n",
       "      <td>2.0</td>\n",
       "      <td>5.000000</td>\n",
       "    </tr>\n",
       "    <tr>\n",
       "      <th>997</th>\n",
       "      <td>Christine</td>\n",
       "      <td>3.0</td>\n",
       "      <td>3.428571</td>\n",
       "    </tr>\n",
       "    <tr>\n",
       "      <th>998</th>\n",
       "      <td>The Magicians' Guild (Black Magician Trilogy  #1)</td>\n",
       "      <td>2.0</td>\n",
       "      <td>3.500000</td>\n",
       "    </tr>\n",
       "    <tr>\n",
       "      <th>999</th>\n",
       "      <td>The Plot Against America</td>\n",
       "      <td>2.0</td>\n",
       "      <td>3.000000</td>\n",
       "    </tr>\n",
       "  </tbody>\n",
       "</table>\n",
       "<p>1000 rows × 3 columns</p>\n",
       "</div>"
      ],
      "text/plain": [
       "                                                 title  reviews  avg_rating\n",
       "0            The Body in the Library (Miss Marple  #3)      2.0    4.500000\n",
       "1                                            Galápagos      2.0    4.500000\n",
       "2                             A Tree Grows in Brooklyn      5.0    4.250000\n",
       "3    Undaunted Courage: The Pioneering First Missio...      2.0    4.000000\n",
       "4                                          The Prophet      4.0    4.285714\n",
       "..                                                 ...      ...         ...\n",
       "995                                Alice in Wonderland      4.0    4.230769\n",
       "996          A Woman of Substance (Emma Harte Saga #1)      2.0    5.000000\n",
       "997                                          Christine      3.0    3.428571\n",
       "998  The Magicians' Guild (Black Magician Trilogy  #1)      2.0    3.500000\n",
       "999                           The Plot Against America      2.0    3.000000\n",
       "\n",
       "[1000 rows x 3 columns]"
      ]
     },
     "execution_count": 6,
     "metadata": {},
     "output_type": "execute_result"
    }
   ],
   "source": [
    "task2 = ''' \n",
    "\n",
    "WITH\n",
    "\n",
    "jt1 AS (SELECT book_id, AVG(rating) AS rating_avg\n",
    "        FROM ratings\n",
    "        GROUP BY book_id),\n",
    "        \n",
    "jt2 AS (SELECT book_id, COUNT(review_id) AS review_cnt\n",
    "        FROM reviews\n",
    "        GROUP BY book_id)\n",
    "\n",
    "SELECT b.title AS title, jt2.review_cnt AS reviews, jt1.rating_avg AS avg_rating\n",
    "FROM books AS b LEFT JOIN jt1 ON jt1.book_id = b.book_id \n",
    "                LEFT JOIN jt2 ON jt2.book_id = b.book_id;\n",
    "                 \n",
    "''' \n",
    " \n",
    "\n",
    "pd.io.sql.read_sql(sql=text(task2), con = engine)"
   ]
  },
  {
   "cell_type": "markdown",
   "metadata": {},
   "source": [
    "Для каждой книги из базы рассчитали количество отзывов и среднюю оценку."
   ]
  },
  {
   "cell_type": "markdown",
   "metadata": {},
   "source": [
    "## Определим издательство, которое выпустило наибольшее число книг толще 50 страниц — так мы исключим из анализа брошюры"
   ]
  },
  {
   "cell_type": "code",
   "execution_count": 7,
   "metadata": {},
   "outputs": [
    {
     "data": {
      "text/html": [
       "<div>\n",
       "<style scoped>\n",
       "    .dataframe tbody tr th:only-of-type {\n",
       "        vertical-align: middle;\n",
       "    }\n",
       "\n",
       "    .dataframe tbody tr th {\n",
       "        vertical-align: top;\n",
       "    }\n",
       "\n",
       "    .dataframe thead th {\n",
       "        text-align: right;\n",
       "    }\n",
       "</style>\n",
       "<table border=\"1\" class=\"dataframe\">\n",
       "  <thead>\n",
       "    <tr style=\"text-align: right;\">\n",
       "      <th></th>\n",
       "      <th>publisher</th>\n",
       "      <th>book_cnt</th>\n",
       "    </tr>\n",
       "  </thead>\n",
       "  <tbody>\n",
       "    <tr>\n",
       "      <th>0</th>\n",
       "      <td>Penguin Books</td>\n",
       "      <td>42</td>\n",
       "    </tr>\n",
       "  </tbody>\n",
       "</table>\n",
       "</div>"
      ],
      "text/plain": [
       "       publisher  book_cnt\n",
       "0  Penguin Books        42"
      ]
     },
     "execution_count": 7,
     "metadata": {},
     "output_type": "execute_result"
    }
   ],
   "source": [
    "task3 = '''\n",
    "\n",
    "SELECT p.publisher, COUNT(b.book_id) AS book_cnt\n",
    "FROM books AS b LEFT JOIN publishers AS p ON b.publisher_id = p.publisher_id\n",
    "WHERE num_pages > 50\n",
    "GROUP BY publisher\n",
    "ORDER BY book_cnt DESC\n",
    "LIMIT 1;\n",
    "\n",
    "'''\n",
    "pd.io.sql.read_sql(sql=text(task3), con = engine)"
   ]
  },
  {
   "cell_type": "markdown",
   "metadata": {},
   "source": [
    "Издательство, которое выпустило наибольшее число книг толще 50 страниц - \"Penguin Books\" (42 книги)."
   ]
  },
  {
   "cell_type": "markdown",
   "metadata": {},
   "source": [
    "## Определим автора с самой высокой средней оценкой книг — учитывать будем только книги с 50 и более оценками"
   ]
  },
  {
   "cell_type": "code",
   "execution_count": 8,
   "metadata": {},
   "outputs": [
    {
     "data": {
      "text/html": [
       "<div>\n",
       "<style scoped>\n",
       "    .dataframe tbody tr th:only-of-type {\n",
       "        vertical-align: middle;\n",
       "    }\n",
       "\n",
       "    .dataframe tbody tr th {\n",
       "        vertical-align: top;\n",
       "    }\n",
       "\n",
       "    .dataframe thead th {\n",
       "        text-align: right;\n",
       "    }\n",
       "</style>\n",
       "<table border=\"1\" class=\"dataframe\">\n",
       "  <thead>\n",
       "    <tr style=\"text-align: right;\">\n",
       "      <th></th>\n",
       "      <th>author</th>\n",
       "      <th>total_rating</th>\n",
       "    </tr>\n",
       "  </thead>\n",
       "  <tbody>\n",
       "    <tr>\n",
       "      <th>0</th>\n",
       "      <td>J.K. Rowling/Mary GrandPré</td>\n",
       "      <td>4.283844</td>\n",
       "    </tr>\n",
       "  </tbody>\n",
       "</table>\n",
       "</div>"
      ],
      "text/plain": [
       "                       author  total_rating\n",
       "0  J.K. Rowling/Mary GrandPré      4.283844"
      ]
     },
     "execution_count": 8,
     "metadata": {},
     "output_type": "execute_result"
    }
   ],
   "source": [
    "task4 = '''\n",
    "\n",
    "WITH\n",
    "\n",
    "jt AS (SELECT b.book_id, a.author, AVG(rating) AS avg_rating\n",
    "       FROM books b LEFT JOIN authors a ON b.author_id = a.author_id\n",
    "                    LEFT JOIN ratings r ON b.book_id = r.book_id\n",
    "       GROUP BY b.book_id, a.author_id\n",
    "       HAVING COUNT(rating_id) >=50)\n",
    "                   \n",
    "SELECT author, AVG(jt.avg_rating) AS total_rating\n",
    "FROM jt\n",
    "GROUP BY jt.author\n",
    "ORDER BY total_rating DESC\n",
    "LIMIT 1;\n",
    "\n",
    "'''\n",
    "pd.io.sql.read_sql(sql=text(task4), con = engine)"
   ]
  },
  {
   "cell_type": "markdown",
   "metadata": {},
   "source": [
    "Автор с самой высокой средней оценкой книг среди книг с 50 и более оценками - J.K. Rowling/Mary GrandPré."
   ]
  },
  {
   "cell_type": "markdown",
   "metadata": {},
   "source": [
    "## Посчитаем среднее количество обзоров от пользователей, которые поставили больше 48 оценок"
   ]
  },
  {
   "cell_type": "code",
   "execution_count": 9,
   "metadata": {},
   "outputs": [
    {
     "data": {
      "text/html": [
       "<div>\n",
       "<style scoped>\n",
       "    .dataframe tbody tr th:only-of-type {\n",
       "        vertical-align: middle;\n",
       "    }\n",
       "\n",
       "    .dataframe tbody tr th {\n",
       "        vertical-align: top;\n",
       "    }\n",
       "\n",
       "    .dataframe thead th {\n",
       "        text-align: right;\n",
       "    }\n",
       "</style>\n",
       "<table border=\"1\" class=\"dataframe\">\n",
       "  <thead>\n",
       "    <tr style=\"text-align: right;\">\n",
       "      <th></th>\n",
       "      <th>review_avg</th>\n",
       "    </tr>\n",
       "  </thead>\n",
       "  <tbody>\n",
       "    <tr>\n",
       "      <th>0</th>\n",
       "      <td>24.0</td>\n",
       "    </tr>\n",
       "  </tbody>\n",
       "</table>\n",
       "</div>"
      ],
      "text/plain": [
       "   review_avg\n",
       "0        24.0"
      ]
     },
     "execution_count": 9,
     "metadata": {},
     "output_type": "execute_result"
    }
   ],
   "source": [
    "task5 = '''\n",
    "\n",
    "SELECT AVG(review_cnt) AS review_avg\n",
    "FROM (SELECT username, COUNT(review_id) AS review_cnt\n",
    "      FROM reviews\n",
    "      WHERE username IN (SELECT username\n",
    "                         FROM ratings\n",
    "                         GROUP BY username\n",
    "                         HAVING COUNT(rating_id) > 48)\n",
    "      GROUP BY username) AS user48;\n",
    "\n",
    "'''\n",
    "pd.io.sql.read_sql(sql=text(task5), con = engine)"
   ]
  },
  {
   "cell_type": "markdown",
   "metadata": {},
   "source": [
    "Среднее количество обзоров от пользователей, которые поставили больше 48 оценок составляет 24."
   ]
  },
  {
   "cell_type": "markdown",
   "metadata": {},
   "source": [
    "**ВЫВОД:** \n",
    "- После 1 января 2000 года вышло 819 книг\n",
    "- Для каждой книги из базы были рассчитаны количество отзывов и средняя оценка\n",
    "- Издательство, выпустившее наибольшее число книг толще 50 страниц - \"Penguin Books\" (42 книги)\n",
    "- Автор с самой высокой средней оценкой книг среди книг с 50 и более оценками - J.K. Rowling/Mary GrandPré\n",
    "- Среднее количество обзоров от пользователей, которые поставили больше 48 оценок составляет 24\n",
    "\n",
    "Можно рекомендовать активнее продвигать книги J.K. Rowling."
   ]
  }
 ],
 "metadata": {
  "ExecuteTimeLog": [
   {
    "duration": 10562,
    "start_time": "2023-10-20T04:58:09.532Z"
   },
   {
    "duration": 29,
    "start_time": "2023-10-20T04:59:45.034Z"
   },
   {
    "duration": 32,
    "start_time": "2023-10-20T05:01:01.243Z"
   },
   {
    "duration": 66,
    "start_time": "2023-10-20T05:01:16.658Z"
   },
   {
    "duration": 184,
    "start_time": "2023-10-20T05:01:25.355Z"
   },
   {
    "duration": 71,
    "start_time": "2023-10-20T05:03:34.039Z"
   },
   {
    "duration": 78,
    "start_time": "2023-10-20T05:05:19.705Z"
   },
   {
    "duration": 205,
    "start_time": "2023-10-20T05:16:28.359Z"
   },
   {
    "duration": 75,
    "start_time": "2023-10-20T05:17:00.950Z"
   },
   {
    "duration": 186,
    "start_time": "2023-10-20T05:30:17.006Z"
   },
   {
    "duration": 163,
    "start_time": "2023-10-20T05:31:07.996Z"
   },
   {
    "duration": 154,
    "start_time": "2023-10-20T05:31:24.632Z"
   },
   {
    "duration": 74,
    "start_time": "2023-10-20T05:32:37.994Z"
   },
   {
    "duration": 168,
    "start_time": "2023-10-20T05:34:37.022Z"
   },
   {
    "duration": 169,
    "start_time": "2023-10-20T05:35:48.270Z"
   },
   {
    "duration": 223,
    "start_time": "2023-10-20T05:36:57.862Z"
   },
   {
    "duration": 226,
    "start_time": "2023-10-20T05:38:41.346Z"
   },
   {
    "duration": 406,
    "start_time": "2023-10-20T05:38:52.037Z"
   },
   {
    "duration": 75,
    "start_time": "2023-10-20T05:39:02.187Z"
   },
   {
    "duration": 77,
    "start_time": "2023-10-20T05:39:36.035Z"
   },
   {
    "duration": 75,
    "start_time": "2023-10-20T05:41:06.976Z"
   },
   {
    "duration": 10145,
    "start_time": "2023-10-20T05:51:21.551Z"
   },
   {
    "duration": 31,
    "start_time": "2023-10-20T05:51:31.699Z"
   },
   {
    "duration": 191,
    "start_time": "2023-10-20T05:51:31.733Z"
   },
   {
    "duration": 73,
    "start_time": "2023-10-20T05:51:31.926Z"
   },
   {
    "duration": 90,
    "start_time": "2023-10-20T05:51:32.002Z"
   },
   {
    "duration": 75,
    "start_time": "2023-10-20T05:51:32.093Z"
   },
   {
    "duration": 11494,
    "start_time": "2023-10-20T10:09:00.492Z"
   },
   {
    "duration": 8,
    "start_time": "2023-10-20T10:09:11.989Z"
   },
   {
    "duration": 53,
    "start_time": "2023-10-20T10:09:11.998Z"
   },
   {
    "duration": 13,
    "start_time": "2023-10-20T10:09:12.052Z"
   },
   {
    "duration": 20,
    "start_time": "2023-10-20T10:09:12.067Z"
   },
   {
    "duration": 12,
    "start_time": "2023-10-20T10:09:12.088Z"
   },
   {
    "duration": 10674,
    "start_time": "2023-10-20T14:00:44.663Z"
   },
   {
    "duration": 94,
    "start_time": "2023-10-20T14:00:55.339Z"
   },
   {
    "duration": 0,
    "start_time": "2023-10-20T14:00:55.435Z"
   },
   {
    "duration": 0,
    "start_time": "2023-10-20T14:00:55.436Z"
   },
   {
    "duration": 0,
    "start_time": "2023-10-20T14:00:55.438Z"
   },
   {
    "duration": 0,
    "start_time": "2023-10-20T14:00:55.440Z"
   },
   {
    "duration": 0,
    "start_time": "2023-10-20T14:00:55.441Z"
   },
   {
    "duration": 21,
    "start_time": "2023-10-20T14:01:19.962Z"
   },
   {
    "duration": 20,
    "start_time": "2023-10-20T14:01:50.773Z"
   },
   {
    "duration": 20,
    "start_time": "2023-10-20T14:01:58.742Z"
   },
   {
    "duration": 19,
    "start_time": "2023-10-20T14:02:34.682Z"
   },
   {
    "duration": 13,
    "start_time": "2023-10-20T14:02:43.244Z"
   },
   {
    "duration": 12,
    "start_time": "2023-10-20T14:03:07.195Z"
   },
   {
    "duration": 14,
    "start_time": "2023-10-20T14:03:18.828Z"
   },
   {
    "duration": 14,
    "start_time": "2023-10-20T14:05:21.119Z"
   },
   {
    "duration": 19,
    "start_time": "2023-10-20T14:06:46.587Z"
   },
   {
    "duration": 10073,
    "start_time": "2023-10-20T14:07:04.461Z"
   },
   {
    "duration": 94,
    "start_time": "2023-10-20T14:07:14.537Z"
   },
   {
    "duration": 0,
    "start_time": "2023-10-20T14:07:14.632Z"
   },
   {
    "duration": 0,
    "start_time": "2023-10-20T14:07:14.634Z"
   },
   {
    "duration": 0,
    "start_time": "2023-10-20T14:07:14.635Z"
   },
   {
    "duration": 0,
    "start_time": "2023-10-20T14:07:14.636Z"
   },
   {
    "duration": 0,
    "start_time": "2023-10-20T14:07:14.651Z"
   },
   {
    "duration": 20,
    "start_time": "2023-10-20T14:07:49.459Z"
   },
   {
    "duration": 15,
    "start_time": "2023-10-20T14:09:33.706Z"
   },
   {
    "duration": 21,
    "start_time": "2023-10-20T14:10:01.362Z"
   },
   {
    "duration": 16,
    "start_time": "2023-10-20T14:10:11.340Z"
   },
   {
    "duration": 12663,
    "start_time": "2023-10-20T14:10:55.091Z"
   },
   {
    "duration": 12,
    "start_time": "2023-10-20T14:11:07.756Z"
   },
   {
    "duration": 29,
    "start_time": "2023-10-20T14:11:07.770Z"
   },
   {
    "duration": 113,
    "start_time": "2023-10-20T14:11:07.801Z"
   },
   {
    "duration": 12,
    "start_time": "2023-10-20T14:11:07.916Z"
   },
   {
    "duration": 17,
    "start_time": "2023-10-20T14:11:07.930Z"
   },
   {
    "duration": 22,
    "start_time": "2023-10-20T14:11:07.949Z"
   },
   {
    "duration": 17,
    "start_time": "2023-10-20T14:11:30.962Z"
   },
   {
    "duration": 11,
    "start_time": "2023-10-20T14:11:57.115Z"
   },
   {
    "duration": 22,
    "start_time": "2023-10-20T14:12:57.144Z"
   },
   {
    "duration": 10,
    "start_time": "2023-10-20T14:16:45.983Z"
   },
   {
    "duration": 10,
    "start_time": "2023-10-20T14:20:03.925Z"
   },
   {
    "duration": 88,
    "start_time": "2023-10-20T14:23:00.557Z"
   },
   {
    "duration": 20,
    "start_time": "2023-10-20T14:23:38.508Z"
   },
   {
    "duration": 20,
    "start_time": "2023-10-20T14:24:20.077Z"
   },
   {
    "duration": 20,
    "start_time": "2023-10-20T14:24:39.057Z"
   },
   {
    "duration": 20,
    "start_time": "2023-10-20T14:24:55.599Z"
   },
   {
    "duration": 19,
    "start_time": "2023-10-20T14:25:30.592Z"
   },
   {
    "duration": 11857,
    "start_time": "2023-10-20T14:25:55.073Z"
   },
   {
    "duration": 83,
    "start_time": "2023-10-20T14:26:06.932Z"
   },
   {
    "duration": 0,
    "start_time": "2023-10-20T14:26:07.017Z"
   },
   {
    "duration": 0,
    "start_time": "2023-10-20T14:26:07.018Z"
   },
   {
    "duration": 0,
    "start_time": "2023-10-20T14:26:07.019Z"
   },
   {
    "duration": 0,
    "start_time": "2023-10-20T14:26:07.020Z"
   },
   {
    "duration": 0,
    "start_time": "2023-10-20T14:26:07.020Z"
   },
   {
    "duration": 21,
    "start_time": "2023-10-20T14:26:25.292Z"
   },
   {
    "duration": 24,
    "start_time": "2023-10-20T14:27:36.034Z"
   },
   {
    "duration": 21,
    "start_time": "2023-10-20T14:28:22.961Z"
   },
   {
    "duration": 26,
    "start_time": "2023-10-20T14:28:40.226Z"
   },
   {
    "duration": 24,
    "start_time": "2023-10-20T14:29:43.638Z"
   },
   {
    "duration": 14,
    "start_time": "2023-10-20T14:30:17.027Z"
   },
   {
    "duration": 16,
    "start_time": "2023-10-20T14:30:55.436Z"
   },
   {
    "duration": 10,
    "start_time": "2023-10-20T14:31:26.402Z"
   },
   {
    "duration": 14,
    "start_time": "2023-10-20T14:32:27.475Z"
   },
   {
    "duration": 13,
    "start_time": "2023-10-20T14:33:08.906Z"
   },
   {
    "duration": 14,
    "start_time": "2023-10-20T14:33:24.558Z"
   },
   {
    "duration": 13,
    "start_time": "2023-10-20T14:33:43.424Z"
   },
   {
    "duration": 21,
    "start_time": "2023-10-20T14:34:32.075Z"
   },
   {
    "duration": 20,
    "start_time": "2023-10-20T14:35:11.682Z"
   },
   {
    "duration": 12,
    "start_time": "2023-10-20T14:36:41.579Z"
   },
   {
    "duration": 18,
    "start_time": "2023-10-20T14:37:55.568Z"
   },
   {
    "duration": 13,
    "start_time": "2023-10-20T14:39:17.212Z"
   },
   {
    "duration": 11,
    "start_time": "2023-10-20T14:39:27.306Z"
   },
   {
    "duration": 10,
    "start_time": "2023-10-20T14:39:38.530Z"
   },
   {
    "duration": 14,
    "start_time": "2023-10-20T14:39:44.141Z"
   },
   {
    "duration": 14,
    "start_time": "2023-10-20T14:41:37.213Z"
   },
   {
    "duration": 19,
    "start_time": "2023-10-20T14:41:53.126Z"
   },
   {
    "duration": 19,
    "start_time": "2023-10-20T14:42:17.428Z"
   },
   {
    "duration": 24,
    "start_time": "2023-10-20T14:42:33.268Z"
   },
   {
    "duration": 14,
    "start_time": "2023-10-20T14:42:54.886Z"
   },
   {
    "duration": 19,
    "start_time": "2023-10-20T14:50:46.963Z"
   },
   {
    "duration": 20,
    "start_time": "2023-10-20T14:51:06.188Z"
   },
   {
    "duration": 14,
    "start_time": "2023-10-20T14:52:01.204Z"
   },
   {
    "duration": 13,
    "start_time": "2023-10-20T14:53:15.707Z"
   },
   {
    "duration": 12,
    "start_time": "2023-10-20T14:53:43.988Z"
   },
   {
    "duration": 9633,
    "start_time": "2023-10-20T14:55:08.989Z"
   },
   {
    "duration": 13,
    "start_time": "2023-10-20T14:55:18.623Z"
   },
   {
    "duration": 16,
    "start_time": "2023-10-20T14:55:18.637Z"
   },
   {
    "duration": 68,
    "start_time": "2023-10-20T14:55:18.655Z"
   },
   {
    "duration": 14,
    "start_time": "2023-10-20T14:55:18.724Z"
   },
   {
    "duration": 20,
    "start_time": "2023-10-20T14:55:18.739Z"
   },
   {
    "duration": 17,
    "start_time": "2023-10-20T14:55:18.760Z"
   },
   {
    "duration": 530,
    "start_time": "2023-10-20T14:56:41.841Z"
   },
   {
    "duration": 9568,
    "start_time": "2023-10-20T14:56:42.373Z"
   },
   {
    "duration": 73,
    "start_time": "2023-10-20T14:56:51.943Z"
   },
   {
    "duration": 12,
    "start_time": "2023-10-20T14:56:52.018Z"
   },
   {
    "duration": 10,
    "start_time": "2023-10-20T14:56:52.032Z"
   },
   {
    "duration": 52,
    "start_time": "2023-10-20T14:56:52.043Z"
   },
   {
    "duration": 15,
    "start_time": "2023-10-20T14:56:52.097Z"
   },
   {
    "duration": 18,
    "start_time": "2023-10-20T14:56:52.114Z"
   },
   {
    "duration": 13,
    "start_time": "2023-10-20T14:56:52.134Z"
   },
   {
    "duration": 485,
    "start_time": "2023-10-20T15:06:43.405Z"
   },
   {
    "duration": 10618,
    "start_time": "2023-10-20T15:06:43.892Z"
   },
   {
    "duration": 56,
    "start_time": "2023-10-20T15:06:54.511Z"
   },
   {
    "duration": 15,
    "start_time": "2023-10-20T15:06:54.569Z"
   },
   {
    "duration": 34,
    "start_time": "2023-10-20T15:06:54.586Z"
   },
   {
    "duration": 99,
    "start_time": "2023-10-20T15:06:54.622Z"
   },
   {
    "duration": 12,
    "start_time": "2023-10-20T15:06:54.723Z"
   },
   {
    "duration": 28,
    "start_time": "2023-10-20T15:06:54.737Z"
   },
   {
    "duration": 32,
    "start_time": "2023-10-20T15:06:54.766Z"
   },
   {
    "duration": 494,
    "start_time": "2023-10-20T15:08:08.170Z"
   },
   {
    "duration": 9935,
    "start_time": "2023-10-20T15:08:08.666Z"
   },
   {
    "duration": 50,
    "start_time": "2023-10-20T15:08:18.603Z"
   },
   {
    "duration": 12,
    "start_time": "2023-10-20T15:08:18.655Z"
   },
   {
    "duration": 21,
    "start_time": "2023-10-20T15:08:18.668Z"
   },
   {
    "duration": 66,
    "start_time": "2023-10-20T15:08:18.690Z"
   },
   {
    "duration": 12,
    "start_time": "2023-10-20T15:08:18.757Z"
   },
   {
    "duration": 35,
    "start_time": "2023-10-20T15:08:18.770Z"
   },
   {
    "duration": 14,
    "start_time": "2023-10-20T15:08:18.807Z"
   }
  ],
  "kernelspec": {
   "display_name": "Python 3 (ipykernel)",
   "language": "python",
   "name": "python3"
  },
  "language_info": {
   "codemirror_mode": {
    "name": "ipython",
    "version": 3
   },
   "file_extension": ".py",
   "mimetype": "text/x-python",
   "name": "python",
   "nbconvert_exporter": "python",
   "pygments_lexer": "ipython3",
   "version": "3.9.13"
  },
  "toc": {
   "base_numbering": 1,
   "nav_menu": {
    "height": "136.989px",
    "width": "300.994px"
   },
   "number_sections": true,
   "sideBar": true,
   "skip_h1_title": true,
   "title_cell": "Table of Contents",
   "title_sidebar": "Contents",
   "toc_cell": false,
   "toc_position": {},
   "toc_section_display": true,
   "toc_window_display": false
  }
 },
 "nbformat": 4,
 "nbformat_minor": 2
}
